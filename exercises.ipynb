{
 "cells": [
  {
   "cell_type": "markdown",
   "id": "0",
   "metadata": {},
   "source": [
    "# In-Class Exercises 4 (solution)\n",
    "\n",
    "The data that you will use come from the [replication package]() to Ricardo Duque\n",
    "Gabriel, Mathias Klein, and Ana Sofia Pessoa: *The Political Costs of Austerity*,\n",
    "forthcoming at the Review of Economics and Statistics.\n",
    "\n",
    "> **Note:**\n",
    "> \n",
    "> Please commit every time you solve one of the exercises. An example commit message\n",
    "> could be `\"Solution to question 1\"`. Feel free to commit more than once per\n",
    "> exercise if solving it requires multiple complicated steps.\n",
    ">\n",
    "> Push every now and then and switch to somebody else's machine."
   ]
  },
  {
   "attachments": {},
   "cell_type": "markdown",
   "id": "1",
   "metadata": {},
   "source": [
    "## Using the `pathlib` library"
   ]
  },
  {
   "cell_type": "markdown",
   "id": "875d3da7",
   "metadata": {},
   "source": [
    "---\n",
    "### Question 1\n",
    "\n",
    "Assign the path of the current directory to a variable `this_dir`. \n",
    "\n",
    "Verify that the type of the variable is `pathlib.PosixPath` (`PosixPath` are used on Unix-like systems such as Linux ans macOS) or `pathlib.WindowsPath`. \n",
    "\n",
    "Display the absolute path of the directory."
   ]
  },
  {
   "cell_type": "code",
   "execution_count": null,
   "id": "3",
   "metadata": {},
   "outputs": [],
   "source": []
  },
  {
   "cell_type": "markdown",
   "id": "4",
   "metadata": {},
   "source": [
    "---\n",
    "### Question 2\n",
    "\n",
    "In the `original_data` directory, there is a file called `Data_Elections.dta`. Assign\n",
    "the path of this file to a variable `data_file`. The type of the variable should be \n",
    "`pathlib.PosixPath` or `pathlib.WindowsPath`. \n",
    "\n",
    "- When creating the `Path` object, do not use absolute paths.\n",
    "- Display the absolute path of the `data_file`."
   ]
  },
  {
   "cell_type": "code",
   "execution_count": null,
   "id": "5",
   "metadata": {},
   "outputs": [],
   "source": []
  },
  {
   "cell_type": "markdown",
   "id": "6",
   "metadata": {},
   "source": [
    "---\n",
    "### Bonus: Question 3 \n",
    "\n",
    "This question is optional and meant to sharpen your theoretical understanding for absolute and relative paths. Skip if you want. \n",
    "\n",
    "Using only the objects `this_dir` and `data_file` along with their methods, get the relative path to `data_file` as seen from `this_dir`. Display the relative path.\n",
    "\n",
    "> Note: We have not seen this in the screencast; you are on your own with your favourite\n",
    "> search engine."
   ]
  },
  {
   "cell_type": "code",
   "execution_count": null,
   "id": "7",
   "metadata": {},
   "outputs": [],
   "source": []
  },
  {
   "cell_type": "markdown",
   "id": "8",
   "metadata": {},
   "source": [
    "## pandas"
   ]
  },
  {
   "cell_type": "markdown",
   "id": "36ffe7d1",
   "metadata": {},
   "source": [
    "---\n",
    "### Question 4\n",
    "\n",
    "- Import the `pandas` library as `pd`. "
   ]
  },
  {
   "cell_type": "code",
   "execution_count": null,
   "id": "9",
   "metadata": {},
   "outputs": [],
   "source": []
  },
  {
   "cell_type": "markdown",
   "id": "acc8b86e",
   "metadata": {},
   "source": [
    "The following options are useful:\n",
    "- With these options, you use \"modern\" Pandas. \n",
    "- It sets the plotting backend to `plotly`."
   ]
  },
  {
   "cell_type": "code",
   "execution_count": null,
   "id": "d7465e1f",
   "metadata": {},
   "outputs": [],
   "source": [
    "pd.options.mode.copy_on_write = True\n",
    "pd.options.future.infer_string = True\n",
    "pd.options.plotting.backend = \"plotly\""
   ]
  },
  {
   "cell_type": "markdown",
   "id": "10",
   "metadata": {},
   "source": [
    "\n",
    "---\n",
    "### Question 5\n",
    "\n",
    "Read the file `Data_Elections.dta` into a `pd.DataFrame` object called `data`. Use the\n",
    "`data_file` object for doing so.\n",
    "\n",
    "You are likely to get an error when doing so. Find out\n",
    "how to fix it. *(Hint: The error message is even more explicit than usually in Python;\n",
    "you may want to have a carefully look at it despite its length. If working in VS Code,\n",
    "make sure that you can see the entire message by selecting from the view options at the\n",
    "bottom of the cell output)*"
   ]
  },
  {
   "cell_type": "code",
   "execution_count": null,
   "id": "11",
   "metadata": {},
   "outputs": [],
   "source": []
  },
  {
   "cell_type": "markdown",
   "id": "12",
   "metadata": {},
   "source": [
    "---\n",
    "### Question 6\n",
    "\n",
    "Familiarise yourself with the dataset. E.g., you may want to look the column names, the\n",
    "shape, some rows, data types ..."
   ]
  },
  {
   "cell_type": "code",
   "execution_count": null,
   "id": "13",
   "metadata": {},
   "outputs": [],
   "source": []
  },
  {
   "cell_type": "markdown",
   "id": "17",
   "metadata": {},
   "source": [
    "---\n",
    "### Question 7\n",
    "\n",
    "We had to discard some information when reading the dataset. Luckily, we can access all\n",
    "of it using a low-level `pd.io.StataReader` object. This will allow us to look at all meta\n",
    "information that is stored with the dataset in Stata format.\n",
    "\n",
    "Create `data_info` that contains the `pd.io.StataReader` object. Use the `data_file` object for\n",
    "doing so."
   ]
  },
  {
   "cell_type": "code",
   "execution_count": null,
   "id": "18",
   "metadata": {},
   "outputs": [],
   "source": []
  },
  {
   "cell_type": "markdown",
   "id": "19",
   "metadata": {},
   "source": [
    "Look at the various `labels` attributes of the `pd.StataReader` object. Explain what\n",
    "they do. Can you explain now why the error occurred when reading the dataset?"
   ]
  },
  {
   "cell_type": "code",
   "execution_count": null,
   "id": "20",
   "metadata": {},
   "outputs": [],
   "source": []
  },
  {
   "cell_type": "markdown",
   "id": "24",
   "metadata": {},
   "source": [
    "---\n",
    "### Question 8\n",
    "\n",
    "Look at the structure of `data` again. Would you keep all of\n",
    "\n",
    "- `Country` and `cid`?\n",
    "- `Nuts_id`,  `Name`, and `id`?\n",
    "\n",
    "Why or why not?\n"
   ]
  },
  {
   "cell_type": "code",
   "execution_count": null,
   "id": "a37375fd",
   "metadata": {},
   "outputs": [],
   "source": []
  },
  {
   "cell_type": "markdown",
   "id": "26",
   "metadata": {},
   "source": [
    "---\n",
    "### Bonus: Question 9 (only if you have some time left)\n",
    "\n",
    "This question is optional and means to justify why we can drop `cid` and `id`.\n",
    "\n",
    "Make sure that we can safely drop `cid` and `id` from the dataset by finding out the unique combinations of the sets of variables from the previous question.\n",
    "\n",
    "> Note: The `.unique()` method only works on Series, you'll need to use `.drop_duplicates()`."
   ]
  },
  {
   "cell_type": "code",
   "execution_count": null,
   "id": "27",
   "metadata": {},
   "outputs": [],
   "source": []
  },
  {
   "cell_type": "markdown",
   "id": "31",
   "metadata": {},
   "source": [
    "---\n",
    "### Question 10\n",
    "\n",
    "Drop `cid` and `id` from the dataset, which you should continue to store in the variable\n",
    "`data`. Verify that the columns are gone.\n",
    "\n",
    "To do so, you can either use the `drop(columns=[...])` method or select those columns\n",
    "that you want to keep (there are even more options). Can you think of a reasons for each\n",
    "strategy, particularly in an interactive setting like a notebook?"
   ]
  },
  {
   "cell_type": "code",
   "execution_count": null,
   "id": "32",
   "metadata": {},
   "outputs": [],
   "source": []
  },
  {
   "cell_type": "markdown",
   "id": "34",
   "metadata": {},
   "source": [
    "---\n",
    "### Question 11\n",
    "\n",
    "Give the columns (more) sensible names using the `lowercase_with_underscores`\n",
    "convention. You should continue to store the dataset in the variable `data`. \n",
    "\n",
    "> Note: While trying out, you don't want to assign to `data` yet because once you change\n",
    "> the column names, you cannot access the old ones anymore. That will eventually be \n",
    "> fine, but not in the interactive setting yet.\n",
    "\n",
    "> Tip: You can just copy the output of the `variable_labels()` call above to get\n",
    "> started."
   ]
  },
  {
   "cell_type": "code",
   "execution_count": null,
   "id": "35",
   "metadata": {},
   "outputs": [],
   "source": []
  },
  {
   "cell_type": "markdown",
   "id": "36",
   "metadata": {},
   "source": [
    "---\n",
    "### Question 12\n",
    "\n",
    "Convert all variables to sensible data types. In some cases, you may want to keep the column names, in some cases you may want to generate new ones. Briefly explain all of  your choices."
   ]
  },
  {
   "cell_type": "markdown",
   "id": "1973008a",
   "metadata": {},
   "source": [
    "#### `\"country\", \"nuts_id\", \"nuts_name\"` to `pd.CategoricalDtype()`\n",
    "\n",
    "This can be done in one step because the variables already have sensible labels."
   ]
  },
  {
   "cell_type": "code",
   "execution_count": null,
   "id": "37",
   "metadata": {},
   "outputs": [],
   "source": []
  },
  {
   "cell_type": "markdown",
   "id": "5bd8602f",
   "metadata": {},
   "source": [
    "### `year` to a `pd.Int16Dtype()`"
   ]
  },
  {
   "cell_type": "code",
   "execution_count": null,
   "id": "39",
   "metadata": {},
   "outputs": [],
   "source": []
  },
  {
   "cell_type": "markdown",
   "id": "9252263b",
   "metadata": {},
   "source": [
    "### `election_type` to a `pd.CategoricalDtype()`\n",
    "\n",
    "The labels are not meaningful, but we can use the `value_labels` attribute of the\n",
    "   `pd.StataReader` object to get the labels.\n",
    "\n",
    "1. Create `election_cats`, a dictionary with the labels from the `value_labels`) \n",
    "2. Replace the duplicated label with `National + Regional A` and `National + Regional B`\n",
    "3. First, convert `election_type` to a `pd.Int8Dtype()` and then to a `pd.CategoricalDtype()`\n",
    "4. Last, you can use the `election_cats` dictionary to convert the labels to a\n",
    "   `pd.CategoricalDtype()`."
   ]
  },
  {
   "cell_type": "code",
   "execution_count": null,
   "id": "41",
   "metadata": {},
   "outputs": [],
   "source": []
  },
  {
   "cell_type": "markdown",
   "id": "e9a8815d",
   "metadata": {},
   "source": [
    "### Round and convert all columns starting with `number` to `pd.Int32Dtype()` (except for `number_parties_effective`)"
   ]
  },
  {
   "cell_type": "code",
   "execution_count": null,
   "id": "43",
   "metadata": {},
   "outputs": [],
   "source": []
  },
  {
   "cell_type": "markdown",
   "id": "6e20eecb",
   "metadata": {},
   "source": [
    "### `pm_party_left` to `pd.CategoricalDtype()`\n",
    "- Convert it first to a `pd.Int8Dtype()` and then to a `pd.CategoricalDtype()`\n",
    "- You can then rename the categories to meaningful labels"
   ]
  },
  {
   "cell_type": "code",
   "execution_count": null,
   "id": "45",
   "metadata": {},
   "outputs": [],
   "source": []
  },
  {
   "cell_type": "markdown",
   "id": "47",
   "metadata": {},
   "source": [
    "---\n",
    "### Question 13\n",
    "\n",
    "Summarise the cleaned data in a similar way as above. Now also look at summary\n",
    "statistics, including value counts of categorical variables. Do you notice anything\n",
    "when doing the latter? If so, will you have to be careful for interpreting descriptive\n",
    "statistics?"
   ]
  },
  {
   "cell_type": "code",
   "execution_count": null,
   "id": "48",
   "metadata": {},
   "outputs": [],
   "source": []
  },
  {
   "cell_type": "markdown",
   "id": "59",
   "metadata": {},
   "source": [
    "---\n",
    "### Question 14\n",
    "\n",
    "Make three plots of mean vote shares by year, across all NUTS regions and elections.\n",
    "- far right share\n",
    "- far left share\n",
    "- far share (any)\n",
    "\n",
    "Don't worry about whether these plots make a lot of sense (i.e., any weighting with\n",
    "electorate size or the like)."
   ]
  },
  {
   "cell_type": "code",
   "execution_count": null,
   "id": "60",
   "metadata": {},
   "outputs": [],
   "source": []
  },
  {
   "cell_type": "code",
   "execution_count": null,
   "id": "61",
   "metadata": {},
   "outputs": [],
   "source": []
  },
  {
   "cell_type": "markdown",
   "id": "64",
   "metadata": {},
   "source": [
    "---\n",
    "### Question 15\n",
    "\n",
    "Make three scatterplots of vote shares by year, across all NUTS regions and elections.\n",
    "\n",
    "- far right share\n",
    "- far left share\n",
    "- far share (any)\n",
    "\n",
    "Colour the dots using the country."
   ]
  },
  {
   "cell_type": "code",
   "execution_count": null,
   "id": "65",
   "metadata": {},
   "outputs": [],
   "source": []
  },
  {
   "cell_type": "code",
   "execution_count": null,
   "id": "67",
   "metadata": {},
   "outputs": [],
   "source": []
  },
  {
   "cell_type": "code",
   "execution_count": null,
   "id": "70652460",
   "metadata": {},
   "outputs": [],
   "source": []
  }
 ],
 "metadata": {
  "kernelspec": {
   "display_name": "hsg-spring2025",
   "language": "python",
   "name": "python3"
  },
  "language_info": {
   "codemirror_mode": {
    "name": "ipython",
    "version": 3
   },
   "file_extension": ".py",
   "mimetype": "text/x-python",
   "name": "python",
   "nbconvert_exporter": "python",
   "pygments_lexer": "ipython3",
   "version": "3.12.6"
  }
 },
 "nbformat": 4,
 "nbformat_minor": 5
}
