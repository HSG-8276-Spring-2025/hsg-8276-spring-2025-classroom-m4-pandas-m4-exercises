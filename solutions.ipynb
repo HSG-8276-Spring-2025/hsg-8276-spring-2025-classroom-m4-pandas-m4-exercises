{
 "cells": [
  {
   "cell_type": "markdown",
   "id": "0",
   "metadata": {},
   "source": [
    "# In-Class Exercises 4 (solution)\n",
    "\n",
    "The data that you will use come from the [replication package]() to Ricardo Duque\n",
    "Gabriel, Mathias Klein, and Ana Sofia Pessoa: *The Political Costs of Austerity*,\n",
    "forthcoming at the Review of Economics and Statistics.\n",
    "\n",
    "> **Note:**\n",
    "> \n",
    "> Please commit every time you solve one of the exercises. An example commit message\n",
    "> could be `\"Solution to question 1\"`. Feel free to commit more than once per\n",
    "> exercise if solving it requires multiple complicated steps.\n",
    ">\n",
    "> Push every now and then and switch to somebody else's machine."
   ]
  },
  {
   "attachments": {},
   "cell_type": "markdown",
   "id": "1",
   "metadata": {},
   "source": [
    "## Using the `pathlib` library"
   ]
  },
  {
   "cell_type": "markdown",
   "id": "875d3da7",
   "metadata": {},
   "source": [
    "---\n",
    "### Question 1\n",
    "\n",
    "Assign the path of the current directory to a variable `this_dir`. \n",
    "\n",
    "Verify that the type of the variable is `pathlib.PosixPath` (`PosixPath` are used on Unix-like systems such as Linux ans macOS) or `pathlib.WindowsPath`. \n",
    "\n",
    "Display the absolute path of the directory."
   ]
  },
  {
   "cell_type": "code",
   "execution_count": 1,
   "id": "2",
   "metadata": {},
   "outputs": [
    {
     "data": {
      "text/plain": [
       "pathlib.PosixPath"
      ]
     },
     "execution_count": 1,
     "metadata": {},
     "output_type": "execute_result"
    }
   ],
   "source": [
    "from pathlib import Path\n",
    "\n",
    "this_dir = Path()\n",
    "type(this_dir)"
   ]
  },
  {
   "cell_type": "code",
   "execution_count": 2,
   "id": "3",
   "metadata": {},
   "outputs": [
    {
     "data": {
      "text/plain": [
       "PosixPath('/Users/malka/Dropbox/teaching-uliege/ HSG-8276-Spring-2025/m4-exercises')"
      ]
     },
     "execution_count": 2,
     "metadata": {},
     "output_type": "execute_result"
    }
   ],
   "source": [
    "this_dir.resolve()"
   ]
  },
  {
   "cell_type": "markdown",
   "id": "4",
   "metadata": {},
   "source": [
    "---\n",
    "### Question 2\n",
    "\n",
    "In the `original_data` directory, there is a file called `Data_Elections.dta`. Assign\n",
    "the path of this file to a variable `data_file`. The type of the variable should be \n",
    "`pathlib.PosixPath` or `pathlib.WindowsPath`. \n",
    "\n",
    "- When creating the `Path` object, do not use absolute paths.\n",
    "- Display the absolute path of the `data_file`."
   ]
  },
  {
   "cell_type": "code",
   "execution_count": 3,
   "id": "5",
   "metadata": {},
   "outputs": [
    {
     "data": {
      "text/plain": [
       "PosixPath('/Users/malka/Dropbox/teaching-uliege/ HSG-8276-Spring-2025/m4-exercises/original_data/Data_Elections.dta')"
      ]
     },
     "execution_count": 3,
     "metadata": {},
     "output_type": "execute_result"
    }
   ],
   "source": [
    "data_file = this_dir / \"original_data\" / \"Data_Elections.dta\"\n",
    "data_file.resolve()"
   ]
  },
  {
   "cell_type": "markdown",
   "id": "6",
   "metadata": {},
   "source": [
    "---\n",
    "### Bonus: Question 3 \n",
    "\n",
    "This question is optional and meant to sharpen your theoretical understanding for absolute and relative paths. Skip if you want. \n",
    "\n",
    "Using only the objects `this_dir` and `data_file` along with their methods, get the relative path to `data_file` as seen from `this_dir`. Display the relative path.\n",
    "\n",
    "> Note: We have not seen this in the screencast; you are on your own with your favourite\n",
    "> search engine."
   ]
  },
  {
   "cell_type": "code",
   "execution_count": 4,
   "id": "7",
   "metadata": {},
   "outputs": [
    {
     "data": {
      "text/plain": [
       "PosixPath('original_data/Data_Elections.dta')"
      ]
     },
     "execution_count": 4,
     "metadata": {},
     "output_type": "execute_result"
    }
   ],
   "source": [
    "data_file.resolve().relative_to(this_dir.resolve())"
   ]
  },
  {
   "cell_type": "markdown",
   "id": "8",
   "metadata": {},
   "source": [
    "## pandas"
   ]
  },
  {
   "cell_type": "markdown",
   "id": "36ffe7d1",
   "metadata": {},
   "source": [
    "---\n",
    "### Question 4\n",
    "\n",
    "- Import the `pandas` library as `pd`. "
   ]
  },
  {
   "cell_type": "code",
   "execution_count": 5,
   "id": "9",
   "metadata": {},
   "outputs": [],
   "source": [
    "import pandas as pd"
   ]
  },
  {
   "cell_type": "markdown",
   "id": "acc8b86e",
   "metadata": {},
   "source": [
    "The following options are useful:\n",
    "- With these options, you use \"modern\" Pandas. \n",
    "- It sets the plotting backend to `plotly`."
   ]
  },
  {
   "cell_type": "code",
   "execution_count": 6,
   "id": "d7465e1f",
   "metadata": {},
   "outputs": [],
   "source": [
    "pd.options.mode.copy_on_write = True\n",
    "pd.options.future.infer_string = True\n",
    "pd.options.plotting.backend = \"plotly\""
   ]
  },
  {
   "cell_type": "markdown",
   "id": "10",
   "metadata": {},
   "source": [
    "\n",
    "---\n",
    "### Question 5\n",
    "\n",
    "Read the file `Data_Elections.dta` into a `pd.DataFrame` object called `data`. Use the\n",
    "`data_file` object for doing so.\n",
    "\n",
    "You are likely to get an error when doing so. Find out\n",
    "how to fix it. *(Hint: The error message is even more explicit than usually in Python;\n",
    "you may want to have a carefully look at it despite its length. If working in VS Code,\n",
    "make sure that you can see the entire message by selecting from the view options at the\n",
    "bottom of the cell output)*"
   ]
  },
  {
   "cell_type": "code",
   "execution_count": 7,
   "id": "11",
   "metadata": {},
   "outputs": [],
   "source": [
    "data = pd.read_stata(data_file, convert_categoricals=False)"
   ]
  },
  {
   "cell_type": "markdown",
   "id": "12",
   "metadata": {},
   "source": [
    "---\n",
    "### Question 6\n",
    "\n",
    "Familiarise yourself with the dataset. E.g., you may want to look the column names, the\n",
    "shape, some rows, data types ..."
   ]
  },
  {
   "cell_type": "code",
   "execution_count": 8,
   "id": "13",
   "metadata": {},
   "outputs": [
    {
     "data": {
      "text/plain": [
       "Index(['Country', 'cid', 'Nuts_id', 'Name', 'Year', 'ElectionType',\n",
       "       'EligibleVoters', 'Valid', 'HHI', 'Far_Right', 'Far_Left',\n",
       "       'Far_Right_share', 'Far_Left_share', 'Far_share', 'Turnout',\n",
       "       'F0Far_Incumbent', 'left', 'id'],\n",
       "      dtype='string')"
      ]
     },
     "execution_count": 8,
     "metadata": {},
     "output_type": "execute_result"
    }
   ],
   "source": [
    "data.columns"
   ]
  },
  {
   "cell_type": "code",
   "execution_count": 9,
   "id": "14",
   "metadata": {},
   "outputs": [
    {
     "data": {
      "text/plain": [
       "(4536, 18)"
      ]
     },
     "execution_count": 9,
     "metadata": {},
     "output_type": "execute_result"
    }
   ],
   "source": [
    "data.shape"
   ]
  },
  {
   "cell_type": "code",
   "execution_count": 10,
   "id": "15",
   "metadata": {},
   "outputs": [
    {
     "data": {
      "application/vnd.microsoft.datawrangler.viewer.v0+json": {
       "columns": [
        {
         "name": "index",
         "rawType": "int64",
         "type": "integer"
        },
        {
         "name": "Country",
         "rawType": "string",
         "type": "string"
        },
        {
         "name": "cid",
         "rawType": "float32",
         "type": "float"
        },
        {
         "name": "Nuts_id",
         "rawType": "string",
         "type": "string"
        },
        {
         "name": "Name",
         "rawType": "string",
         "type": "string"
        },
        {
         "name": "Year",
         "rawType": "float64",
         "type": "float"
        },
        {
         "name": "ElectionType",
         "rawType": "float32",
         "type": "float"
        },
        {
         "name": "EligibleVoters",
         "rawType": "float64",
         "type": "float"
        },
        {
         "name": "Valid",
         "rawType": "float64",
         "type": "float"
        },
        {
         "name": "HHI",
         "rawType": "float32",
         "type": "float"
        },
        {
         "name": "Far_Right",
         "rawType": "float64",
         "type": "float"
        },
        {
         "name": "Far_Left",
         "rawType": "float64",
         "type": "float"
        },
        {
         "name": "Far_Right_share",
         "rawType": "float32",
         "type": "float"
        },
        {
         "name": "Far_Left_share",
         "rawType": "float32",
         "type": "float"
        },
        {
         "name": "Far_share",
         "rawType": "float32",
         "type": "float"
        },
        {
         "name": "Turnout",
         "rawType": "float32",
         "type": "float"
        },
        {
         "name": "F0Far_Incumbent",
         "rawType": "float32",
         "type": "float"
        },
        {
         "name": "left",
         "rawType": "float32",
         "type": "float"
        },
        {
         "name": "id",
         "rawType": "float32",
         "type": "float"
        }
       ],
       "conversionMethod": "pd.DataFrame",
       "ref": "76e09735-8b5f-4909-a2f5-dbc85df83f52",
       "rows": [
        [
         "0",
         "Austria",
         "1.0",
         "AT11",
         "Burgenland (AT)",
         "1980.0",
         null,
         "192225.0",
         "180717.0",
         "0.47413176",
         "4941.0",
         "694.0",
         "0.027341092",
         "0.0038402586",
         "0.03118135",
         "0.94913775",
         "0.0",
         "1.0",
         "1.0"
        ],
        [
         "1",
         "Austria",
         "1.0",
         "AT11",
         "Burgenland (AT)",
         "1981.0",
         null,
         "192225.0",
         "180717.0",
         "0.47413176",
         "4941.0",
         "694.0",
         "0.027341092",
         "0.0038402586",
         "0.03118135",
         "0.94913775",
         "0.0",
         "1.0",
         "1.0"
        ],
        [
         "2",
         "Austria",
         "1.0",
         "AT11",
         "Burgenland (AT)",
         "1982.0",
         "3.0",
         "198000.0",
         "173691.0",
         "0.469377",
         "5559.0",
         "942.0",
         "0.032005113",
         "0.0054234243",
         "0.037428536",
         "0.9006717",
         "0.0",
         "1.0",
         "1.0"
        ],
        [
         "3",
         "Austria",
         "1.0",
         "AT11",
         "Burgenland (AT)",
         "1983.0",
         "1.0",
         "197459.0",
         "184704.0",
         "0.46047065",
         "4090.0",
         "543.0",
         "0.022143537",
         "0.002939839",
         "0.025083376",
         "0.9477157",
         "4090.0",
         "1.0",
         "1.0"
        ],
        [
         "4",
         "Austria",
         "1.0",
         "AT11",
         "Burgenland (AT)",
         "1984.0",
         null,
         "197459.0",
         "184704.0",
         "0.46047065",
         "4090.0",
         "543.0",
         "0.022143537",
         "0.002939839",
         "0.025083376",
         "0.9477157",
         "4090.0",
         "1.0",
         "1.0"
        ],
        [
         "5",
         "Austria",
         "1.0",
         "AT11",
         "Burgenland (AT)",
         "1985.0",
         null,
         "197459.0",
         "184704.0",
         "0.46047065",
         "4090.0",
         "543.0",
         "0.022143537",
         "0.002939839",
         "0.025083376",
         "0.9477157",
         "4090.0",
         "1.0",
         "1.0"
        ],
        [
         "6",
         "Austria",
         "1.0",
         "AT11",
         "Burgenland (AT)",
         "1986.0",
         "1.0",
         "200572.0",
         "185497.0",
         "0.4267596",
         "9985.0",
         "626.0",
         "0.053828362",
         "0.0033747177",
         "0.05720308",
         "0.93766326",
         "0.0",
         "1.0",
         "1.0"
        ],
        [
         "7",
         "Austria",
         "1.0",
         "AT11",
         "Burgenland (AT)",
         "1987.0",
         "3.0",
         "203012.0",
         "175766.0",
         "0.40218103",
         "12855.0",
         "991.0",
         "0.073137015",
         "0.005638178",
         "0.07877519",
         "0.8900262",
         "0.0",
         "1.0",
         "1.0"
        ],
        [
         "8",
         "Austria",
         "1.0",
         "AT11",
         "Burgenland (AT)",
         "1988.0",
         null,
         "203012.0",
         "175766.0",
         "0.40218103",
         "12855.0",
         "991.0",
         "0.073137015",
         "0.005638178",
         "0.07877519",
         "0.8900262",
         "0.0",
         "1.0",
         "1.0"
        ],
        [
         "9",
         "Austria",
         "1.0",
         "AT11",
         "Burgenland (AT)",
         "1989.0",
         null,
         "203012.0",
         "175766.0",
         "0.40218103",
         "12855.0",
         "991.0",
         "0.073137015",
         "0.005638178",
         "0.07877519",
         "0.8900262",
         "0.0",
         "1.0",
         "1.0"
        ],
        [
         "10",
         "Austria",
         "1.0",
         "AT11",
         "Burgenland (AT)",
         "1990.0",
         "1.0",
         "205541.0",
         "180334.0",
         "0.38727775",
         "19971.0",
         "477.0",
         "0.110744506",
         "0.0026450919",
         "0.1133896",
         "0.90215576",
         "0.0",
         "1.0",
         "1.0"
        ],
        [
         "11",
         "Austria",
         "1.0",
         "AT11",
         "Burgenland (AT)",
         "1991.0",
         "3.0",
         "208051.0",
         "172331.0",
         "0.38821843",
         "16793.0",
         "0.0",
         "0.097446196",
         "0.0",
         "0.097446196",
         "0.85459816",
         "0.0",
         "1.0",
         "1.0"
        ],
        [
         "12",
         "Austria",
         "1.0",
         "AT11",
         "Burgenland (AT)",
         "1992.0",
         null,
         "208051.0",
         "172331.0",
         "0.38821843",
         "16793.0",
         "0.0",
         "0.097446196",
         "0.0",
         "0.097446196",
         "0.85459816",
         "0.0",
         "1.0",
         "1.0"
        ],
        [
         "13",
         "Austria",
         "1.0",
         "AT11",
         "Burgenland (AT)",
         "1993.0",
         null,
         "208051.0",
         "172331.0",
         "0.38821843",
         "16793.0",
         "0.0",
         "0.097446196",
         "0.0",
         "0.097446196",
         "0.85459816",
         "0.0",
         "1.0",
         "1.0"
        ],
        [
         "14",
         "Austria",
         "1.0",
         "AT11",
         "Burgenland (AT)",
         "1994.0",
         "1.0",
         "212341.0",
         "183240.0",
         "0.3255086",
         "30640.0",
         "182.0",
         "0.1672124",
         "0.0009932329",
         "0.16820563",
         "0.8817892",
         "0.0",
         "1.0",
         "1.0"
        ],
        [
         "15",
         "Austria",
         "1.0",
         "AT11",
         "Burgenland (AT)",
         "1995.0",
         "1.0",
         "212319.0",
         "185983.0",
         "0.33109212",
         "31509.0",
         "238.0",
         "0.16941871",
         "0.0012796868",
         "0.17069839",
         "0.89707",
         "0.0",
         "1.0",
         "1.0"
        ],
        [
         "16",
         "Austria",
         "1.0",
         "AT11",
         "Burgenland (AT)",
         "1996.0",
         "6.0",
         "433200.0",
         "331112.0",
         "0.33000755",
         "59824.0",
         "387.0",
         "0.18067603",
         "0.0011687888",
         "0.18184482",
         "0.7927493",
         "0.0",
         "1.0",
         "1.0"
        ],
        [
         "17",
         "Austria",
         "1.0",
         "AT11",
         "Burgenland (AT)",
         "1997.0",
         null,
         "433200.0",
         "331112.0",
         "0.33000755",
         "59824.0",
         "387.0",
         "0.18067603",
         "0.0011687888",
         "0.18184482",
         "0.7927493",
         "0.0",
         "1.0",
         "1.0"
        ],
        [
         "18",
         "Austria",
         "1.0",
         "AT11",
         "Burgenland (AT)",
         "1998.0",
         null,
         "433200.0",
         "331112.0",
         "0.33000755",
         "59824.0",
         "387.0",
         "0.18067603",
         "0.0011687888",
         "0.18184482",
         "0.7927493",
         "0.0",
         "1.0",
         "1.0"
        ],
        [
         "19",
         "Austria",
         "1.0",
         "AT11",
         "Burgenland (AT)",
         "1999.0",
         "4.0",
         "428929.0",
         "322690.0",
         "0.31888568",
         "63190.0",
         "915.0",
         "0.19582261",
         "0.0028355387",
         "0.19865815",
         "0.7720672",
         "63190.0",
         "0.0",
         "1.0"
        ],
        [
         "20",
         "Austria",
         "1.0",
         "AT11",
         "Burgenland (AT)",
         "2000.0",
         "3.0",
         "226752.0",
         "183274.0",
         "0.3604749",
         "23154.0",
         "0.0",
         "0.12633543",
         "0.0",
         "0.12633543",
         "0.82723415",
         "23154.0",
         "0.0",
         "1.0"
        ],
        [
         "21",
         "Austria",
         "1.0",
         "AT11",
         "Burgenland (AT)",
         "2001.0",
         null,
         "226752.0",
         "183274.0",
         "0.3604749",
         "23154.0",
         "0.0",
         "0.12633543",
         "0.0",
         "0.12633543",
         "0.82723415",
         "23154.0",
         "0.0",
         "1.0"
        ],
        [
         "22",
         "Austria",
         "1.0",
         "AT11",
         "Burgenland (AT)",
         "2002.0",
         "1.0",
         "215784.0",
         "191294.0",
         "0.39613518",
         "12163.0",
         "475.0",
         "0.063582756",
         "0.0024830888",
         "0.06606585",
         "0.9001177",
         "12163.0",
         "0.0",
         "1.0"
        ],
        [
         "23",
         "Austria",
         "1.0",
         "AT11",
         "Burgenland (AT)",
         "2003.0",
         null,
         "215784.0",
         "191294.0",
         "0.39613518",
         "12163.0",
         "475.0",
         "0.063582756",
         "0.0024830888",
         "0.06606585",
         "0.9001177",
         "12163.0",
         "0.0",
         "1.0"
        ],
        [
         "24",
         "Austria",
         "1.0",
         "AT11",
         "Burgenland (AT)",
         "2004.0",
         "2.0",
         "220205.0",
         "124634.0",
         "0.32679468",
         "4784.0",
         "464.0",
         "0.03838439",
         "0.0037229008",
         "0.04210729",
         "0.58252084",
         "4784.0",
         "0.0",
         "1.0"
        ],
        [
         "25",
         "Austria",
         "1.0",
         "AT11",
         "Burgenland (AT)",
         "2005.0",
         "3.0",
         "242218.0",
         "191674.0",
         "0.41457915",
         "11077.0",
         "0.0",
         "0.05779083",
         "0.0",
         "0.05779083",
         "0.8138412",
         "11077.0",
         "0.0",
         "1.0"
        ],
        [
         "26",
         "Austria",
         "1.0",
         "AT11",
         "Burgenland (AT)",
         "2006.0",
         "1.0",
         "222281.0",
         "188823.0",
         "0.34397867",
         "19583.0",
         "962.0",
         "0.10371088",
         "0.005094718",
         "0.1088056",
         "0.8683198",
         "0.0",
         "1.0",
         "1.0"
        ],
        [
         "27",
         "Austria",
         "1.0",
         "AT11",
         "Burgenland (AT)",
         "2007.0",
         null,
         "222281.0",
         "188823.0",
         "0.34397867",
         "19583.0",
         "962.0",
         "0.10371088",
         "0.005094718",
         "0.1088056",
         "0.8683198",
         "0.0",
         "1.0",
         "1.0"
        ],
        [
         "28",
         "Austria",
         "1.0",
         "AT11",
         "Burgenland (AT)",
         "2008.0",
         "1.0",
         "230188.0",
         "193765.0",
         "0.27745134",
         "41602.0",
         "874.0",
         "0.21470338",
         "0.0045106187",
         "0.21921399",
         "0.8637027",
         "0.0",
         "1.0",
         "1.0"
        ],
        [
         "29",
         "Austria",
         "1.0",
         "AT11",
         "Burgenland (AT)",
         "2009.0",
         "2.0",
         "231698.0",
         "124212.0",
         "0.25329763",
         "16979.0",
         "418.0",
         "0.13669372",
         "0.0033652142",
         "0.14005893",
         "0.5518865",
         "0.0",
         "1.0",
         "1.0"
        ],
        [
         "30",
         "Austria",
         "1.0",
         "AT11",
         "Burgenland (AT)",
         "2010.0",
         "3.0",
         "248694.0",
         "188960.0",
         "0.36408034",
         "16970.0",
         "0.0",
         "0.08980737",
         "0.0",
         "0.08980737",
         "0.7730223",
         "0.0",
         "1.0",
         "1.0"
        ],
        [
         "31",
         "Austria",
         "1.0",
         "AT11",
         "Burgenland (AT)",
         "2011.0",
         null,
         "248694.0",
         "188960.0",
         "0.36408034",
         "16970.0",
         "0.0",
         "0.08980737",
         "0.0",
         "0.08980737",
         "0.7730223",
         "0.0",
         "1.0",
         "1.0"
        ],
        [
         "32",
         "Austria",
         "1.0",
         "AT11",
         "Burgenland (AT)",
         "2012.0",
         null,
         "248694.0",
         "188960.0",
         "0.36408034",
         "16970.0",
         "0.0",
         "0.08980737",
         "0.0",
         "0.08980737",
         "0.7730223",
         "0.0",
         "1.0",
         "1.0"
        ],
        [
         "33",
         "Austria",
         "1.0",
         "AT11",
         "Burgenland (AT)",
         "2013.0",
         "1.0",
         "232505.0",
         "188384.0",
         "0.24997331",
         "36394.0",
         "930.0",
         "0.1931905",
         "0.004936725",
         "0.19812723",
         "0.82787895",
         "0.0",
         "1.0",
         "1.0"
        ],
        [
         "34",
         "Austria",
         "1.0",
         "AT11",
         "Burgenland (AT)",
         "2014.0",
         "2.0",
         "233920.0",
         "120344.0",
         "0.2501982",
         "21726.0",
         "0.0",
         "0.18053247",
         "0.0",
         "0.18053247",
         "0.5366493",
         "0.0",
         "1.0",
         "1.0"
        ],
        [
         "35",
         "Austria",
         "1.0",
         "AT11",
         "Burgenland (AT)",
         "2015.0",
         "3.0",
         "250607.0",
         "185962.0",
         "0.28990406",
         "27963.0",
         "0.0",
         "0.15036944",
         "0.0",
         "0.15036944",
         "0.7603778",
         "0.0",
         "1.0",
         "1.0"
        ],
        [
         "36",
         "Austria",
         "1.0",
         "AT12",
         "Niederösterreich",
         "1980.0",
         null,
         "2011385.0",
         "1809017.0",
         "0.45634818",
         "62344.0",
         "13894.0",
         "0.034462914",
         "0.0076804142",
         "0.04214333",
         "0.9086803",
         "0.0",
         "1.0",
         "2.0"
        ],
        [
         "37",
         "Austria",
         "1.0",
         "AT12",
         "Niederösterreich",
         "1981.0",
         null,
         "2011385.0",
         "1809017.0",
         "0.45634818",
         "62344.0",
         "13894.0",
         "0.034462914",
         "0.0076804142",
         "0.04214333",
         "0.9086803",
         "0.0",
         "1.0",
         "2.0"
        ],
        [
         "38",
         "Austria",
         "1.0",
         "AT12",
         "Niederösterreich",
         "1982.0",
         null,
         "2011385.0",
         "1809017.0",
         "0.45634818",
         "62344.0",
         "13894.0",
         "0.034462914",
         "0.0076804142",
         "0.04214333",
         "0.9086803",
         "0.0",
         "1.0",
         "2.0"
        ],
        [
         "39",
         "Austria",
         "1.0",
         "AT12",
         "Niederösterreich",
         "1983.0",
         "5.0",
         "2157461.0",
         "1885024.0",
         "0.45615375",
         "44447.0",
         "13453.0",
         "0.02357901",
         "0.0071367794",
         "0.03071579",
         "0.8884462",
         "44447.0",
         "1.0",
         "2.0"
        ],
        [
         "40",
         "Austria",
         "1.0",
         "AT12",
         "Niederösterreich",
         "1984.0",
         null,
         "2157461.0",
         "1885024.0",
         "0.45615375",
         "44447.0",
         "13453.0",
         "0.02357901",
         "0.0071367794",
         "0.03071579",
         "0.8884462",
         "44447.0",
         "1.0",
         "2.0"
        ],
        [
         "41",
         "Austria",
         "1.0",
         "AT12",
         "Niederösterreich",
         "1985.0",
         null,
         "2157461.0",
         "1885024.0",
         "0.45615375",
         "44447.0",
         "13453.0",
         "0.02357901",
         "0.0071367794",
         "0.03071579",
         "0.8884462",
         "44447.0",
         "1.0",
         "2.0"
        ],
        [
         "42",
         "Austria",
         "1.0",
         "AT12",
         "Niederösterreich",
         "1986.0",
         "1.0",
         "1042311.0",
         "950126.0",
         "0.40865654",
         "57828.0",
         "5815.0",
         "0.060863506",
         "0.006120241",
         "0.066983745",
         "0.9251989",
         "0.0",
         "1.0",
         "2.0"
        ],
        [
         "43",
         "Austria",
         "1.0",
         "AT12",
         "Niederösterreich",
         "1987.0",
         null,
         "1042311.0",
         "950126.0",
         "0.40865654",
         "57828.0",
         "5815.0",
         "0.060863506",
         "0.006120241",
         "0.066983745",
         "0.9251989",
         "0.0",
         "1.0",
         "2.0"
        ],
        [
         "44",
         "Austria",
         "1.0",
         "AT12",
         "Niederösterreich",
         "1988.0",
         "3.0",
         "1213853.0",
         "951383.0",
         "0.3753217",
         "91029.0",
         "7934.0",
         "0.095680706",
         "0.008339439",
         "0.10402015",
         "0.7899169",
         "0.0",
         "1.0",
         "2.0"
        ],
        [
         "45",
         "Austria",
         "1.0",
         "AT12",
         "Niederösterreich",
         "1989.0",
         null,
         "1213853.0",
         "951383.0",
         "0.3753217",
         "91029.0",
         "7934.0",
         "0.095680706",
         "0.008339439",
         "0.10402015",
         "0.7899169",
         "0.0",
         "1.0",
         "2.0"
        ],
        [
         "46",
         "Austria",
         "1.0",
         "AT12",
         "Niederösterreich",
         "1990.0",
         "1.0",
         "1078506.0",
         "932394.0",
         "0.34958652",
         "114201.0",
         "4082.0",
         "0.12248148",
         "0.0043779775",
         "0.12685946",
         "0.88832515",
         "0.0",
         "1.0",
         "2.0"
        ],
        [
         "47",
         "Austria",
         "1.0",
         "AT12",
         "Niederösterreich",
         "1991.0",
         null,
         "1078506.0",
         "932394.0",
         "0.34958652",
         "114201.0",
         "4082.0",
         "0.12248148",
         "0.0043779775",
         "0.12685946",
         "0.88832515",
         "0.0",
         "1.0",
         "2.0"
        ],
        [
         "48",
         "Austria",
         "1.0",
         "AT12",
         "Niederösterreich",
         "1992.0",
         null,
         "1078506.0",
         "932394.0",
         "0.34958652",
         "114201.0",
         "4082.0",
         "0.12248148",
         "0.0043779775",
         "0.12685946",
         "0.88832515",
         "0.0",
         "1.0",
         "2.0"
        ],
        [
         "49",
         "Austria",
         "1.0",
         "AT12",
         "Niederösterreich",
         "1993.0",
         "3.0",
         "1269391.0",
         "932164.0",
         "0.3294111",
         "111433.0",
         "2170.0",
         "0.11954227",
         "0.0023279164",
         "0.12187019",
         "0.7553567",
         "0.0",
         "1.0",
         "2.0"
        ]
       ],
       "shape": {
        "columns": 18,
        "rows": 4536
       }
      },
      "text/html": [
       "<div>\n",
       "<style scoped>\n",
       "    .dataframe tbody tr th:only-of-type {\n",
       "        vertical-align: middle;\n",
       "    }\n",
       "\n",
       "    .dataframe tbody tr th {\n",
       "        vertical-align: top;\n",
       "    }\n",
       "\n",
       "    .dataframe thead th {\n",
       "        text-align: right;\n",
       "    }\n",
       "</style>\n",
       "<table border=\"1\" class=\"dataframe\">\n",
       "  <thead>\n",
       "    <tr style=\"text-align: right;\">\n",
       "      <th></th>\n",
       "      <th>Country</th>\n",
       "      <th>cid</th>\n",
       "      <th>Nuts_id</th>\n",
       "      <th>Name</th>\n",
       "      <th>Year</th>\n",
       "      <th>ElectionType</th>\n",
       "      <th>EligibleVoters</th>\n",
       "      <th>Valid</th>\n",
       "      <th>HHI</th>\n",
       "      <th>Far_Right</th>\n",
       "      <th>Far_Left</th>\n",
       "      <th>Far_Right_share</th>\n",
       "      <th>Far_Left_share</th>\n",
       "      <th>Far_share</th>\n",
       "      <th>Turnout</th>\n",
       "      <th>F0Far_Incumbent</th>\n",
       "      <th>left</th>\n",
       "      <th>id</th>\n",
       "    </tr>\n",
       "  </thead>\n",
       "  <tbody>\n",
       "    <tr>\n",
       "      <th>0</th>\n",
       "      <td>Austria</td>\n",
       "      <td>1.0</td>\n",
       "      <td>AT11</td>\n",
       "      <td>Burgenland (AT)</td>\n",
       "      <td>1980.0</td>\n",
       "      <td>NaN</td>\n",
       "      <td>192225.0</td>\n",
       "      <td>180717.0</td>\n",
       "      <td>0.474132</td>\n",
       "      <td>4941.0</td>\n",
       "      <td>694.0</td>\n",
       "      <td>0.027341</td>\n",
       "      <td>0.003840</td>\n",
       "      <td>0.031181</td>\n",
       "      <td>0.949138</td>\n",
       "      <td>0.0</td>\n",
       "      <td>1.0</td>\n",
       "      <td>1.0</td>\n",
       "    </tr>\n",
       "    <tr>\n",
       "      <th>1</th>\n",
       "      <td>Austria</td>\n",
       "      <td>1.0</td>\n",
       "      <td>AT11</td>\n",
       "      <td>Burgenland (AT)</td>\n",
       "      <td>1981.0</td>\n",
       "      <td>NaN</td>\n",
       "      <td>192225.0</td>\n",
       "      <td>180717.0</td>\n",
       "      <td>0.474132</td>\n",
       "      <td>4941.0</td>\n",
       "      <td>694.0</td>\n",
       "      <td>0.027341</td>\n",
       "      <td>0.003840</td>\n",
       "      <td>0.031181</td>\n",
       "      <td>0.949138</td>\n",
       "      <td>0.0</td>\n",
       "      <td>1.0</td>\n",
       "      <td>1.0</td>\n",
       "    </tr>\n",
       "    <tr>\n",
       "      <th>2</th>\n",
       "      <td>Austria</td>\n",
       "      <td>1.0</td>\n",
       "      <td>AT11</td>\n",
       "      <td>Burgenland (AT)</td>\n",
       "      <td>1982.0</td>\n",
       "      <td>3.0</td>\n",
       "      <td>198000.0</td>\n",
       "      <td>173691.0</td>\n",
       "      <td>0.469377</td>\n",
       "      <td>5559.0</td>\n",
       "      <td>942.0</td>\n",
       "      <td>0.032005</td>\n",
       "      <td>0.005423</td>\n",
       "      <td>0.037429</td>\n",
       "      <td>0.900672</td>\n",
       "      <td>0.0</td>\n",
       "      <td>1.0</td>\n",
       "      <td>1.0</td>\n",
       "    </tr>\n",
       "    <tr>\n",
       "      <th>3</th>\n",
       "      <td>Austria</td>\n",
       "      <td>1.0</td>\n",
       "      <td>AT11</td>\n",
       "      <td>Burgenland (AT)</td>\n",
       "      <td>1983.0</td>\n",
       "      <td>1.0</td>\n",
       "      <td>197459.0</td>\n",
       "      <td>184704.0</td>\n",
       "      <td>0.460471</td>\n",
       "      <td>4090.0</td>\n",
       "      <td>543.0</td>\n",
       "      <td>0.022144</td>\n",
       "      <td>0.002940</td>\n",
       "      <td>0.025083</td>\n",
       "      <td>0.947716</td>\n",
       "      <td>4090.0</td>\n",
       "      <td>1.0</td>\n",
       "      <td>1.0</td>\n",
       "    </tr>\n",
       "    <tr>\n",
       "      <th>4</th>\n",
       "      <td>Austria</td>\n",
       "      <td>1.0</td>\n",
       "      <td>AT11</td>\n",
       "      <td>Burgenland (AT)</td>\n",
       "      <td>1984.0</td>\n",
       "      <td>NaN</td>\n",
       "      <td>197459.0</td>\n",
       "      <td>184704.0</td>\n",
       "      <td>0.460471</td>\n",
       "      <td>4090.0</td>\n",
       "      <td>543.0</td>\n",
       "      <td>0.022144</td>\n",
       "      <td>0.002940</td>\n",
       "      <td>0.025083</td>\n",
       "      <td>0.947716</td>\n",
       "      <td>4090.0</td>\n",
       "      <td>1.0</td>\n",
       "      <td>1.0</td>\n",
       "    </tr>\n",
       "    <tr>\n",
       "      <th>...</th>\n",
       "      <td>...</td>\n",
       "      <td>...</td>\n",
       "      <td>...</td>\n",
       "      <td>...</td>\n",
       "      <td>...</td>\n",
       "      <td>...</td>\n",
       "      <td>...</td>\n",
       "      <td>...</td>\n",
       "      <td>...</td>\n",
       "      <td>...</td>\n",
       "      <td>...</td>\n",
       "      <td>...</td>\n",
       "      <td>...</td>\n",
       "      <td>...</td>\n",
       "      <td>...</td>\n",
       "      <td>...</td>\n",
       "      <td>...</td>\n",
       "      <td>...</td>\n",
       "    </tr>\n",
       "    <tr>\n",
       "      <th>4531</th>\n",
       "      <td>Sweden</td>\n",
       "      <td>8.0</td>\n",
       "      <td>SE33</td>\n",
       "      <td>Övre Norrland</td>\n",
       "      <td>2011.0</td>\n",
       "      <td>NaN</td>\n",
       "      <td>803062.0</td>\n",
       "      <td>660666.0</td>\n",
       "      <td>0.255184</td>\n",
       "      <td>16251.0</td>\n",
       "      <td>68424.0</td>\n",
       "      <td>0.024598</td>\n",
       "      <td>0.103568</td>\n",
       "      <td>0.128166</td>\n",
       "      <td>0.835183</td>\n",
       "      <td>0.0</td>\n",
       "      <td>0.0</td>\n",
       "      <td>126.0</td>\n",
       "    </tr>\n",
       "    <tr>\n",
       "      <th>4532</th>\n",
       "      <td>Sweden</td>\n",
       "      <td>8.0</td>\n",
       "      <td>SE33</td>\n",
       "      <td>Övre Norrland</td>\n",
       "      <td>2012.0</td>\n",
       "      <td>NaN</td>\n",
       "      <td>803062.0</td>\n",
       "      <td>660666.0</td>\n",
       "      <td>0.255184</td>\n",
       "      <td>16251.0</td>\n",
       "      <td>68424.0</td>\n",
       "      <td>0.024598</td>\n",
       "      <td>0.103568</td>\n",
       "      <td>0.128166</td>\n",
       "      <td>0.835183</td>\n",
       "      <td>0.0</td>\n",
       "      <td>0.0</td>\n",
       "      <td>126.0</td>\n",
       "    </tr>\n",
       "    <tr>\n",
       "      <th>4533</th>\n",
       "      <td>Sweden</td>\n",
       "      <td>8.0</td>\n",
       "      <td>SE33</td>\n",
       "      <td>Övre Norrland</td>\n",
       "      <td>2013.0</td>\n",
       "      <td>NaN</td>\n",
       "      <td>803062.0</td>\n",
       "      <td>660666.0</td>\n",
       "      <td>0.255184</td>\n",
       "      <td>16251.0</td>\n",
       "      <td>68424.0</td>\n",
       "      <td>0.024598</td>\n",
       "      <td>0.103568</td>\n",
       "      <td>0.128166</td>\n",
       "      <td>0.835183</td>\n",
       "      <td>0.0</td>\n",
       "      <td>0.0</td>\n",
       "      <td>126.0</td>\n",
       "    </tr>\n",
       "    <tr>\n",
       "      <th>4534</th>\n",
       "      <td>Sweden</td>\n",
       "      <td>8.0</td>\n",
       "      <td>SE33</td>\n",
       "      <td>Övre Norrland</td>\n",
       "      <td>2014.0</td>\n",
       "      <td>7.0</td>\n",
       "      <td>1211834.0</td>\n",
       "      <td>877980.0</td>\n",
       "      <td>0.213000</td>\n",
       "      <td>59626.0</td>\n",
       "      <td>94202.0</td>\n",
       "      <td>0.067913</td>\n",
       "      <td>0.107294</td>\n",
       "      <td>0.175207</td>\n",
       "      <td>0.734514</td>\n",
       "      <td>0.0</td>\n",
       "      <td>1.0</td>\n",
       "      <td>126.0</td>\n",
       "    </tr>\n",
       "    <tr>\n",
       "      <th>4535</th>\n",
       "      <td>Sweden</td>\n",
       "      <td>8.0</td>\n",
       "      <td>SE33</td>\n",
       "      <td>Övre Norrland</td>\n",
       "      <td>2015.0</td>\n",
       "      <td>NaN</td>\n",
       "      <td>1211834.0</td>\n",
       "      <td>877980.0</td>\n",
       "      <td>0.213000</td>\n",
       "      <td>59626.0</td>\n",
       "      <td>94202.0</td>\n",
       "      <td>0.067913</td>\n",
       "      <td>0.107294</td>\n",
       "      <td>0.175207</td>\n",
       "      <td>0.734514</td>\n",
       "      <td>0.0</td>\n",
       "      <td>1.0</td>\n",
       "      <td>126.0</td>\n",
       "    </tr>\n",
       "  </tbody>\n",
       "</table>\n",
       "<p>4536 rows × 18 columns</p>\n",
       "</div>"
      ],
      "text/plain": [
       "      Country  cid Nuts_id             Name    Year  ElectionType  \\\n",
       "0     Austria  1.0    AT11  Burgenland (AT)  1980.0           NaN   \n",
       "1     Austria  1.0    AT11  Burgenland (AT)  1981.0           NaN   \n",
       "2     Austria  1.0    AT11  Burgenland (AT)  1982.0           3.0   \n",
       "3     Austria  1.0    AT11  Burgenland (AT)  1983.0           1.0   \n",
       "4     Austria  1.0    AT11  Burgenland (AT)  1984.0           NaN   \n",
       "...       ...  ...     ...              ...     ...           ...   \n",
       "4531   Sweden  8.0    SE33    Övre Norrland  2011.0           NaN   \n",
       "4532   Sweden  8.0    SE33    Övre Norrland  2012.0           NaN   \n",
       "4533   Sweden  8.0    SE33    Övre Norrland  2013.0           NaN   \n",
       "4534   Sweden  8.0    SE33    Övre Norrland  2014.0           7.0   \n",
       "4535   Sweden  8.0    SE33    Övre Norrland  2015.0           NaN   \n",
       "\n",
       "      EligibleVoters     Valid       HHI  Far_Right  Far_Left  \\\n",
       "0           192225.0  180717.0  0.474132     4941.0     694.0   \n",
       "1           192225.0  180717.0  0.474132     4941.0     694.0   \n",
       "2           198000.0  173691.0  0.469377     5559.0     942.0   \n",
       "3           197459.0  184704.0  0.460471     4090.0     543.0   \n",
       "4           197459.0  184704.0  0.460471     4090.0     543.0   \n",
       "...              ...       ...       ...        ...       ...   \n",
       "4531        803062.0  660666.0  0.255184    16251.0   68424.0   \n",
       "4532        803062.0  660666.0  0.255184    16251.0   68424.0   \n",
       "4533        803062.0  660666.0  0.255184    16251.0   68424.0   \n",
       "4534       1211834.0  877980.0  0.213000    59626.0   94202.0   \n",
       "4535       1211834.0  877980.0  0.213000    59626.0   94202.0   \n",
       "\n",
       "      Far_Right_share  Far_Left_share  Far_share   Turnout  F0Far_Incumbent  \\\n",
       "0            0.027341        0.003840   0.031181  0.949138              0.0   \n",
       "1            0.027341        0.003840   0.031181  0.949138              0.0   \n",
       "2            0.032005        0.005423   0.037429  0.900672              0.0   \n",
       "3            0.022144        0.002940   0.025083  0.947716           4090.0   \n",
       "4            0.022144        0.002940   0.025083  0.947716           4090.0   \n",
       "...               ...             ...        ...       ...              ...   \n",
       "4531         0.024598        0.103568   0.128166  0.835183              0.0   \n",
       "4532         0.024598        0.103568   0.128166  0.835183              0.0   \n",
       "4533         0.024598        0.103568   0.128166  0.835183              0.0   \n",
       "4534         0.067913        0.107294   0.175207  0.734514              0.0   \n",
       "4535         0.067913        0.107294   0.175207  0.734514              0.0   \n",
       "\n",
       "      left     id  \n",
       "0      1.0    1.0  \n",
       "1      1.0    1.0  \n",
       "2      1.0    1.0  \n",
       "3      1.0    1.0  \n",
       "4      1.0    1.0  \n",
       "...    ...    ...  \n",
       "4531   0.0  126.0  \n",
       "4532   0.0  126.0  \n",
       "4533   0.0  126.0  \n",
       "4534   1.0  126.0  \n",
       "4535   1.0  126.0  \n",
       "\n",
       "[4536 rows x 18 columns]"
      ]
     },
     "execution_count": 10,
     "metadata": {},
     "output_type": "execute_result"
    }
   ],
   "source": [
    "data"
   ]
  },
  {
   "cell_type": "code",
   "execution_count": 11,
   "id": "16",
   "metadata": {},
   "outputs": [
    {
     "data": {
      "text/plain": [
       "Country            string[pyarrow_numpy]\n",
       "cid                              float32\n",
       "Nuts_id            string[pyarrow_numpy]\n",
       "Name               string[pyarrow_numpy]\n",
       "Year                             float64\n",
       "ElectionType                     float32\n",
       "EligibleVoters                   float64\n",
       "Valid                            float64\n",
       "HHI                              float32\n",
       "Far_Right                        float64\n",
       "Far_Left                         float64\n",
       "Far_Right_share                  float32\n",
       "Far_Left_share                   float32\n",
       "Far_share                        float32\n",
       "Turnout                          float32\n",
       "F0Far_Incumbent                  float32\n",
       "left                             float32\n",
       "id                               float32\n",
       "dtype: object"
      ]
     },
     "execution_count": 11,
     "metadata": {},
     "output_type": "execute_result"
    }
   ],
   "source": [
    "data.dtypes"
   ]
  },
  {
   "cell_type": "markdown",
   "id": "17",
   "metadata": {},
   "source": [
    "---\n",
    "### Question 7\n",
    "\n",
    "We had to discard some information when reading the dataset. Luckily, we can access all\n",
    "of it using a low-level `pd.io.StataReader` object. This will allow us to look at all meta\n",
    "information that is stored with the dataset in Stata format.\n",
    "\n",
    "Create `data_info` that contains the `pd.io.StataReader` object. Use the `data_file` object for\n",
    "doing so."
   ]
  },
  {
   "cell_type": "code",
   "execution_count": 12,
   "id": "18",
   "metadata": {},
   "outputs": [],
   "source": [
    "data_info = pd.io.stata.StataReader(data_file)"
   ]
  },
  {
   "cell_type": "markdown",
   "id": "19",
   "metadata": {},
   "source": [
    "Look at the various `labels` attributes of the `pd.StataReader` object. Explain what\n",
    "they do. Can you explain now why the error occurred when reading the dataset?"
   ]
  },
  {
   "cell_type": "code",
   "execution_count": 13,
   "id": "20",
   "metadata": {},
   "outputs": [
    {
     "data": {
      "text/plain": [
       "{'Country': '',\n",
       " 'cid': 'group(Country)',\n",
       " 'Nuts_id': 'Nuts ID',\n",
       " 'Name': 'Nuts Name',\n",
       " 'Year': '',\n",
       " 'ElectionType': 'Type of Election(s) occurring in a specific year',\n",
       " 'EligibleVoters': 'Number of total voters',\n",
       " 'Valid': 'Number of total valid votes',\n",
       " 'HHI': 'Effective Number of Parties',\n",
       " 'Far_Right': 'Total number of votes in far right parties',\n",
       " 'Far_Left': 'Total number of votes in far left parties',\n",
       " 'Far_Right_share': '',\n",
       " 'Far_Left_share': '',\n",
       " 'Far_share': '',\n",
       " 'Turnout': 'Share of Total Votes over Eligible Voters',\n",
       " 'F0Far_Incumbent': 'Number of votes of far parties part of the government',\n",
       " 'left': \"1 if the incumbent government's prime-minister belongs to a left-leaning party\",\n",
       " 'id': 'group(Nuts_id)'}"
      ]
     },
     "execution_count": 13,
     "metadata": {},
     "output_type": "execute_result"
    }
   ],
   "source": [
    "data_info.variable_labels()"
   ]
  },
  {
   "cell_type": "code",
   "execution_count": 14,
   "id": "21",
   "metadata": {},
   "outputs": [
    {
     "data": {
      "text/plain": [
       "{'ElectionType': {1: 'National',\n",
       "  2: 'European',\n",
       "  3: 'Regional',\n",
       "  4: 'National + European',\n",
       "  5: 'National + Regional',\n",
       "  6: 'European + Regional + European',\n",
       "  7: 'National + Regional',\n",
       "  8: '2 National',\n",
       "  9: '2 Regional',\n",
       "  10: 'European + 2 Regional'}}"
      ]
     },
     "execution_count": 14,
     "metadata": {},
     "output_type": "execute_result"
    }
   ],
   "source": [
    "data_info.value_labels()"
   ]
  },
  {
   "cell_type": "code",
   "execution_count": 15,
   "id": "22",
   "metadata": {},
   "outputs": [
    {
     "data": {
      "text/plain": [
       "''"
      ]
     },
     "execution_count": 15,
     "metadata": {},
     "output_type": "execute_result"
    }
   ],
   "source": [
    "data_info.data_label"
   ]
  },
  {
   "cell_type": "markdown",
   "id": "23",
   "metadata": {},
   "source": [
    "\n",
    "- `data_label` is a string describing the dataset. In this case, it is empty.\n",
    "\n",
    "- `variable_labels` is a dictionary mapping the column names we have in our dataset to verbose descriptions.\n",
    "\n",
    "- `value_labels` is a nested dictionary with column names as keys on the outer level.\n",
    "  The inner dictionaries map the numeric values in the dataset to verbose descriptions.\n",
    "  It is filled only for `ElectionType`. This is very much how `pd.Categorical` is\n",
    "  stored internally, although we cannot see the numerical values in that case (which is\n",
    "  a good thing! Far too easy to run numerical calculations with unordered categorical\n",
    "  variables in Stata accidentally).\n",
    "\n",
    "- The error occurred because the `National + Regional` label is repeated for two\n",
    "  different values of `ElectionType`. \n",
    "    - While `value_labels` are supposed to be a bijection, Stata does not enforce this. \n",
    "    - Pandas will check it when converting the `value_labels` dictionary to a `pd.Categorical` object with the value labels as\n",
    "  categories. \n",
    "  Since categories need to be unique, 5 and 7 would be merged and information would be lost. Hence the error.\n"
   ]
  },
  {
   "cell_type": "markdown",
   "id": "24",
   "metadata": {},
   "source": [
    "---\n",
    "### Question 8\n",
    "\n",
    "Look at the structure of `data` again. Would you keep all of\n",
    "\n",
    "- `Country` and `cid`?\n",
    "- `Nuts_id`,  `Name`, and `id`?\n",
    "\n",
    "Why or why not?\n"
   ]
  },
  {
   "cell_type": "markdown",
   "id": "25",
   "metadata": {},
   "source": [
    "\n",
    "- No reason to keep `cid`. Countries are very few and we have the country names. Most\n",
    "  certainly, these are no official country codes, so we won't need them for merging.\n",
    "\n",
    "- `Nuts_id` is a unique identifier for the regions and they look quite official. \n",
    "  - While we do have the names, they may easily differ across datasets (unicode characters, \n",
    "  parentheses, ...) or not be present in all datasets. \n",
    "  \n",
    "- `id` looks like a numerical code for `Nuts_id`, but we better verify."
   ]
  },
  {
   "cell_type": "markdown",
   "id": "26",
   "metadata": {},
   "source": [
    "---\n",
    "### Bonus: Question 9 (only if you have some time left)\n",
    "\n",
    "This question is optional and means to justify why we can drop `cid` and `id`.\n",
    "\n",
    "Make sure that we can safely drop `cid` and `id` from the dataset by finding out the unique combinations of the sets of variables from the previous question.\n",
    "\n",
    "> Note: The `.unique()` method only works on Series, you'll need to use `.drop_duplicates()`."
   ]
  },
  {
   "cell_type": "code",
   "execution_count": 16,
   "id": "27",
   "metadata": {},
   "outputs": [
    {
     "data": {
      "application/vnd.microsoft.datawrangler.viewer.v0+json": {
       "columns": [
        {
         "name": "index",
         "rawType": "int64",
         "type": "integer"
        },
        {
         "name": "Country",
         "rawType": "string",
         "type": "string"
        },
        {
         "name": "cid",
         "rawType": "float32",
         "type": "float"
        }
       ],
       "conversionMethod": "pd.DataFrame",
       "ref": "1a7d98c8-7464-4a06-bfe3-d8807db77cf8",
       "rows": [
        [
         "0",
         "Austria",
         "1.0"
        ],
        [
         "324",
         "Germany",
         "4.0"
        ],
        [
         "1692",
         "Spain",
         "7.0"
        ],
        [
         "2304",
         "Finland",
         "2.0"
        ],
        [
         "2448",
         "France",
         "3.0"
        ],
        [
         "3240",
         "Italy",
         "5.0"
        ],
        [
         "3996",
         "Portugal",
         "6.0"
        ],
        [
         "4248",
         "Sweden",
         "8.0"
        ]
       ],
       "shape": {
        "columns": 2,
        "rows": 8
       }
      },
      "text/html": [
       "<div>\n",
       "<style scoped>\n",
       "    .dataframe tbody tr th:only-of-type {\n",
       "        vertical-align: middle;\n",
       "    }\n",
       "\n",
       "    .dataframe tbody tr th {\n",
       "        vertical-align: top;\n",
       "    }\n",
       "\n",
       "    .dataframe thead th {\n",
       "        text-align: right;\n",
       "    }\n",
       "</style>\n",
       "<table border=\"1\" class=\"dataframe\">\n",
       "  <thead>\n",
       "    <tr style=\"text-align: right;\">\n",
       "      <th></th>\n",
       "      <th>Country</th>\n",
       "      <th>cid</th>\n",
       "    </tr>\n",
       "  </thead>\n",
       "  <tbody>\n",
       "    <tr>\n",
       "      <th>0</th>\n",
       "      <td>Austria</td>\n",
       "      <td>1.0</td>\n",
       "    </tr>\n",
       "    <tr>\n",
       "      <th>324</th>\n",
       "      <td>Germany</td>\n",
       "      <td>4.0</td>\n",
       "    </tr>\n",
       "    <tr>\n",
       "      <th>1692</th>\n",
       "      <td>Spain</td>\n",
       "      <td>7.0</td>\n",
       "    </tr>\n",
       "    <tr>\n",
       "      <th>2304</th>\n",
       "      <td>Finland</td>\n",
       "      <td>2.0</td>\n",
       "    </tr>\n",
       "    <tr>\n",
       "      <th>2448</th>\n",
       "      <td>France</td>\n",
       "      <td>3.0</td>\n",
       "    </tr>\n",
       "    <tr>\n",
       "      <th>3240</th>\n",
       "      <td>Italy</td>\n",
       "      <td>5.0</td>\n",
       "    </tr>\n",
       "    <tr>\n",
       "      <th>3996</th>\n",
       "      <td>Portugal</td>\n",
       "      <td>6.0</td>\n",
       "    </tr>\n",
       "    <tr>\n",
       "      <th>4248</th>\n",
       "      <td>Sweden</td>\n",
       "      <td>8.0</td>\n",
       "    </tr>\n",
       "  </tbody>\n",
       "</table>\n",
       "</div>"
      ],
      "text/plain": [
       "       Country  cid\n",
       "0      Austria  1.0\n",
       "324    Germany  4.0\n",
       "1692     Spain  7.0\n",
       "2304   Finland  2.0\n",
       "2448    France  3.0\n",
       "3240     Italy  5.0\n",
       "3996  Portugal  6.0\n",
       "4248    Sweden  8.0"
      ]
     },
     "execution_count": 16,
     "metadata": {},
     "output_type": "execute_result"
    }
   ],
   "source": [
    "\n",
    "data[[\"Country\", \"cid\"]].drop_duplicates()"
   ]
  },
  {
   "cell_type": "code",
   "execution_count": 17,
   "id": "28",
   "metadata": {},
   "outputs": [
    {
     "data": {
      "text/plain": [
       "True"
      ]
     },
     "execution_count": 17,
     "metadata": {},
     "output_type": "execute_result"
    }
   ],
   "source": [
    "(\n",
    "    len(data[[\"Country\", \"cid\"]].drop_duplicates()) # unique country/cid pairs\n",
    "    == len(data[[\"Country\"]].drop_duplicates()) # unique countries\n",
    "    == len(data[[\"cid\"]].drop_duplicates()) # unique cids\n",
    ")"
   ]
  },
  {
   "cell_type": "code",
   "execution_count": 18,
   "id": "29",
   "metadata": {},
   "outputs": [
    {
     "data": {
      "application/vnd.microsoft.datawrangler.viewer.v0+json": {
       "columns": [
        {
         "name": "index",
         "rawType": "int64",
         "type": "integer"
        },
        {
         "name": "Nuts_id",
         "rawType": "string",
         "type": "string"
        },
        {
         "name": "Name",
         "rawType": "string",
         "type": "string"
        },
        {
         "name": "id",
         "rawType": "float32",
         "type": "float"
        }
       ],
       "conversionMethod": "pd.DataFrame",
       "ref": "0a9105df-0dd4-49cb-8070-e2203f828290",
       "rows": [
        [
         "0",
         "AT11",
         "Burgenland (AT)",
         "1.0"
        ],
        [
         "36",
         "AT12",
         "Niederösterreich",
         "2.0"
        ],
        [
         "72",
         "AT13",
         "Wien",
         "3.0"
        ],
        [
         "108",
         "AT21",
         "Kärnten",
         "4.0"
        ],
        [
         "144",
         "AT22",
         "Steiermark",
         "5.0"
        ],
        [
         "180",
         "AT31",
         "Oberösterreich",
         "6.0"
        ],
        [
         "216",
         "AT32",
         "Salzburg",
         "7.0"
        ],
        [
         "252",
         "AT33",
         "Tirol",
         "8.0"
        ],
        [
         "288",
         "AT34",
         "Vorarlberg",
         "9.0"
        ],
        [
         "324",
         "DE11",
         "Stuttgart",
         "10.0"
        ],
        [
         "360",
         "DE12",
         "Karlsruhe",
         "11.0"
        ],
        [
         "396",
         "DE13",
         "Freiburg",
         "12.0"
        ],
        [
         "432",
         "DE14",
         "Tübingen",
         "13.0"
        ],
        [
         "468",
         "DE21",
         "Oberbayern",
         "14.0"
        ],
        [
         "504",
         "DE22",
         "Niederbayern",
         "15.0"
        ],
        [
         "540",
         "DE23",
         "Oberpfalz",
         "16.0"
        ],
        [
         "576",
         "DE24",
         "Oberfranken",
         "17.0"
        ],
        [
         "612",
         "DE25",
         "Mittelfranken",
         "18.0"
        ],
        [
         "648",
         "DE26",
         "Unterfranken",
         "19.0"
        ],
        [
         "684",
         "DE27",
         "Schwaben",
         "20.0"
        ],
        [
         "720",
         "DE30",
         "Berlin",
         "21.0"
        ],
        [
         "756",
         "DE40",
         "Brandenburg",
         "22.0"
        ],
        [
         "792",
         "DE50",
         "Bremen",
         "23.0"
        ],
        [
         "828",
         "DE60",
         "Hamburg",
         "24.0"
        ],
        [
         "864",
         "DE71",
         "Darmstadt",
         "25.0"
        ],
        [
         "900",
         "DE72",
         "Gießen",
         "26.0"
        ],
        [
         "936",
         "DE73",
         "Kassel",
         "27.0"
        ],
        [
         "972",
         "DE80",
         "Mecklenburg-Vorpommern",
         "28.0"
        ],
        [
         "1008",
         "DE91",
         "Braunschweig",
         "29.0"
        ],
        [
         "1044",
         "DE92",
         "Hannover",
         "30.0"
        ],
        [
         "1080",
         "DE93",
         "Lüneburg",
         "31.0"
        ],
        [
         "1116",
         "DE94",
         "Weser-Ems",
         "32.0"
        ],
        [
         "1152",
         "DEA1",
         "Düsseldorf",
         "33.0"
        ],
        [
         "1188",
         "DEA2",
         "Köln",
         "34.0"
        ],
        [
         "1224",
         "DEA3",
         "Münster",
         "35.0"
        ],
        [
         "1260",
         "DEA4",
         "Detmold",
         "36.0"
        ],
        [
         "1296",
         "DEA5",
         "Arnsberg",
         "37.0"
        ],
        [
         "1332",
         "DEB1",
         "Koblenz",
         "38.0"
        ],
        [
         "1368",
         "DEB2",
         "Trier",
         "39.0"
        ],
        [
         "1404",
         "DEB3",
         "Rheinhessen-Pfalz",
         "40.0"
        ],
        [
         "1440",
         "DEC0",
         "Saarland",
         "41.0"
        ],
        [
         "1476",
         "DED2",
         "Dresden",
         "42.0"
        ],
        [
         "1512",
         "DED4",
         "Chemnitz",
         "43.0"
        ],
        [
         "1548",
         "DED5",
         "Leipzig",
         "44.0"
        ],
        [
         "1584",
         "DEE0",
         "Sachsen-Anhalt",
         "45.0"
        ],
        [
         "1620",
         "DEF0",
         "Schleswig-Holstein",
         "46.0"
        ],
        [
         "1656",
         "DEG0",
         "Thüringen",
         "47.0"
        ],
        [
         "1692",
         "ES11",
         "Galicia",
         "48.0"
        ],
        [
         "1728",
         "ES12",
         "Principado de Asturias",
         "49.0"
        ],
        [
         "1764",
         "ES13",
         "Cantabria",
         "50.0"
        ]
       ],
       "shape": {
        "columns": 3,
        "rows": 126
       }
      },
      "text/html": [
       "<div>\n",
       "<style scoped>\n",
       "    .dataframe tbody tr th:only-of-type {\n",
       "        vertical-align: middle;\n",
       "    }\n",
       "\n",
       "    .dataframe tbody tr th {\n",
       "        vertical-align: top;\n",
       "    }\n",
       "\n",
       "    .dataframe thead th {\n",
       "        text-align: right;\n",
       "    }\n",
       "</style>\n",
       "<table border=\"1\" class=\"dataframe\">\n",
       "  <thead>\n",
       "    <tr style=\"text-align: right;\">\n",
       "      <th></th>\n",
       "      <th>Nuts_id</th>\n",
       "      <th>Name</th>\n",
       "      <th>id</th>\n",
       "    </tr>\n",
       "  </thead>\n",
       "  <tbody>\n",
       "    <tr>\n",
       "      <th>0</th>\n",
       "      <td>AT11</td>\n",
       "      <td>Burgenland (AT)</td>\n",
       "      <td>1.0</td>\n",
       "    </tr>\n",
       "    <tr>\n",
       "      <th>36</th>\n",
       "      <td>AT12</td>\n",
       "      <td>Niederösterreich</td>\n",
       "      <td>2.0</td>\n",
       "    </tr>\n",
       "    <tr>\n",
       "      <th>72</th>\n",
       "      <td>AT13</td>\n",
       "      <td>Wien</td>\n",
       "      <td>3.0</td>\n",
       "    </tr>\n",
       "    <tr>\n",
       "      <th>108</th>\n",
       "      <td>AT21</td>\n",
       "      <td>Kärnten</td>\n",
       "      <td>4.0</td>\n",
       "    </tr>\n",
       "    <tr>\n",
       "      <th>144</th>\n",
       "      <td>AT22</td>\n",
       "      <td>Steiermark</td>\n",
       "      <td>5.0</td>\n",
       "    </tr>\n",
       "    <tr>\n",
       "      <th>...</th>\n",
       "      <td>...</td>\n",
       "      <td>...</td>\n",
       "      <td>...</td>\n",
       "    </tr>\n",
       "    <tr>\n",
       "      <th>4356</th>\n",
       "      <td>SE22</td>\n",
       "      <td>Sydsverige</td>\n",
       "      <td>122.0</td>\n",
       "    </tr>\n",
       "    <tr>\n",
       "      <th>4392</th>\n",
       "      <td>SE23</td>\n",
       "      <td>Västsverige</td>\n",
       "      <td>123.0</td>\n",
       "    </tr>\n",
       "    <tr>\n",
       "      <th>4428</th>\n",
       "      <td>SE31</td>\n",
       "      <td>Norra Mellansverige</td>\n",
       "      <td>124.0</td>\n",
       "    </tr>\n",
       "    <tr>\n",
       "      <th>4464</th>\n",
       "      <td>SE32</td>\n",
       "      <td>Mellersta Norrland</td>\n",
       "      <td>125.0</td>\n",
       "    </tr>\n",
       "    <tr>\n",
       "      <th>4500</th>\n",
       "      <td>SE33</td>\n",
       "      <td>Övre Norrland</td>\n",
       "      <td>126.0</td>\n",
       "    </tr>\n",
       "  </tbody>\n",
       "</table>\n",
       "<p>126 rows × 3 columns</p>\n",
       "</div>"
      ],
      "text/plain": [
       "     Nuts_id                 Name     id\n",
       "0       AT11      Burgenland (AT)    1.0\n",
       "36      AT12     Niederösterreich    2.0\n",
       "72      AT13                 Wien    3.0\n",
       "108     AT21              Kärnten    4.0\n",
       "144     AT22           Steiermark    5.0\n",
       "...      ...                  ...    ...\n",
       "4356    SE22           Sydsverige  122.0\n",
       "4392    SE23          Västsverige  123.0\n",
       "4428    SE31  Norra Mellansverige  124.0\n",
       "4464    SE32   Mellersta Norrland  125.0\n",
       "4500    SE33        Övre Norrland  126.0\n",
       "\n",
       "[126 rows x 3 columns]"
      ]
     },
     "execution_count": 18,
     "metadata": {},
     "output_type": "execute_result"
    }
   ],
   "source": [
    "data[[\"Nuts_id\", \"Name\", \"id\"]].drop_duplicates() # unique nuts_id/name/id pairs: gives the corresponding nuts_id and id for each region "
   ]
  },
  {
   "cell_type": "code",
   "execution_count": 19,
   "id": "30",
   "metadata": {},
   "outputs": [
    {
     "data": {
      "text/plain": [
       "True"
      ]
     },
     "execution_count": 19,
     "metadata": {},
     "output_type": "execute_result"
    }
   ],
   "source": [
    "(\n",
    "    len(data[[\"Nuts_id\", \"Name\", \"id\"]].drop_duplicates()) # unique nuts_id/name/id pairs\n",
    "    == len(data[\"Nuts_id\"].drop_duplicates()) # unique nuts_id\n",
    "    == len(data[[\"Name\"]].drop_duplicates()) # unique names\n",
    "    == len(data[[\"id\"]].drop_duplicates()) # unique ids\n",
    ")"
   ]
  },
  {
   "cell_type": "markdown",
   "id": "31",
   "metadata": {},
   "source": [
    "---\n",
    "### Question 10\n",
    "\n",
    "Drop `cid` and `id` from the dataset, which you should continue to store in the variable\n",
    "`data`. Verify that the columns are gone.\n",
    "\n",
    "To do so, you can either use the `drop(columns=[...])` method or select those columns\n",
    "that you want to keep (there are even more options). Can you think of a reasons for each\n",
    "strategy, particularly in an interactive setting like a notebook?"
   ]
  },
  {
   "cell_type": "code",
   "execution_count": 20,
   "id": "32",
   "metadata": {},
   "outputs": [
    {
     "data": {
      "text/plain": [
       "(4536, 16)"
      ]
     },
     "execution_count": 20,
     "metadata": {},
     "output_type": "execute_result"
    }
   ],
   "source": [
    "data = data.drop(columns=[\"cid\", \"id\"])\n",
    "data.shape"
   ]
  },
  {
   "cell_type": "markdown",
   "id": "33",
   "metadata": {},
   "source": [
    "\n",
    "- `drop()` is somewhat more explicit, particularly when the list of columns to be kept\n",
    "  is long\n",
    "- Selecting the columns to be kept makes it possible to execute the cell again without\n",
    "  error (though non-linear execution is somewhat dangerous)\n",
    "\n",
    "No clear winner here."
   ]
  },
  {
   "cell_type": "markdown",
   "id": "34",
   "metadata": {},
   "source": [
    "---\n",
    "### Question 11\n",
    "\n",
    "Give the columns (more) sensible names using the `lowercase_with_underscores`\n",
    "convention. You should continue to store the dataset in the variable `data`. \n",
    "\n",
    "> Note: While trying out, you don't want to assign to `data` yet because once you change\n",
    "> the column names, you cannot access the old ones anymore. That will eventually be \n",
    "> fine, but not in the interactive setting yet.\n",
    "\n",
    "> Tip: You can just copy the output of the `variable_labels()` call above to get\n",
    "> started."
   ]
  },
  {
   "cell_type": "code",
   "execution_count": 21,
   "id": "35",
   "metadata": {},
   "outputs": [],
   "source": [
    "data = data.rename(\n",
    "    columns={\n",
    "        \"Country\": \"country\",\n",
    "        \"Nuts_id\": \"nuts_id\",\n",
    "        \"Name\": \"nuts_name\",\n",
    "        \"Year\": \"year\",\n",
    "        \"ElectionType\": \"election_type\",\n",
    "        \"EligibleVoters\": \"number_eligible_voters\",\n",
    "        \"Valid\": \"number_valid_votes\",\n",
    "        \"HHI\": \"number_parties_effective\",\n",
    "        \"Far_Right\": \"number_votes_far_right\",\n",
    "        \"Far_Left\": \"number_votes_far_left\",\n",
    "        \"Far_Right_share\": \"share_votes_far_right\",\n",
    "        \"Far_Left_share\": \"share_votes_far_left\",\n",
    "        \"Far_share\": \"share_votes_far_any\",\n",
    "        \"Turnout\": \"share_voter_turnout\",\n",
    "        \"F0Far_Incumbent\": \"number_votes_far_any_incumbent\",\n",
    "        \"left\": \"pm_party_left\",\n",
    "    },\n",
    ")"
   ]
  },
  {
   "cell_type": "markdown",
   "id": "36",
   "metadata": {},
   "source": [
    "---\n",
    "### Question 12\n",
    "\n",
    "Convert all variables to sensible data types. In some cases, you may want to keep the column names, in some cases you may want to generate new ones. Briefly explain all of  your choices."
   ]
  },
  {
   "cell_type": "markdown",
   "id": "1973008a",
   "metadata": {},
   "source": [
    "#### `\"country\", \"nuts_id\", \"nuts_name\"` to `pd.CategoricalDtype()`\n",
    "\n",
    "This can be done in one step because the variables already have sensible labels."
   ]
  },
  {
   "cell_type": "code",
   "execution_count": 22,
   "id": "37",
   "metadata": {},
   "outputs": [
    {
     "data": {
      "text/plain": [
       "0       AT11\n",
       "1       AT11\n",
       "2       AT11\n",
       "3       AT11\n",
       "4       AT11\n",
       "        ... \n",
       "4531    SE33\n",
       "4532    SE33\n",
       "4533    SE33\n",
       "4534    SE33\n",
       "4535    SE33\n",
       "Name: nuts_id, Length: 4536, dtype: category\n",
       "Categories (126, string): [AT11, AT12, AT13, AT21, ..., SE23, SE31, SE32, SE33]"
      ]
     },
     "execution_count": 22,
     "metadata": {},
     "output_type": "execute_result"
    }
   ],
   "source": [
    "for col in \"country\", \"nuts_id\", \"nuts_name\":\n",
    "    data[col] = data[col].astype(pd.CategoricalDtype())\n",
    "\n",
    "data[\"nuts_id\"]"
   ]
  },
  {
   "cell_type": "markdown",
   "id": "38",
   "metadata": {},
   "source": [
    "\n",
    "- All three columns already have sensible names and sensible outcomes\n",
    "- We just need to convert to `pd.CategoricalDtype()`\n",
    "- We verify for one of the three"
   ]
  },
  {
   "cell_type": "markdown",
   "id": "5bd8602f",
   "metadata": {},
   "source": [
    "### `year` to a `pd.Int16Dtype()`"
   ]
  },
  {
   "cell_type": "code",
   "execution_count": 23,
   "id": "39",
   "metadata": {},
   "outputs": [
    {
     "data": {
      "text/plain": [
       "0       1980\n",
       "1       1981\n",
       "2       1982\n",
       "3       1983\n",
       "4       1984\n",
       "        ... \n",
       "4531    2011\n",
       "4532    2012\n",
       "4533    2013\n",
       "4534    2014\n",
       "4535    2015\n",
       "Name: year, Length: 4536, dtype: Int16"
      ]
     },
     "execution_count": 23,
     "metadata": {},
     "output_type": "execute_result"
    }
   ],
   "source": [
    "data[\"year\"] = data[\"year\"].astype(pd.Int16Dtype())\n",
    "data[\"year\"]"
   ]
  },
  {
   "cell_type": "markdown",
   "id": "9252263b",
   "metadata": {},
   "source": [
    "### `election_type` to a `pd.CategoricalDtype()`\n",
    "\n",
    "The labels are not meaningful, but we can use the `value_labels` attribute of the\n",
    "   `pd.StataReader` object to get the labels.\n",
    "\n",
    "1. Create `election_cats`, a dictionary with the labels from the `value_labels`) \n",
    "2. Replace the duplicated label with `National + Regional A` and `National + Regional B`\n",
    "3. First, convert `election_type` to a `pd.Int8Dtype()` and then to a `pd.CategoricalDtype()`\n",
    "4. Last, you can use the `election_cats` dictionary to convert the labels to a\n",
    "   `pd.CategoricalDtype()`."
   ]
  },
  {
   "cell_type": "code",
   "execution_count": 24,
   "id": "40",
   "metadata": {},
   "outputs": [
    {
     "data": {
      "text/plain": [
       "{1: 'National',\n",
       " 2: 'European',\n",
       " 3: 'Regional',\n",
       " 4: 'National + European',\n",
       " 5: 'National + Regional A',\n",
       " 6: 'European + Regional + European',\n",
       " 7: 'National + Regional B',\n",
       " 8: '2 National',\n",
       " 9: '2 Regional',\n",
       " 10: 'European + 2 Regional'}"
      ]
     },
     "execution_count": 24,
     "metadata": {},
     "output_type": "execute_result"
    }
   ],
   "source": [
    "election_cats = data_info.value_labels()[\"ElectionType\"].copy()\n",
    "for i, to_append in (5, \" A\"), (7, \" B\"):\n",
    "    election_cats[i] += to_append\n",
    "election_cats"
   ]
  },
  {
   "cell_type": "code",
   "execution_count": 25,
   "id": "f0931169",
   "metadata": {},
   "outputs": [
    {
     "data": {
      "text/plain": [
       "0       NaN\n",
       "1       NaN\n",
       "2       3.0\n",
       "3       1.0\n",
       "4       NaN\n",
       "       ... \n",
       "4531    NaN\n",
       "4532    NaN\n",
       "4533    NaN\n",
       "4534    7.0\n",
       "4535    NaN\n",
       "Name: election_type, Length: 4536, dtype: float32"
      ]
     },
     "execution_count": 25,
     "metadata": {},
     "output_type": "execute_result"
    }
   ],
   "source": [
    "data[\"election_type\"]"
   ]
  },
  {
   "cell_type": "code",
   "execution_count": 26,
   "id": "41",
   "metadata": {},
   "outputs": [
    {
     "data": {
      "text/plain": [
       "0                         NaN\n",
       "1                         NaN\n",
       "2                    Regional\n",
       "3                    National\n",
       "4                         NaN\n",
       "                ...          \n",
       "4531                      NaN\n",
       "4532                      NaN\n",
       "4533                      NaN\n",
       "4534    National + Regional B\n",
       "4535                      NaN\n",
       "Name: election_type, Length: 4536, dtype: category\n",
       "Categories (7, string): [National, European, Regional, National + European, National + Regional A, European + Regional + European, National + Regional B]"
      ]
     },
     "execution_count": 26,
     "metadata": {},
     "output_type": "execute_result"
    }
   ],
   "source": [
    "election_type = (\n",
    "    data[\"election_type\"].astype(pd.Int8Dtype()).astype(pd.CategoricalDtype())\n",
    ")\n",
    "election_type = election_type.cat.rename_categories(election_cats)\n",
    "data[\"election_type\"] = election_type\n",
    "data[\"election_type\"]"
   ]
  },
  {
   "cell_type": "markdown",
   "id": "42",
   "metadata": {},
   "source": [
    "\n",
    "- First get Stata's `value_labels` and fix the duplicate. The copy is important, else\n",
    "  we would modify the original dictionary. Note that it is important to make the copy\n",
    "  of the inner dictionary, not the outer one.\n",
    "- Election type first needs to be converted to a nullable Integer data type to match\n",
    "  the contents. Which length we use does not matter, this is temporary, anyhow.\n",
    "- Then can convert to `category`, can verify at that point that categories are \n",
    "  {1, 2, ..., 7}.\n",
    "- Then we call `.rename_categories()` with the fixed dictionary and verify the result."
   ]
  },
  {
   "cell_type": "markdown",
   "id": "e9a8815d",
   "metadata": {},
   "source": [
    "### Round and convert all columns starting with `number` to `pd.Int32Dtype()` (except for `number_parties_effective`)"
   ]
  },
  {
   "cell_type": "code",
   "execution_count": 27,
   "id": "43",
   "metadata": {},
   "outputs": [
    {
     "data": {
      "text/plain": [
       "0        192225\n",
       "1        192225\n",
       "2        198000\n",
       "3        197459\n",
       "4        197459\n",
       "         ...   \n",
       "4531     803062\n",
       "4532     803062\n",
       "4533     803062\n",
       "4534    1211834\n",
       "4535    1211834\n",
       "Name: number_eligible_voters, Length: 4536, dtype: UInt32"
      ]
     },
     "execution_count": 27,
     "metadata": {},
     "output_type": "execute_result"
    }
   ],
   "source": [
    "for col in data.columns:\n",
    "    if col.startswith(\"number_\") and col != \"number_parties_effective\":\n",
    "        data[col] = data[col].round().astype(pd.UInt32Dtype())\n",
    "data[\"number_eligible_voters\"]"
   ]
  },
  {
   "cell_type": "markdown",
   "id": "44",
   "metadata": {},
   "source": [
    "\n",
    "- We can loop over the columns since we have given them sensible names, just need to be\n",
    "  careful with the Herfindahl-Hirschman index (could debate that choice of column name)\n",
    "- Apparently some of the values are numerically too far away from integers so that\n",
    "  pandas complains. We need to explicitly round first. In cases where it would be\n",
    "  crucial to get the correct integer, we may want to investigate deeper if that happens\n",
    "  (e.g., we expect integers 1 to 7, but may have a 1.4 in there). Here, it does not\n",
    "  matter given the size of the electorates and likely measurement error.\n",
    "- We use `UInt32`, but it really does not matter as long as we can represent all\n",
    "  numbers. Seems like a good idea to disallow negative numbers as a safety measure."
   ]
  },
  {
   "cell_type": "markdown",
   "id": "6e20eecb",
   "metadata": {},
   "source": [
    "### `pm_party_left` to `pd.CategoricalDtype()`\n",
    "- Convert it first to a `pd.Int8Dtype()` and then to a `pd.CategoricalDtype()`\n",
    "- You can then rename the categories to meaningful labels"
   ]
  },
  {
   "cell_type": "code",
   "execution_count": 28,
   "id": "45",
   "metadata": {},
   "outputs": [
    {
     "data": {
      "text/plain": [
       "0       Left-leaning\n",
       "1       Left-leaning\n",
       "2       Left-leaning\n",
       "3       Left-leaning\n",
       "4       Left-leaning\n",
       "            ...     \n",
       "4531           Other\n",
       "4532           Other\n",
       "4533           Other\n",
       "4534    Left-leaning\n",
       "4535    Left-leaning\n",
       "Name: pm_party_left, Length: 4536, dtype: category\n",
       "Categories (2, string): [Other, Left-leaning]"
      ]
     },
     "execution_count": 28,
     "metadata": {},
     "output_type": "execute_result"
    }
   ],
   "source": [
    "pm_party_orientation = (\n",
    "    data[\"pm_party_left\"].astype(pd.Int8Dtype()).astype(pd.CategoricalDtype())\n",
    ")\n",
    "pm_party_orientation = pm_party_orientation.cat.rename_categories(\n",
    "    {0: \"Other\", 1: \"Left-leaning\"},\n",
    ")\n",
    "data[\"pm_party_orientation\"] = pm_party_orientation\n",
    "data = data.drop(columns=\"pm_party_left\")\n",
    "pm_party_orientation"
   ]
  },
  {
   "cell_type": "markdown",
   "id": "46",
   "metadata": {},
   "source": [
    "\n",
    "- Even though we often say \"X is a dummy variable for whatever\", the better\n",
    "  representation usually are categorical variables.\n",
    "- This will make plotting etc. easier and more consistent.\n",
    "- Decent statistical packages handle these out-of-the-box, too"
   ]
  },
  {
   "cell_type": "markdown",
   "id": "47",
   "metadata": {},
   "source": [
    "---\n",
    "### Question 13\n",
    "\n",
    "Summarise the cleaned data in a similar way as above. Now also look at summary\n",
    "statistics, including value counts of categorical variables. Do you notice anything\n",
    "when doing the latter? If so, will you have to be careful for interpreting descriptive\n",
    "statistics?"
   ]
  },
  {
   "cell_type": "code",
   "execution_count": 29,
   "id": "48",
   "metadata": {},
   "outputs": [
    {
     "data": {
      "text/plain": [
       "Index(['country', 'nuts_id', 'nuts_name', 'year', 'election_type',\n",
       "       'number_eligible_voters', 'number_valid_votes',\n",
       "       'number_parties_effective', 'number_votes_far_right',\n",
       "       'number_votes_far_left', 'share_votes_far_right',\n",
       "       'share_votes_far_left', 'share_votes_far_any', 'share_voter_turnout',\n",
       "       'number_votes_far_any_incumbent', 'pm_party_orientation'],\n",
       "      dtype='string')"
      ]
     },
     "execution_count": 29,
     "metadata": {},
     "output_type": "execute_result"
    }
   ],
   "source": [
    "data.columns"
   ]
  },
  {
   "cell_type": "code",
   "execution_count": 30,
   "id": "49",
   "metadata": {},
   "outputs": [
    {
     "data": {
      "text/plain": [
       "(4536, 16)"
      ]
     },
     "execution_count": 30,
     "metadata": {},
     "output_type": "execute_result"
    }
   ],
   "source": [
    "data.shape"
   ]
  },
  {
   "cell_type": "code",
   "execution_count": 31,
   "id": "50",
   "metadata": {},
   "outputs": [
    {
     "data": {
      "application/vnd.microsoft.datawrangler.viewer.v0+json": {
       "columns": [
        {
         "name": "index",
         "rawType": "int64",
         "type": "integer"
        },
        {
         "name": "country",
         "rawType": "category",
         "type": "unknown"
        },
        {
         "name": "nuts_id",
         "rawType": "category",
         "type": "unknown"
        },
        {
         "name": "nuts_name",
         "rawType": "category",
         "type": "unknown"
        },
        {
         "name": "year",
         "rawType": "Int16",
         "type": "integer"
        },
        {
         "name": "election_type",
         "rawType": "category",
         "type": "unknown"
        },
        {
         "name": "number_eligible_voters",
         "rawType": "UInt32",
         "type": "integer"
        },
        {
         "name": "number_valid_votes",
         "rawType": "UInt32",
         "type": "integer"
        },
        {
         "name": "number_parties_effective",
         "rawType": "float32",
         "type": "float"
        },
        {
         "name": "number_votes_far_right",
         "rawType": "UInt32",
         "type": "integer"
        },
        {
         "name": "number_votes_far_left",
         "rawType": "UInt32",
         "type": "integer"
        },
        {
         "name": "share_votes_far_right",
         "rawType": "float32",
         "type": "float"
        },
        {
         "name": "share_votes_far_left",
         "rawType": "float32",
         "type": "float"
        },
        {
         "name": "share_votes_far_any",
         "rawType": "float32",
         "type": "float"
        },
        {
         "name": "share_voter_turnout",
         "rawType": "float32",
         "type": "float"
        },
        {
         "name": "number_votes_far_any_incumbent",
         "rawType": "UInt32",
         "type": "integer"
        },
        {
         "name": "pm_party_orientation",
         "rawType": "category",
         "type": "unknown"
        }
       ],
       "conversionMethod": "pd.DataFrame",
       "ref": "ff0a07c3-0ef2-4ef8-85d5-e0e71caff823",
       "rows": [
        [
         "0",
         "Austria",
         "AT11",
         "Burgenland (AT)",
         "1980",
         null,
         "192225",
         "180717",
         "0.47413176",
         "4941",
         "694",
         "0.027341092",
         "0.0038402586",
         "0.03118135",
         "0.94913775",
         "0",
         "Left-leaning"
        ],
        [
         "1",
         "Austria",
         "AT11",
         "Burgenland (AT)",
         "1981",
         null,
         "192225",
         "180717",
         "0.47413176",
         "4941",
         "694",
         "0.027341092",
         "0.0038402586",
         "0.03118135",
         "0.94913775",
         "0",
         "Left-leaning"
        ],
        [
         "2",
         "Austria",
         "AT11",
         "Burgenland (AT)",
         "1982",
         "Regional",
         "198000",
         "173691",
         "0.469377",
         "5559",
         "942",
         "0.032005113",
         "0.0054234243",
         "0.037428536",
         "0.9006717",
         "0",
         "Left-leaning"
        ],
        [
         "3",
         "Austria",
         "AT11",
         "Burgenland (AT)",
         "1983",
         "National",
         "197459",
         "184704",
         "0.46047065",
         "4090",
         "543",
         "0.022143537",
         "0.002939839",
         "0.025083376",
         "0.9477157",
         "4090",
         "Left-leaning"
        ],
        [
         "4",
         "Austria",
         "AT11",
         "Burgenland (AT)",
         "1984",
         null,
         "197459",
         "184704",
         "0.46047065",
         "4090",
         "543",
         "0.022143537",
         "0.002939839",
         "0.025083376",
         "0.9477157",
         "4090",
         "Left-leaning"
        ],
        [
         "5",
         "Austria",
         "AT11",
         "Burgenland (AT)",
         "1985",
         null,
         "197459",
         "184704",
         "0.46047065",
         "4090",
         "543",
         "0.022143537",
         "0.002939839",
         "0.025083376",
         "0.9477157",
         "4090",
         "Left-leaning"
        ],
        [
         "6",
         "Austria",
         "AT11",
         "Burgenland (AT)",
         "1986",
         "National",
         "200572",
         "185497",
         "0.4267596",
         "9985",
         "626",
         "0.053828362",
         "0.0033747177",
         "0.05720308",
         "0.93766326",
         "0",
         "Left-leaning"
        ],
        [
         "7",
         "Austria",
         "AT11",
         "Burgenland (AT)",
         "1987",
         "Regional",
         "203012",
         "175766",
         "0.40218103",
         "12855",
         "991",
         "0.073137015",
         "0.005638178",
         "0.07877519",
         "0.8900262",
         "0",
         "Left-leaning"
        ],
        [
         "8",
         "Austria",
         "AT11",
         "Burgenland (AT)",
         "1988",
         null,
         "203012",
         "175766",
         "0.40218103",
         "12855",
         "991",
         "0.073137015",
         "0.005638178",
         "0.07877519",
         "0.8900262",
         "0",
         "Left-leaning"
        ],
        [
         "9",
         "Austria",
         "AT11",
         "Burgenland (AT)",
         "1989",
         null,
         "203012",
         "175766",
         "0.40218103",
         "12855",
         "991",
         "0.073137015",
         "0.005638178",
         "0.07877519",
         "0.8900262",
         "0",
         "Left-leaning"
        ],
        [
         "10",
         "Austria",
         "AT11",
         "Burgenland (AT)",
         "1990",
         "National",
         "205541",
         "180334",
         "0.38727775",
         "19971",
         "477",
         "0.110744506",
         "0.0026450919",
         "0.1133896",
         "0.90215576",
         "0",
         "Left-leaning"
        ],
        [
         "11",
         "Austria",
         "AT11",
         "Burgenland (AT)",
         "1991",
         "Regional",
         "208051",
         "172331",
         "0.38821843",
         "16793",
         "0",
         "0.097446196",
         "0.0",
         "0.097446196",
         "0.85459816",
         "0",
         "Left-leaning"
        ],
        [
         "12",
         "Austria",
         "AT11",
         "Burgenland (AT)",
         "1992",
         null,
         "208051",
         "172331",
         "0.38821843",
         "16793",
         "0",
         "0.097446196",
         "0.0",
         "0.097446196",
         "0.85459816",
         "0",
         "Left-leaning"
        ],
        [
         "13",
         "Austria",
         "AT11",
         "Burgenland (AT)",
         "1993",
         null,
         "208051",
         "172331",
         "0.38821843",
         "16793",
         "0",
         "0.097446196",
         "0.0",
         "0.097446196",
         "0.85459816",
         "0",
         "Left-leaning"
        ],
        [
         "14",
         "Austria",
         "AT11",
         "Burgenland (AT)",
         "1994",
         "National",
         "212341",
         "183240",
         "0.3255086",
         "30640",
         "182",
         "0.1672124",
         "0.0009932329",
         "0.16820563",
         "0.8817892",
         "0",
         "Left-leaning"
        ],
        [
         "15",
         "Austria",
         "AT11",
         "Burgenland (AT)",
         "1995",
         "National",
         "212319",
         "185983",
         "0.33109212",
         "31509",
         "238",
         "0.16941871",
         "0.0012796868",
         "0.17069839",
         "0.89707",
         "0",
         "Left-leaning"
        ],
        [
         "16",
         "Austria",
         "AT11",
         "Burgenland (AT)",
         "1996",
         "European + Regional + European",
         "433200",
         "331112",
         "0.33000755",
         "59824",
         "387",
         "0.18067603",
         "0.0011687888",
         "0.18184482",
         "0.7927493",
         "0",
         "Left-leaning"
        ],
        [
         "17",
         "Austria",
         "AT11",
         "Burgenland (AT)",
         "1997",
         null,
         "433200",
         "331112",
         "0.33000755",
         "59824",
         "387",
         "0.18067603",
         "0.0011687888",
         "0.18184482",
         "0.7927493",
         "0",
         "Left-leaning"
        ],
        [
         "18",
         "Austria",
         "AT11",
         "Burgenland (AT)",
         "1998",
         null,
         "433200",
         "331112",
         "0.33000755",
         "59824",
         "387",
         "0.18067603",
         "0.0011687888",
         "0.18184482",
         "0.7927493",
         "0",
         "Left-leaning"
        ],
        [
         "19",
         "Austria",
         "AT11",
         "Burgenland (AT)",
         "1999",
         "National + European",
         "428929",
         "322690",
         "0.31888568",
         "63190",
         "915",
         "0.19582261",
         "0.0028355387",
         "0.19865815",
         "0.7720672",
         "63190",
         "Other"
        ],
        [
         "20",
         "Austria",
         "AT11",
         "Burgenland (AT)",
         "2000",
         "Regional",
         "226752",
         "183274",
         "0.3604749",
         "23154",
         "0",
         "0.12633543",
         "0.0",
         "0.12633543",
         "0.82723415",
         "23154",
         "Other"
        ],
        [
         "21",
         "Austria",
         "AT11",
         "Burgenland (AT)",
         "2001",
         null,
         "226752",
         "183274",
         "0.3604749",
         "23154",
         "0",
         "0.12633543",
         "0.0",
         "0.12633543",
         "0.82723415",
         "23154",
         "Other"
        ],
        [
         "22",
         "Austria",
         "AT11",
         "Burgenland (AT)",
         "2002",
         "National",
         "215784",
         "191294",
         "0.39613518",
         "12163",
         "475",
         "0.063582756",
         "0.0024830888",
         "0.06606585",
         "0.9001177",
         "12163",
         "Other"
        ],
        [
         "23",
         "Austria",
         "AT11",
         "Burgenland (AT)",
         "2003",
         null,
         "215784",
         "191294",
         "0.39613518",
         "12163",
         "475",
         "0.063582756",
         "0.0024830888",
         "0.06606585",
         "0.9001177",
         "12163",
         "Other"
        ],
        [
         "24",
         "Austria",
         "AT11",
         "Burgenland (AT)",
         "2004",
         "European",
         "220205",
         "124634",
         "0.32679468",
         "4784",
         "464",
         "0.03838439",
         "0.0037229008",
         "0.04210729",
         "0.58252084",
         "4784",
         "Other"
        ],
        [
         "25",
         "Austria",
         "AT11",
         "Burgenland (AT)",
         "2005",
         "Regional",
         "242218",
         "191674",
         "0.41457915",
         "11077",
         "0",
         "0.05779083",
         "0.0",
         "0.05779083",
         "0.8138412",
         "11077",
         "Other"
        ],
        [
         "26",
         "Austria",
         "AT11",
         "Burgenland (AT)",
         "2006",
         "National",
         "222281",
         "188823",
         "0.34397867",
         "19583",
         "962",
         "0.10371088",
         "0.005094718",
         "0.1088056",
         "0.8683198",
         "0",
         "Left-leaning"
        ],
        [
         "27",
         "Austria",
         "AT11",
         "Burgenland (AT)",
         "2007",
         null,
         "222281",
         "188823",
         "0.34397867",
         "19583",
         "962",
         "0.10371088",
         "0.005094718",
         "0.1088056",
         "0.8683198",
         "0",
         "Left-leaning"
        ],
        [
         "28",
         "Austria",
         "AT11",
         "Burgenland (AT)",
         "2008",
         "National",
         "230188",
         "193765",
         "0.27745134",
         "41602",
         "874",
         "0.21470338",
         "0.0045106187",
         "0.21921399",
         "0.8637027",
         "0",
         "Left-leaning"
        ],
        [
         "29",
         "Austria",
         "AT11",
         "Burgenland (AT)",
         "2009",
         "European",
         "231698",
         "124212",
         "0.25329763",
         "16979",
         "418",
         "0.13669372",
         "0.0033652142",
         "0.14005893",
         "0.5518865",
         "0",
         "Left-leaning"
        ],
        [
         "30",
         "Austria",
         "AT11",
         "Burgenland (AT)",
         "2010",
         "Regional",
         "248694",
         "188960",
         "0.36408034",
         "16970",
         "0",
         "0.08980737",
         "0.0",
         "0.08980737",
         "0.7730223",
         "0",
         "Left-leaning"
        ],
        [
         "31",
         "Austria",
         "AT11",
         "Burgenland (AT)",
         "2011",
         null,
         "248694",
         "188960",
         "0.36408034",
         "16970",
         "0",
         "0.08980737",
         "0.0",
         "0.08980737",
         "0.7730223",
         "0",
         "Left-leaning"
        ],
        [
         "32",
         "Austria",
         "AT11",
         "Burgenland (AT)",
         "2012",
         null,
         "248694",
         "188960",
         "0.36408034",
         "16970",
         "0",
         "0.08980737",
         "0.0",
         "0.08980737",
         "0.7730223",
         "0",
         "Left-leaning"
        ],
        [
         "33",
         "Austria",
         "AT11",
         "Burgenland (AT)",
         "2013",
         "National",
         "232505",
         "188384",
         "0.24997331",
         "36394",
         "930",
         "0.1931905",
         "0.004936725",
         "0.19812723",
         "0.82787895",
         "0",
         "Left-leaning"
        ],
        [
         "34",
         "Austria",
         "AT11",
         "Burgenland (AT)",
         "2014",
         "European",
         "233920",
         "120344",
         "0.2501982",
         "21726",
         "0",
         "0.18053247",
         "0.0",
         "0.18053247",
         "0.5366493",
         "0",
         "Left-leaning"
        ],
        [
         "35",
         "Austria",
         "AT11",
         "Burgenland (AT)",
         "2015",
         "Regional",
         "250607",
         "185962",
         "0.28990406",
         "27963",
         "0",
         "0.15036944",
         "0.0",
         "0.15036944",
         "0.7603778",
         "0",
         "Left-leaning"
        ],
        [
         "36",
         "Austria",
         "AT12",
         "Niederösterreich",
         "1980",
         null,
         "2011385",
         "1809017",
         "0.45634818",
         "62344",
         "13894",
         "0.034462914",
         "0.0076804142",
         "0.04214333",
         "0.9086803",
         "0",
         "Left-leaning"
        ],
        [
         "37",
         "Austria",
         "AT12",
         "Niederösterreich",
         "1981",
         null,
         "2011385",
         "1809017",
         "0.45634818",
         "62344",
         "13894",
         "0.034462914",
         "0.0076804142",
         "0.04214333",
         "0.9086803",
         "0",
         "Left-leaning"
        ],
        [
         "38",
         "Austria",
         "AT12",
         "Niederösterreich",
         "1982",
         null,
         "2011385",
         "1809017",
         "0.45634818",
         "62344",
         "13894",
         "0.034462914",
         "0.0076804142",
         "0.04214333",
         "0.9086803",
         "0",
         "Left-leaning"
        ],
        [
         "39",
         "Austria",
         "AT12",
         "Niederösterreich",
         "1983",
         "National + Regional A",
         "2157461",
         "1885024",
         "0.45615375",
         "44447",
         "13453",
         "0.02357901",
         "0.0071367794",
         "0.03071579",
         "0.8884462",
         "44447",
         "Left-leaning"
        ],
        [
         "40",
         "Austria",
         "AT12",
         "Niederösterreich",
         "1984",
         null,
         "2157461",
         "1885024",
         "0.45615375",
         "44447",
         "13453",
         "0.02357901",
         "0.0071367794",
         "0.03071579",
         "0.8884462",
         "44447",
         "Left-leaning"
        ],
        [
         "41",
         "Austria",
         "AT12",
         "Niederösterreich",
         "1985",
         null,
         "2157461",
         "1885024",
         "0.45615375",
         "44447",
         "13453",
         "0.02357901",
         "0.0071367794",
         "0.03071579",
         "0.8884462",
         "44447",
         "Left-leaning"
        ],
        [
         "42",
         "Austria",
         "AT12",
         "Niederösterreich",
         "1986",
         "National",
         "1042311",
         "950126",
         "0.40865654",
         "57828",
         "5815",
         "0.060863506",
         "0.006120241",
         "0.066983745",
         "0.9251989",
         "0",
         "Left-leaning"
        ],
        [
         "43",
         "Austria",
         "AT12",
         "Niederösterreich",
         "1987",
         null,
         "1042311",
         "950126",
         "0.40865654",
         "57828",
         "5815",
         "0.060863506",
         "0.006120241",
         "0.066983745",
         "0.9251989",
         "0",
         "Left-leaning"
        ],
        [
         "44",
         "Austria",
         "AT12",
         "Niederösterreich",
         "1988",
         "Regional",
         "1213853",
         "951383",
         "0.3753217",
         "91029",
         "7934",
         "0.095680706",
         "0.008339439",
         "0.10402015",
         "0.7899169",
         "0",
         "Left-leaning"
        ],
        [
         "45",
         "Austria",
         "AT12",
         "Niederösterreich",
         "1989",
         null,
         "1213853",
         "951383",
         "0.3753217",
         "91029",
         "7934",
         "0.095680706",
         "0.008339439",
         "0.10402015",
         "0.7899169",
         "0",
         "Left-leaning"
        ],
        [
         "46",
         "Austria",
         "AT12",
         "Niederösterreich",
         "1990",
         "National",
         "1078506",
         "932394",
         "0.34958652",
         "114201",
         "4082",
         "0.12248148",
         "0.0043779775",
         "0.12685946",
         "0.88832515",
         "0",
         "Left-leaning"
        ],
        [
         "47",
         "Austria",
         "AT12",
         "Niederösterreich",
         "1991",
         null,
         "1078506",
         "932394",
         "0.34958652",
         "114201",
         "4082",
         "0.12248148",
         "0.0043779775",
         "0.12685946",
         "0.88832515",
         "0",
         "Left-leaning"
        ],
        [
         "48",
         "Austria",
         "AT12",
         "Niederösterreich",
         "1992",
         null,
         "1078506",
         "932394",
         "0.34958652",
         "114201",
         "4082",
         "0.12248148",
         "0.0043779775",
         "0.12685946",
         "0.88832515",
         "0",
         "Left-leaning"
        ],
        [
         "49",
         "Austria",
         "AT12",
         "Niederösterreich",
         "1993",
         "Regional",
         "1269391",
         "932164",
         "0.3294111",
         "111433",
         "2170",
         "0.11954227",
         "0.0023279164",
         "0.12187019",
         "0.7553567",
         "0",
         "Left-leaning"
        ]
       ],
       "shape": {
        "columns": 16,
        "rows": 4536
       }
      },
      "text/html": [
       "<div>\n",
       "<style scoped>\n",
       "    .dataframe tbody tr th:only-of-type {\n",
       "        vertical-align: middle;\n",
       "    }\n",
       "\n",
       "    .dataframe tbody tr th {\n",
       "        vertical-align: top;\n",
       "    }\n",
       "\n",
       "    .dataframe thead th {\n",
       "        text-align: right;\n",
       "    }\n",
       "</style>\n",
       "<table border=\"1\" class=\"dataframe\">\n",
       "  <thead>\n",
       "    <tr style=\"text-align: right;\">\n",
       "      <th></th>\n",
       "      <th>country</th>\n",
       "      <th>nuts_id</th>\n",
       "      <th>nuts_name</th>\n",
       "      <th>year</th>\n",
       "      <th>election_type</th>\n",
       "      <th>number_eligible_voters</th>\n",
       "      <th>number_valid_votes</th>\n",
       "      <th>number_parties_effective</th>\n",
       "      <th>number_votes_far_right</th>\n",
       "      <th>number_votes_far_left</th>\n",
       "      <th>share_votes_far_right</th>\n",
       "      <th>share_votes_far_left</th>\n",
       "      <th>share_votes_far_any</th>\n",
       "      <th>share_voter_turnout</th>\n",
       "      <th>number_votes_far_any_incumbent</th>\n",
       "      <th>pm_party_orientation</th>\n",
       "    </tr>\n",
       "  </thead>\n",
       "  <tbody>\n",
       "    <tr>\n",
       "      <th>0</th>\n",
       "      <td>Austria</td>\n",
       "      <td>AT11</td>\n",
       "      <td>Burgenland (AT)</td>\n",
       "      <td>1980</td>\n",
       "      <td>NaN</td>\n",
       "      <td>192225</td>\n",
       "      <td>180717</td>\n",
       "      <td>0.474132</td>\n",
       "      <td>4941</td>\n",
       "      <td>694</td>\n",
       "      <td>0.027341</td>\n",
       "      <td>0.003840</td>\n",
       "      <td>0.031181</td>\n",
       "      <td>0.949138</td>\n",
       "      <td>0</td>\n",
       "      <td>Left-leaning</td>\n",
       "    </tr>\n",
       "    <tr>\n",
       "      <th>1</th>\n",
       "      <td>Austria</td>\n",
       "      <td>AT11</td>\n",
       "      <td>Burgenland (AT)</td>\n",
       "      <td>1981</td>\n",
       "      <td>NaN</td>\n",
       "      <td>192225</td>\n",
       "      <td>180717</td>\n",
       "      <td>0.474132</td>\n",
       "      <td>4941</td>\n",
       "      <td>694</td>\n",
       "      <td>0.027341</td>\n",
       "      <td>0.003840</td>\n",
       "      <td>0.031181</td>\n",
       "      <td>0.949138</td>\n",
       "      <td>0</td>\n",
       "      <td>Left-leaning</td>\n",
       "    </tr>\n",
       "    <tr>\n",
       "      <th>2</th>\n",
       "      <td>Austria</td>\n",
       "      <td>AT11</td>\n",
       "      <td>Burgenland (AT)</td>\n",
       "      <td>1982</td>\n",
       "      <td>Regional</td>\n",
       "      <td>198000</td>\n",
       "      <td>173691</td>\n",
       "      <td>0.469377</td>\n",
       "      <td>5559</td>\n",
       "      <td>942</td>\n",
       "      <td>0.032005</td>\n",
       "      <td>0.005423</td>\n",
       "      <td>0.037429</td>\n",
       "      <td>0.900672</td>\n",
       "      <td>0</td>\n",
       "      <td>Left-leaning</td>\n",
       "    </tr>\n",
       "    <tr>\n",
       "      <th>3</th>\n",
       "      <td>Austria</td>\n",
       "      <td>AT11</td>\n",
       "      <td>Burgenland (AT)</td>\n",
       "      <td>1983</td>\n",
       "      <td>National</td>\n",
       "      <td>197459</td>\n",
       "      <td>184704</td>\n",
       "      <td>0.460471</td>\n",
       "      <td>4090</td>\n",
       "      <td>543</td>\n",
       "      <td>0.022144</td>\n",
       "      <td>0.002940</td>\n",
       "      <td>0.025083</td>\n",
       "      <td>0.947716</td>\n",
       "      <td>4090</td>\n",
       "      <td>Left-leaning</td>\n",
       "    </tr>\n",
       "    <tr>\n",
       "      <th>4</th>\n",
       "      <td>Austria</td>\n",
       "      <td>AT11</td>\n",
       "      <td>Burgenland (AT)</td>\n",
       "      <td>1984</td>\n",
       "      <td>NaN</td>\n",
       "      <td>197459</td>\n",
       "      <td>184704</td>\n",
       "      <td>0.460471</td>\n",
       "      <td>4090</td>\n",
       "      <td>543</td>\n",
       "      <td>0.022144</td>\n",
       "      <td>0.002940</td>\n",
       "      <td>0.025083</td>\n",
       "      <td>0.947716</td>\n",
       "      <td>4090</td>\n",
       "      <td>Left-leaning</td>\n",
       "    </tr>\n",
       "    <tr>\n",
       "      <th>...</th>\n",
       "      <td>...</td>\n",
       "      <td>...</td>\n",
       "      <td>...</td>\n",
       "      <td>...</td>\n",
       "      <td>...</td>\n",
       "      <td>...</td>\n",
       "      <td>...</td>\n",
       "      <td>...</td>\n",
       "      <td>...</td>\n",
       "      <td>...</td>\n",
       "      <td>...</td>\n",
       "      <td>...</td>\n",
       "      <td>...</td>\n",
       "      <td>...</td>\n",
       "      <td>...</td>\n",
       "      <td>...</td>\n",
       "    </tr>\n",
       "    <tr>\n",
       "      <th>4531</th>\n",
       "      <td>Sweden</td>\n",
       "      <td>SE33</td>\n",
       "      <td>Övre Norrland</td>\n",
       "      <td>2011</td>\n",
       "      <td>NaN</td>\n",
       "      <td>803062</td>\n",
       "      <td>660666</td>\n",
       "      <td>0.255184</td>\n",
       "      <td>16251</td>\n",
       "      <td>68424</td>\n",
       "      <td>0.024598</td>\n",
       "      <td>0.103568</td>\n",
       "      <td>0.128166</td>\n",
       "      <td>0.835183</td>\n",
       "      <td>0</td>\n",
       "      <td>Other</td>\n",
       "    </tr>\n",
       "    <tr>\n",
       "      <th>4532</th>\n",
       "      <td>Sweden</td>\n",
       "      <td>SE33</td>\n",
       "      <td>Övre Norrland</td>\n",
       "      <td>2012</td>\n",
       "      <td>NaN</td>\n",
       "      <td>803062</td>\n",
       "      <td>660666</td>\n",
       "      <td>0.255184</td>\n",
       "      <td>16251</td>\n",
       "      <td>68424</td>\n",
       "      <td>0.024598</td>\n",
       "      <td>0.103568</td>\n",
       "      <td>0.128166</td>\n",
       "      <td>0.835183</td>\n",
       "      <td>0</td>\n",
       "      <td>Other</td>\n",
       "    </tr>\n",
       "    <tr>\n",
       "      <th>4533</th>\n",
       "      <td>Sweden</td>\n",
       "      <td>SE33</td>\n",
       "      <td>Övre Norrland</td>\n",
       "      <td>2013</td>\n",
       "      <td>NaN</td>\n",
       "      <td>803062</td>\n",
       "      <td>660666</td>\n",
       "      <td>0.255184</td>\n",
       "      <td>16251</td>\n",
       "      <td>68424</td>\n",
       "      <td>0.024598</td>\n",
       "      <td>0.103568</td>\n",
       "      <td>0.128166</td>\n",
       "      <td>0.835183</td>\n",
       "      <td>0</td>\n",
       "      <td>Other</td>\n",
       "    </tr>\n",
       "    <tr>\n",
       "      <th>4534</th>\n",
       "      <td>Sweden</td>\n",
       "      <td>SE33</td>\n",
       "      <td>Övre Norrland</td>\n",
       "      <td>2014</td>\n",
       "      <td>National + Regional B</td>\n",
       "      <td>1211834</td>\n",
       "      <td>877980</td>\n",
       "      <td>0.213000</td>\n",
       "      <td>59626</td>\n",
       "      <td>94202</td>\n",
       "      <td>0.067913</td>\n",
       "      <td>0.107294</td>\n",
       "      <td>0.175207</td>\n",
       "      <td>0.734514</td>\n",
       "      <td>0</td>\n",
       "      <td>Left-leaning</td>\n",
       "    </tr>\n",
       "    <tr>\n",
       "      <th>4535</th>\n",
       "      <td>Sweden</td>\n",
       "      <td>SE33</td>\n",
       "      <td>Övre Norrland</td>\n",
       "      <td>2015</td>\n",
       "      <td>NaN</td>\n",
       "      <td>1211834</td>\n",
       "      <td>877980</td>\n",
       "      <td>0.213000</td>\n",
       "      <td>59626</td>\n",
       "      <td>94202</td>\n",
       "      <td>0.067913</td>\n",
       "      <td>0.107294</td>\n",
       "      <td>0.175207</td>\n",
       "      <td>0.734514</td>\n",
       "      <td>0</td>\n",
       "      <td>Left-leaning</td>\n",
       "    </tr>\n",
       "  </tbody>\n",
       "</table>\n",
       "<p>4536 rows × 16 columns</p>\n",
       "</div>"
      ],
      "text/plain": [
       "      country nuts_id        nuts_name  year          election_type  \\\n",
       "0     Austria    AT11  Burgenland (AT)  1980                    NaN   \n",
       "1     Austria    AT11  Burgenland (AT)  1981                    NaN   \n",
       "2     Austria    AT11  Burgenland (AT)  1982               Regional   \n",
       "3     Austria    AT11  Burgenland (AT)  1983               National   \n",
       "4     Austria    AT11  Burgenland (AT)  1984                    NaN   \n",
       "...       ...     ...              ...   ...                    ...   \n",
       "4531   Sweden    SE33    Övre Norrland  2011                    NaN   \n",
       "4532   Sweden    SE33    Övre Norrland  2012                    NaN   \n",
       "4533   Sweden    SE33    Övre Norrland  2013                    NaN   \n",
       "4534   Sweden    SE33    Övre Norrland  2014  National + Regional B   \n",
       "4535   Sweden    SE33    Övre Norrland  2015                    NaN   \n",
       "\n",
       "      number_eligible_voters  number_valid_votes  number_parties_effective  \\\n",
       "0                     192225              180717                  0.474132   \n",
       "1                     192225              180717                  0.474132   \n",
       "2                     198000              173691                  0.469377   \n",
       "3                     197459              184704                  0.460471   \n",
       "4                     197459              184704                  0.460471   \n",
       "...                      ...                 ...                       ...   \n",
       "4531                  803062              660666                  0.255184   \n",
       "4532                  803062              660666                  0.255184   \n",
       "4533                  803062              660666                  0.255184   \n",
       "4534                 1211834              877980                  0.213000   \n",
       "4535                 1211834              877980                  0.213000   \n",
       "\n",
       "      number_votes_far_right  number_votes_far_left  share_votes_far_right  \\\n",
       "0                       4941                    694               0.027341   \n",
       "1                       4941                    694               0.027341   \n",
       "2                       5559                    942               0.032005   \n",
       "3                       4090                    543               0.022144   \n",
       "4                       4090                    543               0.022144   \n",
       "...                      ...                    ...                    ...   \n",
       "4531                   16251                  68424               0.024598   \n",
       "4532                   16251                  68424               0.024598   \n",
       "4533                   16251                  68424               0.024598   \n",
       "4534                   59626                  94202               0.067913   \n",
       "4535                   59626                  94202               0.067913   \n",
       "\n",
       "      share_votes_far_left  share_votes_far_any  share_voter_turnout  \\\n",
       "0                 0.003840             0.031181             0.949138   \n",
       "1                 0.003840             0.031181             0.949138   \n",
       "2                 0.005423             0.037429             0.900672   \n",
       "3                 0.002940             0.025083             0.947716   \n",
       "4                 0.002940             0.025083             0.947716   \n",
       "...                    ...                  ...                  ...   \n",
       "4531              0.103568             0.128166             0.835183   \n",
       "4532              0.103568             0.128166             0.835183   \n",
       "4533              0.103568             0.128166             0.835183   \n",
       "4534              0.107294             0.175207             0.734514   \n",
       "4535              0.107294             0.175207             0.734514   \n",
       "\n",
       "      number_votes_far_any_incumbent pm_party_orientation  \n",
       "0                                  0         Left-leaning  \n",
       "1                                  0         Left-leaning  \n",
       "2                                  0         Left-leaning  \n",
       "3                               4090         Left-leaning  \n",
       "4                               4090         Left-leaning  \n",
       "...                              ...                  ...  \n",
       "4531                               0                Other  \n",
       "4532                               0                Other  \n",
       "4533                               0                Other  \n",
       "4534                               0         Left-leaning  \n",
       "4535                               0         Left-leaning  \n",
       "\n",
       "[4536 rows x 16 columns]"
      ]
     },
     "execution_count": 31,
     "metadata": {},
     "output_type": "execute_result"
    }
   ],
   "source": [
    "data"
   ]
  },
  {
   "cell_type": "code",
   "execution_count": 32,
   "id": "51",
   "metadata": {},
   "outputs": [
    {
     "data": {
      "text/plain": [
       "country                           category\n",
       "nuts_id                           category\n",
       "nuts_name                         category\n",
       "year                                 Int16\n",
       "election_type                     category\n",
       "number_eligible_voters              UInt32\n",
       "number_valid_votes                  UInt32\n",
       "number_parties_effective           float32\n",
       "number_votes_far_right              UInt32\n",
       "number_votes_far_left               UInt32\n",
       "share_votes_far_right              float32\n",
       "share_votes_far_left               float32\n",
       "share_votes_far_any                float32\n",
       "share_voter_turnout                float32\n",
       "number_votes_far_any_incumbent      UInt32\n",
       "pm_party_orientation              category\n",
       "dtype: object"
      ]
     },
     "execution_count": 32,
     "metadata": {},
     "output_type": "execute_result"
    }
   ],
   "source": [
    "data.dtypes"
   ]
  },
  {
   "cell_type": "code",
   "execution_count": 33,
   "id": "52",
   "metadata": {},
   "outputs": [
    {
     "data": {
      "application/vnd.microsoft.datawrangler.viewer.v0+json": {
       "columns": [
        {
         "name": "index",
         "rawType": "string",
         "type": "string"
        },
        {
         "name": "year",
         "rawType": "Float64",
         "type": "float"
        },
        {
         "name": "number_eligible_voters",
         "rawType": "Float64",
         "type": "float"
        },
        {
         "name": "number_valid_votes",
         "rawType": "Float64",
         "type": "float"
        },
        {
         "name": "number_parties_effective",
         "rawType": "float64",
         "type": "float"
        },
        {
         "name": "number_votes_far_right",
         "rawType": "Float64",
         "type": "float"
        },
        {
         "name": "number_votes_far_left",
         "rawType": "Float64",
         "type": "float"
        },
        {
         "name": "share_votes_far_right",
         "rawType": "float64",
         "type": "float"
        },
        {
         "name": "share_votes_far_left",
         "rawType": "float64",
         "type": "float"
        },
        {
         "name": "share_votes_far_any",
         "rawType": "float64",
         "type": "float"
        },
        {
         "name": "share_voter_turnout",
         "rawType": "float64",
         "type": "float"
        },
        {
         "name": "number_votes_far_any_incumbent",
         "rawType": "Float64",
         "type": "float"
        }
       ],
       "conversionMethod": "pd.DataFrame",
       "ref": "7cb8280b-937c-40ef-97ad-80c6b95076c0",
       "rows": [
        [
         "count",
         "4536.0",
         "4456.0",
         "4456.0",
         "4456.0",
         "4456.0",
         "4456.0",
         "4456.0",
         "4456.0",
         "4456.0",
         "4445.0",
         "4536.0"
        ],
        [
         "mean",
         "1997.5",
         "2141666.0671005384",
         "1410316.82989228",
         "0.27532365918159485",
         "81547.82383303411",
         "108467.50740574507",
         "0.06470360606908798",
         "0.07685156166553497",
         "0.14155516028404236",
         "0.6770671606063843",
         "21154.655423280423"
        ],
        [
         "std",
         "10.389439978413158",
         "1945254.6358002662",
         "1299094.0719931736",
         "0.08608061820268631",
         "131807.24845128643",
         "170331.2025968767",
         "0.07829023897647858",
         "0.07600186765193939",
         "0.10765333473682404",
         "0.14356204867362976",
         "78392.97133996648"
        ],
        [
         "min",
         "1980.0",
         "0.0",
         "40957.0",
         "0.08953414857387543",
         "0.0",
         "0.0",
         "0.0",
         "0.0",
         "0.0",
         "0.1805187612771988",
         "0.0"
        ],
        [
         "25%",
         "1988.75",
         "909974.0",
         "562222.0",
         "0.20887845754623413",
         "5784.0",
         "9675.0",
         "0.006395064759999514",
         "0.012246239930391312",
         "0.057848408818244934",
         "0.5750333666801453",
         "0.0"
        ],
        [
         "50%",
         "1997.5",
         "1525082.0",
         "1006852.0",
         "0.2675324082374573",
         "32631.5",
         "51129.0",
         "0.03252497315406799",
         "0.062297917902469635",
         "0.11155413091182709",
         "0.6841446757316589",
         "0.0"
        ],
        [
         "75%",
         "2006.25",
         "2824193.0",
         "1899729.0",
         "0.3412511646747589",
         "99195.0",
         "126114.0",
         "0.10092857480049133",
         "0.10757420212030411",
         "0.21281912922859192",
         "0.7918857336044312",
         "0.0"
        ],
        [
         "max",
         "2015.0",
         "18187513.0",
         "12315054.0",
         "0.5552161335945129",
         "1656040.0",
         "2232531.0",
         "0.4613773226737976",
         "0.4764474928379059",
         "0.7112711668014526",
         "0.9629363417625427",
         "1651320.0"
        ]
       ],
       "shape": {
        "columns": 11,
        "rows": 8
       }
      },
      "text/html": [
       "<div>\n",
       "<style scoped>\n",
       "    .dataframe tbody tr th:only-of-type {\n",
       "        vertical-align: middle;\n",
       "    }\n",
       "\n",
       "    .dataframe tbody tr th {\n",
       "        vertical-align: top;\n",
       "    }\n",
       "\n",
       "    .dataframe thead th {\n",
       "        text-align: right;\n",
       "    }\n",
       "</style>\n",
       "<table border=\"1\" class=\"dataframe\">\n",
       "  <thead>\n",
       "    <tr style=\"text-align: right;\">\n",
       "      <th></th>\n",
       "      <th>year</th>\n",
       "      <th>number_eligible_voters</th>\n",
       "      <th>number_valid_votes</th>\n",
       "      <th>number_parties_effective</th>\n",
       "      <th>number_votes_far_right</th>\n",
       "      <th>number_votes_far_left</th>\n",
       "      <th>share_votes_far_right</th>\n",
       "      <th>share_votes_far_left</th>\n",
       "      <th>share_votes_far_any</th>\n",
       "      <th>share_voter_turnout</th>\n",
       "      <th>number_votes_far_any_incumbent</th>\n",
       "    </tr>\n",
       "  </thead>\n",
       "  <tbody>\n",
       "    <tr>\n",
       "      <th>count</th>\n",
       "      <td>4536.0</td>\n",
       "      <td>4456.0</td>\n",
       "      <td>4456.0</td>\n",
       "      <td>4456.000000</td>\n",
       "      <td>4456.0</td>\n",
       "      <td>4456.0</td>\n",
       "      <td>4456.000000</td>\n",
       "      <td>4456.000000</td>\n",
       "      <td>4456.000000</td>\n",
       "      <td>4445.000000</td>\n",
       "      <td>4536.0</td>\n",
       "    </tr>\n",
       "    <tr>\n",
       "      <th>mean</th>\n",
       "      <td>1997.5</td>\n",
       "      <td>2141666.067101</td>\n",
       "      <td>1410316.829892</td>\n",
       "      <td>0.275324</td>\n",
       "      <td>81547.823833</td>\n",
       "      <td>108467.507406</td>\n",
       "      <td>0.064704</td>\n",
       "      <td>0.076852</td>\n",
       "      <td>0.141555</td>\n",
       "      <td>0.677067</td>\n",
       "      <td>21154.655423</td>\n",
       "    </tr>\n",
       "    <tr>\n",
       "      <th>std</th>\n",
       "      <td>10.38944</td>\n",
       "      <td>1945254.6358</td>\n",
       "      <td>1299094.071993</td>\n",
       "      <td>0.086081</td>\n",
       "      <td>131807.248451</td>\n",
       "      <td>170331.202597</td>\n",
       "      <td>0.078290</td>\n",
       "      <td>0.076002</td>\n",
       "      <td>0.107653</td>\n",
       "      <td>0.143562</td>\n",
       "      <td>78392.97134</td>\n",
       "    </tr>\n",
       "    <tr>\n",
       "      <th>min</th>\n",
       "      <td>1980.0</td>\n",
       "      <td>0.0</td>\n",
       "      <td>40957.0</td>\n",
       "      <td>0.089534</td>\n",
       "      <td>0.0</td>\n",
       "      <td>0.0</td>\n",
       "      <td>0.000000</td>\n",
       "      <td>0.000000</td>\n",
       "      <td>0.000000</td>\n",
       "      <td>0.180519</td>\n",
       "      <td>0.0</td>\n",
       "    </tr>\n",
       "    <tr>\n",
       "      <th>25%</th>\n",
       "      <td>1988.75</td>\n",
       "      <td>909974.0</td>\n",
       "      <td>562222.0</td>\n",
       "      <td>0.208878</td>\n",
       "      <td>5784.0</td>\n",
       "      <td>9675.0</td>\n",
       "      <td>0.006395</td>\n",
       "      <td>0.012246</td>\n",
       "      <td>0.057848</td>\n",
       "      <td>0.575033</td>\n",
       "      <td>0.0</td>\n",
       "    </tr>\n",
       "    <tr>\n",
       "      <th>50%</th>\n",
       "      <td>1997.5</td>\n",
       "      <td>1525082.0</td>\n",
       "      <td>1006852.0</td>\n",
       "      <td>0.267532</td>\n",
       "      <td>32631.5</td>\n",
       "      <td>51129.0</td>\n",
       "      <td>0.032525</td>\n",
       "      <td>0.062298</td>\n",
       "      <td>0.111554</td>\n",
       "      <td>0.684145</td>\n",
       "      <td>0.0</td>\n",
       "    </tr>\n",
       "    <tr>\n",
       "      <th>75%</th>\n",
       "      <td>2006.25</td>\n",
       "      <td>2824193.0</td>\n",
       "      <td>1899729.0</td>\n",
       "      <td>0.341251</td>\n",
       "      <td>99195.0</td>\n",
       "      <td>126114.0</td>\n",
       "      <td>0.100929</td>\n",
       "      <td>0.107574</td>\n",
       "      <td>0.212819</td>\n",
       "      <td>0.791886</td>\n",
       "      <td>0.0</td>\n",
       "    </tr>\n",
       "    <tr>\n",
       "      <th>max</th>\n",
       "      <td>2015.0</td>\n",
       "      <td>18187513.0</td>\n",
       "      <td>12315054.0</td>\n",
       "      <td>0.555216</td>\n",
       "      <td>1656040.0</td>\n",
       "      <td>2232531.0</td>\n",
       "      <td>0.461377</td>\n",
       "      <td>0.476447</td>\n",
       "      <td>0.711271</td>\n",
       "      <td>0.962936</td>\n",
       "      <td>1651320.0</td>\n",
       "    </tr>\n",
       "  </tbody>\n",
       "</table>\n",
       "</div>"
      ],
      "text/plain": [
       "           year  number_eligible_voters  number_valid_votes  \\\n",
       "count    4536.0                  4456.0              4456.0   \n",
       "mean     1997.5          2141666.067101      1410316.829892   \n",
       "std    10.38944            1945254.6358      1299094.071993   \n",
       "min      1980.0                     0.0             40957.0   \n",
       "25%     1988.75                909974.0            562222.0   \n",
       "50%      1997.5               1525082.0           1006852.0   \n",
       "75%     2006.25               2824193.0           1899729.0   \n",
       "max      2015.0              18187513.0          12315054.0   \n",
       "\n",
       "       number_parties_effective  number_votes_far_right  \\\n",
       "count               4456.000000                  4456.0   \n",
       "mean                   0.275324            81547.823833   \n",
       "std                    0.086081           131807.248451   \n",
       "min                    0.089534                     0.0   \n",
       "25%                    0.208878                  5784.0   \n",
       "50%                    0.267532                 32631.5   \n",
       "75%                    0.341251                 99195.0   \n",
       "max                    0.555216               1656040.0   \n",
       "\n",
       "       number_votes_far_left  share_votes_far_right  share_votes_far_left  \\\n",
       "count                 4456.0            4456.000000           4456.000000   \n",
       "mean           108467.507406               0.064704              0.076852   \n",
       "std            170331.202597               0.078290              0.076002   \n",
       "min                      0.0               0.000000              0.000000   \n",
       "25%                   9675.0               0.006395              0.012246   \n",
       "50%                  51129.0               0.032525              0.062298   \n",
       "75%                 126114.0               0.100929              0.107574   \n",
       "max                2232531.0               0.461377              0.476447   \n",
       "\n",
       "       share_votes_far_any  share_voter_turnout  \\\n",
       "count          4456.000000          4445.000000   \n",
       "mean              0.141555             0.677067   \n",
       "std               0.107653             0.143562   \n",
       "min               0.000000             0.180519   \n",
       "25%               0.057848             0.575033   \n",
       "50%               0.111554             0.684145   \n",
       "75%               0.212819             0.791886   \n",
       "max               0.711271             0.962936   \n",
       "\n",
       "       number_votes_far_any_incumbent  \n",
       "count                          4536.0  \n",
       "mean                     21154.655423  \n",
       "std                       78392.97134  \n",
       "min                               0.0  \n",
       "25%                               0.0  \n",
       "50%                               0.0  \n",
       "75%                               0.0  \n",
       "max                         1651320.0  "
      ]
     },
     "execution_count": 33,
     "metadata": {},
     "output_type": "execute_result"
    }
   ],
   "source": [
    "data.describe()"
   ]
  },
  {
   "cell_type": "code",
   "execution_count": 34,
   "id": "53",
   "metadata": {},
   "outputs": [
    {
     "data": {
      "text/plain": [
       "country\n",
       "Germany     1368\n",
       "France       792\n",
       "Italy        756\n",
       "Spain        612\n",
       "Austria      324\n",
       "Sweden       288\n",
       "Portugal     252\n",
       "Finland      144\n",
       "Name: count, dtype: int64"
      ]
     },
     "execution_count": 34,
     "metadata": {},
     "output_type": "execute_result"
    }
   ],
   "source": [
    "data[\"country\"].value_counts()"
   ]
  },
  {
   "cell_type": "code",
   "execution_count": 35,
   "id": "54",
   "metadata": {},
   "outputs": [
    {
     "data": {
      "text/plain": [
       "array([36])"
      ]
     },
     "execution_count": 35,
     "metadata": {},
     "output_type": "execute_result"
    }
   ],
   "source": [
    "data[\"nuts_id\"].value_counts().unique()"
   ]
  },
  {
   "cell_type": "code",
   "execution_count": 36,
   "id": "55",
   "metadata": {},
   "outputs": [
    {
     "data": {
      "text/plain": [
       "election_type\n",
       "National                          763\n",
       "Regional                          537\n",
       "European                          528\n",
       "National + Regional A             252\n",
       "National + European               116\n",
       "European + Regional + European    116\n",
       "National + Regional B              50\n",
       "Name: count, dtype: int64"
      ]
     },
     "execution_count": 36,
     "metadata": {},
     "output_type": "execute_result"
    }
   ],
   "source": [
    "data[\"election_type\"].value_counts()"
   ]
  },
  {
   "cell_type": "code",
   "execution_count": 37,
   "id": "56",
   "metadata": {},
   "outputs": [
    {
     "data": {
      "text/plain": [
       "pm_party_orientation\n",
       "Left-leaning    2238\n",
       "Other           2234\n",
       "Name: count, dtype: int64"
      ]
     },
     "execution_count": 37,
     "metadata": {},
     "output_type": "execute_result"
    }
   ],
   "source": [
    "data[\"pm_party_orientation\"].value_counts()"
   ]
  },
  {
   "cell_type": "markdown",
   "id": "57",
   "metadata": {},
   "source": [
    "\n",
    "- Value counts for NUTS ids show that we have a balanced panel\n",
    "- Apparently always last election results are used, see query below\n",
    "- Need to be extremely careful when doing descriptives, because all other\n",
    "  variables are filled."
   ]
  },
  {
   "cell_type": "code",
   "execution_count": 38,
   "id": "58",
   "metadata": {},
   "outputs": [
    {
     "data": {
      "application/vnd.microsoft.datawrangler.viewer.v0+json": {
       "columns": [
        {
         "name": "index",
         "rawType": "int64",
         "type": "integer"
        },
        {
         "name": "country",
         "rawType": "category",
         "type": "unknown"
        },
        {
         "name": "nuts_id",
         "rawType": "category",
         "type": "unknown"
        },
        {
         "name": "nuts_name",
         "rawType": "category",
         "type": "unknown"
        },
        {
         "name": "year",
         "rawType": "Int16",
         "type": "integer"
        },
        {
         "name": "election_type",
         "rawType": "category",
         "type": "unknown"
        },
        {
         "name": "number_eligible_voters",
         "rawType": "UInt32",
         "type": "integer"
        },
        {
         "name": "number_valid_votes",
         "rawType": "UInt32",
         "type": "integer"
        },
        {
         "name": "number_parties_effective",
         "rawType": "float32",
         "type": "float"
        },
        {
         "name": "number_votes_far_right",
         "rawType": "UInt32",
         "type": "integer"
        },
        {
         "name": "number_votes_far_left",
         "rawType": "UInt32",
         "type": "integer"
        },
        {
         "name": "share_votes_far_right",
         "rawType": "float32",
         "type": "float"
        },
        {
         "name": "share_votes_far_left",
         "rawType": "float32",
         "type": "float"
        },
        {
         "name": "share_votes_far_any",
         "rawType": "float32",
         "type": "float"
        },
        {
         "name": "share_voter_turnout",
         "rawType": "float32",
         "type": "float"
        },
        {
         "name": "number_votes_far_any_incumbent",
         "rawType": "UInt32",
         "type": "integer"
        },
        {
         "name": "pm_party_orientation",
         "rawType": "category",
         "type": "unknown"
        }
       ],
       "conversionMethod": "pd.DataFrame",
       "ref": "882fbbde-1281-4ce4-b411-a9249de1f963",
       "rows": [
        [
         "4500",
         "Sweden",
         "SE33",
         "Övre Norrland",
         "1980",
         null,
         "749207",
         "664915",
         "0.3137273",
         "0",
         "57649",
         "0.0",
         "0.08670131",
         "0.08670131",
         "0.8989238",
         "0",
         "Other"
        ],
        [
         "4501",
         "Sweden",
         "SE33",
         "Övre Norrland",
         "1981",
         null,
         "749207",
         "664915",
         "0.3137273",
         "0",
         "57649",
         "0.0",
         "0.08670131",
         "0.08670131",
         "0.8989238",
         "0",
         "Other"
        ],
        [
         "4502",
         "Sweden",
         "SE33",
         "Övre Norrland",
         "1982",
         "National + Regional A",
         "763039",
         "679257",
         "0.33911863",
         "0",
         "53172",
         "0.0",
         "0.07827965",
         "0.07827965",
         "0.90135366",
         "0",
         "Left-leaning"
        ],
        [
         "4503",
         "Sweden",
         "SE33",
         "Övre Norrland",
         "1983",
         null,
         "763039",
         "679257",
         "0.33911863",
         "0",
         "53172",
         "0.0",
         "0.07827965",
         "0.07827965",
         "0.90135366",
         "0",
         "Left-leaning"
        ],
        [
         "4504",
         "Sweden",
         "SE33",
         "Övre Norrland",
         "1984",
         null,
         "763039",
         "679257",
         "0.33911863",
         "0",
         "53172",
         "0.0",
         "0.07827965",
         "0.07827965",
         "0.90135366",
         "0",
         "Left-leaning"
        ],
        [
         "4505",
         "Sweden",
         "SE33",
         "Övre Norrland",
         "1985",
         "National + Regional A",
         "771411",
         "674180",
         "0.3277498",
         "0",
         "53542",
         "0.0",
         "0.07941796",
         "0.07941796",
         "0.88613206",
         "0",
         "Left-leaning"
        ],
        [
         "4506",
         "Sweden",
         "SE33",
         "Övre Norrland",
         "1986",
         null,
         "771411",
         "674180",
         "0.3277498",
         "0",
         "53542",
         "0.0",
         "0.07941796",
         "0.07941796",
         "0.88613206",
         "0",
         "Left-leaning"
        ],
        [
         "4507",
         "Sweden",
         "SE33",
         "Övre Norrland",
         "1987",
         null,
         "771411",
         "674180",
         "0.3277498",
         "0",
         "53542",
         "0.0",
         "0.07941796",
         "0.07941796",
         "0.88613206",
         "0",
         "Left-leaning"
        ],
        [
         "4508",
         "Sweden",
         "SE33",
         "Övre Norrland",
         "1988",
         "National + Regional A",
         "773096",
         "647397",
         "0.31931138",
         "0",
         "51009",
         "0.0",
         "0.07879091",
         "0.07879091",
         "0.8501118",
         "0",
         "Left-leaning"
        ],
        [
         "4509",
         "Sweden",
         "SE33",
         "Övre Norrland",
         "1989",
         null,
         "773096",
         "647397",
         "0.31931138",
         "0",
         "51009",
         "0.0",
         "0.07879091",
         "0.07879091",
         "0.8501118",
         "0",
         "Left-leaning"
        ],
        [
         "4510",
         "Sweden",
         "SE33",
         "Övre Norrland",
         "1990",
         null,
         "773096",
         "647397",
         "0.31931138",
         "0",
         "51009",
         "0.0",
         "0.07879091",
         "0.07879091",
         "0.8501118",
         "0",
         "Left-leaning"
        ],
        [
         "4511",
         "Sweden",
         "SE33",
         "Övre Norrland",
         "1991",
         "National + Regional A",
         "784166",
         "654372",
         "0.29178965",
         "11621",
         "48149",
         "0.017759012",
         "0.07358047",
         "0.091339484",
         "0.8487744",
         "0",
         "Other"
        ],
        [
         "4512",
         "Sweden",
         "SE33",
         "Övre Norrland",
         "1992",
         null,
         "784166",
         "654372",
         "0.29178965",
         "11621",
         "48149",
         "0.017759012",
         "0.07358047",
         "0.091339484",
         "0.8487744",
         "0",
         "Other"
        ],
        [
         "4513",
         "Sweden",
         "SE33",
         "Övre Norrland",
         "1993",
         null,
         "784166",
         "654372",
         "0.29178965",
         "11621",
         "48149",
         "0.017759012",
         "0.07358047",
         "0.091339484",
         "0.8487744",
         "0",
         "Other"
        ],
        [
         "4514",
         "Sweden",
         "SE33",
         "Övre Norrland",
         "1994",
         "National + Regional A",
         "797264",
         "679351",
         "0.31809846",
         "2002",
         "57078",
         "0.0029469302",
         "0.084018424",
         "0.08696535",
         "0.86210716",
         "0",
         "Left-leaning"
        ],
        [
         "4515",
         "Sweden",
         "SE33",
         "Övre Norrland",
         "1995",
         "European",
         "395935",
         "167009",
         "0.23235045",
         "0",
         "42968",
         "0.0",
         "0.25727955",
         "0.25727955",
         "0.42588052",
         "0",
         "Left-leaning"
        ],
        [
         "4516",
         "Sweden",
         "SE33",
         "Övre Norrland",
         "1996",
         null,
         "395935",
         "167009",
         "0.23235045",
         "0",
         "42968",
         "0.0",
         "0.25727955",
         "0.25727955",
         "0.42588052",
         "0",
         "Left-leaning"
        ],
        [
         "4517",
         "Sweden",
         "SE33",
         "Övre Norrland",
         "1997",
         null,
         "395935",
         "167009",
         "0.23235045",
         "0",
         "42968",
         "0.0",
         "0.25727955",
         "0.25727955",
         "0.42588052",
         "0",
         "Left-leaning"
        ],
        [
         "4518",
         "Sweden",
         "SE33",
         "Övre Norrland",
         "1998",
         "National + Regional A",
         "795715",
         "631174",
         "0.2539914",
         "425",
         "112559",
         "0.0006733484",
         "0.17833276",
         "0.17900611",
         "0.8073946",
         "0",
         "Left-leaning"
        ],
        [
         "4519",
         "Sweden",
         "SE33",
         "Övre Norrland",
         "1999",
         "European",
         "394851",
         "145646",
         "0.24290918",
         "0",
         "53097",
         "0.0",
         "0.36456203",
         "0.36456203",
         "0.3740373",
         "0",
         "Left-leaning"
        ],
        [
         "4520",
         "Sweden",
         "SE33",
         "Övre Norrland",
         "2000",
         null,
         "394851",
         "145646",
         "0.24290918",
         "0",
         "53097",
         "0.0",
         "0.36456203",
         "0.36456203",
         "0.3740373",
         "0",
         "Left-leaning"
        ],
        [
         "4521",
         "Sweden",
         "SE33",
         "Övre Norrland",
         "2001",
         null,
         "394851",
         "145646",
         "0.24290918",
         "0",
         "53097",
         "0.0",
         "0.36456203",
         "0.36456203",
         "0.3740373",
         "0",
         "Left-leaning"
        ],
        [
         "4522",
         "Sweden",
         "SE33",
         "Övre Norrland",
         "2002",
         "National + Regional A",
         "786228",
         "615417",
         "0.24355772",
         "1078",
         "80869",
         "0.0017516578",
         "0.1314052",
         "0.13315687",
         "0.79525787",
         "0",
         "Left-leaning"
        ],
        [
         "4523",
         "Sweden",
         "SE33",
         "Övre Norrland",
         "2003",
         null,
         "786228",
         "615417",
         "0.24355772",
         "1078",
         "80869",
         "0.0017516578",
         "0.1314052",
         "0.13315687",
         "0.79525787",
         "0",
         "Left-leaning"
        ],
        [
         "4524",
         "Sweden",
         "SE33",
         "Övre Norrland",
         "2004",
         "European",
         "392963",
         "148490",
         "0.21605724",
         "66",
         "52473",
         "0.00044447437",
         "0.35337734",
         "0.3538218",
         "0.3851762",
         "0",
         "Left-leaning"
        ],
        [
         "4525",
         "Sweden",
         "SE33",
         "Övre Norrland",
         "2005",
         null,
         "392963",
         "148490",
         "0.21605724",
         "66",
         "52473",
         "0.00044447437",
         "0.35337734",
         "0.3538218",
         "0.3851762",
         "0",
         "Left-leaning"
        ],
        [
         "4526",
         "Sweden",
         "SE33",
         "Övre Norrland",
         "2006",
         "National + Regional A",
         "795399",
         "629531",
         "0.25159436",
         "6676",
         "65145",
         "0.01060472",
         "0.1034818",
         "0.114086516",
         "0.8074916",
         "0",
         "Other"
        ],
        [
         "4527",
         "Sweden",
         "SE33",
         "Övre Norrland",
         "2007",
         null,
         "795399",
         "629531",
         "0.25159436",
         "6676",
         "65145",
         "0.01060472",
         "0.1034818",
         "0.114086516",
         "0.8074916",
         "0",
         "Other"
        ],
        [
         "4528",
         "Sweden",
         "SE33",
         "Övre Norrland",
         "2008",
         null,
         "795399",
         "629531",
         "0.25159436",
         "6676",
         "65145",
         "0.01060472",
         "0.1034818",
         "0.114086516",
         "0.8074916",
         "0",
         "Other"
        ],
        [
         "4529",
         "Sweden",
         "SE33",
         "Övre Norrland",
         "2009",
         "European",
         "397332",
         "168221",
         "0.17146589",
         "2628",
         "16429",
         "0.015622307",
         "0.097663194",
         "0.1132855",
         "0.42987978",
         "0",
         "Other"
        ],
        [
         "4530",
         "Sweden",
         "SE33",
         "Övre Norrland",
         "2010",
         "National + Regional A",
         "803062",
         "660666",
         "0.25518367",
         "16251",
         "68424",
         "0.024597906",
         "0.10356822",
         "0.12816612",
         "0.8351833",
         "0",
         "Other"
        ],
        [
         "4531",
         "Sweden",
         "SE33",
         "Övre Norrland",
         "2011",
         null,
         "803062",
         "660666",
         "0.25518367",
         "16251",
         "68424",
         "0.024597906",
         "0.10356822",
         "0.12816612",
         "0.8351833",
         "0",
         "Other"
        ],
        [
         "4532",
         "Sweden",
         "SE33",
         "Övre Norrland",
         "2012",
         null,
         "803062",
         "660666",
         "0.25518367",
         "16251",
         "68424",
         "0.024597906",
         "0.10356822",
         "0.12816612",
         "0.8351833",
         "0",
         "Other"
        ],
        [
         "4533",
         "Sweden",
         "SE33",
         "Övre Norrland",
         "2013",
         null,
         "803062",
         "660666",
         "0.25518367",
         "16251",
         "68424",
         "0.024597906",
         "0.10356822",
         "0.12816612",
         "0.8351833",
         "0",
         "Other"
        ],
        [
         "4534",
         "Sweden",
         "SE33",
         "Övre Norrland",
         "2014",
         "National + Regional B",
         "1211834",
         "877980",
         "0.21300048",
         "59626",
         "94202",
         "0.067912705",
         "0.107294016",
         "0.17520672",
         "0.73451394",
         "0",
         "Left-leaning"
        ],
        [
         "4535",
         "Sweden",
         "SE33",
         "Övre Norrland",
         "2015",
         null,
         "1211834",
         "877980",
         "0.21300048",
         "59626",
         "94202",
         "0.067912705",
         "0.107294016",
         "0.17520672",
         "0.73451394",
         "0",
         "Left-leaning"
        ]
       ],
       "shape": {
        "columns": 16,
        "rows": 36
       }
      },
      "text/html": [
       "<div>\n",
       "<style scoped>\n",
       "    .dataframe tbody tr th:only-of-type {\n",
       "        vertical-align: middle;\n",
       "    }\n",
       "\n",
       "    .dataframe tbody tr th {\n",
       "        vertical-align: top;\n",
       "    }\n",
       "\n",
       "    .dataframe thead th {\n",
       "        text-align: right;\n",
       "    }\n",
       "</style>\n",
       "<table border=\"1\" class=\"dataframe\">\n",
       "  <thead>\n",
       "    <tr style=\"text-align: right;\">\n",
       "      <th></th>\n",
       "      <th>country</th>\n",
       "      <th>nuts_id</th>\n",
       "      <th>nuts_name</th>\n",
       "      <th>year</th>\n",
       "      <th>election_type</th>\n",
       "      <th>number_eligible_voters</th>\n",
       "      <th>number_valid_votes</th>\n",
       "      <th>number_parties_effective</th>\n",
       "      <th>number_votes_far_right</th>\n",
       "      <th>number_votes_far_left</th>\n",
       "      <th>share_votes_far_right</th>\n",
       "      <th>share_votes_far_left</th>\n",
       "      <th>share_votes_far_any</th>\n",
       "      <th>share_voter_turnout</th>\n",
       "      <th>number_votes_far_any_incumbent</th>\n",
       "      <th>pm_party_orientation</th>\n",
       "    </tr>\n",
       "  </thead>\n",
       "  <tbody>\n",
       "    <tr>\n",
       "      <th>4500</th>\n",
       "      <td>Sweden</td>\n",
       "      <td>SE33</td>\n",
       "      <td>Övre Norrland</td>\n",
       "      <td>1980</td>\n",
       "      <td>NaN</td>\n",
       "      <td>749207</td>\n",
       "      <td>664915</td>\n",
       "      <td>0.313727</td>\n",
       "      <td>0</td>\n",
       "      <td>57649</td>\n",
       "      <td>0.000000</td>\n",
       "      <td>0.086701</td>\n",
       "      <td>0.086701</td>\n",
       "      <td>0.898924</td>\n",
       "      <td>0</td>\n",
       "      <td>Other</td>\n",
       "    </tr>\n",
       "    <tr>\n",
       "      <th>4501</th>\n",
       "      <td>Sweden</td>\n",
       "      <td>SE33</td>\n",
       "      <td>Övre Norrland</td>\n",
       "      <td>1981</td>\n",
       "      <td>NaN</td>\n",
       "      <td>749207</td>\n",
       "      <td>664915</td>\n",
       "      <td>0.313727</td>\n",
       "      <td>0</td>\n",
       "      <td>57649</td>\n",
       "      <td>0.000000</td>\n",
       "      <td>0.086701</td>\n",
       "      <td>0.086701</td>\n",
       "      <td>0.898924</td>\n",
       "      <td>0</td>\n",
       "      <td>Other</td>\n",
       "    </tr>\n",
       "    <tr>\n",
       "      <th>4502</th>\n",
       "      <td>Sweden</td>\n",
       "      <td>SE33</td>\n",
       "      <td>Övre Norrland</td>\n",
       "      <td>1982</td>\n",
       "      <td>National + Regional A</td>\n",
       "      <td>763039</td>\n",
       "      <td>679257</td>\n",
       "      <td>0.339119</td>\n",
       "      <td>0</td>\n",
       "      <td>53172</td>\n",
       "      <td>0.000000</td>\n",
       "      <td>0.078280</td>\n",
       "      <td>0.078280</td>\n",
       "      <td>0.901354</td>\n",
       "      <td>0</td>\n",
       "      <td>Left-leaning</td>\n",
       "    </tr>\n",
       "    <tr>\n",
       "      <th>4503</th>\n",
       "      <td>Sweden</td>\n",
       "      <td>SE33</td>\n",
       "      <td>Övre Norrland</td>\n",
       "      <td>1983</td>\n",
       "      <td>NaN</td>\n",
       "      <td>763039</td>\n",
       "      <td>679257</td>\n",
       "      <td>0.339119</td>\n",
       "      <td>0</td>\n",
       "      <td>53172</td>\n",
       "      <td>0.000000</td>\n",
       "      <td>0.078280</td>\n",
       "      <td>0.078280</td>\n",
       "      <td>0.901354</td>\n",
       "      <td>0</td>\n",
       "      <td>Left-leaning</td>\n",
       "    </tr>\n",
       "    <tr>\n",
       "      <th>4504</th>\n",
       "      <td>Sweden</td>\n",
       "      <td>SE33</td>\n",
       "      <td>Övre Norrland</td>\n",
       "      <td>1984</td>\n",
       "      <td>NaN</td>\n",
       "      <td>763039</td>\n",
       "      <td>679257</td>\n",
       "      <td>0.339119</td>\n",
       "      <td>0</td>\n",
       "      <td>53172</td>\n",
       "      <td>0.000000</td>\n",
       "      <td>0.078280</td>\n",
       "      <td>0.078280</td>\n",
       "      <td>0.901354</td>\n",
       "      <td>0</td>\n",
       "      <td>Left-leaning</td>\n",
       "    </tr>\n",
       "    <tr>\n",
       "      <th>4505</th>\n",
       "      <td>Sweden</td>\n",
       "      <td>SE33</td>\n",
       "      <td>Övre Norrland</td>\n",
       "      <td>1985</td>\n",
       "      <td>National + Regional A</td>\n",
       "      <td>771411</td>\n",
       "      <td>674180</td>\n",
       "      <td>0.327750</td>\n",
       "      <td>0</td>\n",
       "      <td>53542</td>\n",
       "      <td>0.000000</td>\n",
       "      <td>0.079418</td>\n",
       "      <td>0.079418</td>\n",
       "      <td>0.886132</td>\n",
       "      <td>0</td>\n",
       "      <td>Left-leaning</td>\n",
       "    </tr>\n",
       "    <tr>\n",
       "      <th>4506</th>\n",
       "      <td>Sweden</td>\n",
       "      <td>SE33</td>\n",
       "      <td>Övre Norrland</td>\n",
       "      <td>1986</td>\n",
       "      <td>NaN</td>\n",
       "      <td>771411</td>\n",
       "      <td>674180</td>\n",
       "      <td>0.327750</td>\n",
       "      <td>0</td>\n",
       "      <td>53542</td>\n",
       "      <td>0.000000</td>\n",
       "      <td>0.079418</td>\n",
       "      <td>0.079418</td>\n",
       "      <td>0.886132</td>\n",
       "      <td>0</td>\n",
       "      <td>Left-leaning</td>\n",
       "    </tr>\n",
       "    <tr>\n",
       "      <th>4507</th>\n",
       "      <td>Sweden</td>\n",
       "      <td>SE33</td>\n",
       "      <td>Övre Norrland</td>\n",
       "      <td>1987</td>\n",
       "      <td>NaN</td>\n",
       "      <td>771411</td>\n",
       "      <td>674180</td>\n",
       "      <td>0.327750</td>\n",
       "      <td>0</td>\n",
       "      <td>53542</td>\n",
       "      <td>0.000000</td>\n",
       "      <td>0.079418</td>\n",
       "      <td>0.079418</td>\n",
       "      <td>0.886132</td>\n",
       "      <td>0</td>\n",
       "      <td>Left-leaning</td>\n",
       "    </tr>\n",
       "    <tr>\n",
       "      <th>4508</th>\n",
       "      <td>Sweden</td>\n",
       "      <td>SE33</td>\n",
       "      <td>Övre Norrland</td>\n",
       "      <td>1988</td>\n",
       "      <td>National + Regional A</td>\n",
       "      <td>773096</td>\n",
       "      <td>647397</td>\n",
       "      <td>0.319311</td>\n",
       "      <td>0</td>\n",
       "      <td>51009</td>\n",
       "      <td>0.000000</td>\n",
       "      <td>0.078791</td>\n",
       "      <td>0.078791</td>\n",
       "      <td>0.850112</td>\n",
       "      <td>0</td>\n",
       "      <td>Left-leaning</td>\n",
       "    </tr>\n",
       "    <tr>\n",
       "      <th>4509</th>\n",
       "      <td>Sweden</td>\n",
       "      <td>SE33</td>\n",
       "      <td>Övre Norrland</td>\n",
       "      <td>1989</td>\n",
       "      <td>NaN</td>\n",
       "      <td>773096</td>\n",
       "      <td>647397</td>\n",
       "      <td>0.319311</td>\n",
       "      <td>0</td>\n",
       "      <td>51009</td>\n",
       "      <td>0.000000</td>\n",
       "      <td>0.078791</td>\n",
       "      <td>0.078791</td>\n",
       "      <td>0.850112</td>\n",
       "      <td>0</td>\n",
       "      <td>Left-leaning</td>\n",
       "    </tr>\n",
       "    <tr>\n",
       "      <th>4510</th>\n",
       "      <td>Sweden</td>\n",
       "      <td>SE33</td>\n",
       "      <td>Övre Norrland</td>\n",
       "      <td>1990</td>\n",
       "      <td>NaN</td>\n",
       "      <td>773096</td>\n",
       "      <td>647397</td>\n",
       "      <td>0.319311</td>\n",
       "      <td>0</td>\n",
       "      <td>51009</td>\n",
       "      <td>0.000000</td>\n",
       "      <td>0.078791</td>\n",
       "      <td>0.078791</td>\n",
       "      <td>0.850112</td>\n",
       "      <td>0</td>\n",
       "      <td>Left-leaning</td>\n",
       "    </tr>\n",
       "    <tr>\n",
       "      <th>4511</th>\n",
       "      <td>Sweden</td>\n",
       "      <td>SE33</td>\n",
       "      <td>Övre Norrland</td>\n",
       "      <td>1991</td>\n",
       "      <td>National + Regional A</td>\n",
       "      <td>784166</td>\n",
       "      <td>654372</td>\n",
       "      <td>0.291790</td>\n",
       "      <td>11621</td>\n",
       "      <td>48149</td>\n",
       "      <td>0.017759</td>\n",
       "      <td>0.073580</td>\n",
       "      <td>0.091339</td>\n",
       "      <td>0.848774</td>\n",
       "      <td>0</td>\n",
       "      <td>Other</td>\n",
       "    </tr>\n",
       "    <tr>\n",
       "      <th>4512</th>\n",
       "      <td>Sweden</td>\n",
       "      <td>SE33</td>\n",
       "      <td>Övre Norrland</td>\n",
       "      <td>1992</td>\n",
       "      <td>NaN</td>\n",
       "      <td>784166</td>\n",
       "      <td>654372</td>\n",
       "      <td>0.291790</td>\n",
       "      <td>11621</td>\n",
       "      <td>48149</td>\n",
       "      <td>0.017759</td>\n",
       "      <td>0.073580</td>\n",
       "      <td>0.091339</td>\n",
       "      <td>0.848774</td>\n",
       "      <td>0</td>\n",
       "      <td>Other</td>\n",
       "    </tr>\n",
       "    <tr>\n",
       "      <th>4513</th>\n",
       "      <td>Sweden</td>\n",
       "      <td>SE33</td>\n",
       "      <td>Övre Norrland</td>\n",
       "      <td>1993</td>\n",
       "      <td>NaN</td>\n",
       "      <td>784166</td>\n",
       "      <td>654372</td>\n",
       "      <td>0.291790</td>\n",
       "      <td>11621</td>\n",
       "      <td>48149</td>\n",
       "      <td>0.017759</td>\n",
       "      <td>0.073580</td>\n",
       "      <td>0.091339</td>\n",
       "      <td>0.848774</td>\n",
       "      <td>0</td>\n",
       "      <td>Other</td>\n",
       "    </tr>\n",
       "    <tr>\n",
       "      <th>4514</th>\n",
       "      <td>Sweden</td>\n",
       "      <td>SE33</td>\n",
       "      <td>Övre Norrland</td>\n",
       "      <td>1994</td>\n",
       "      <td>National + Regional A</td>\n",
       "      <td>797264</td>\n",
       "      <td>679351</td>\n",
       "      <td>0.318098</td>\n",
       "      <td>2002</td>\n",
       "      <td>57078</td>\n",
       "      <td>0.002947</td>\n",
       "      <td>0.084018</td>\n",
       "      <td>0.086965</td>\n",
       "      <td>0.862107</td>\n",
       "      <td>0</td>\n",
       "      <td>Left-leaning</td>\n",
       "    </tr>\n",
       "    <tr>\n",
       "      <th>4515</th>\n",
       "      <td>Sweden</td>\n",
       "      <td>SE33</td>\n",
       "      <td>Övre Norrland</td>\n",
       "      <td>1995</td>\n",
       "      <td>European</td>\n",
       "      <td>395935</td>\n",
       "      <td>167009</td>\n",
       "      <td>0.232350</td>\n",
       "      <td>0</td>\n",
       "      <td>42968</td>\n",
       "      <td>0.000000</td>\n",
       "      <td>0.257280</td>\n",
       "      <td>0.257280</td>\n",
       "      <td>0.425881</td>\n",
       "      <td>0</td>\n",
       "      <td>Left-leaning</td>\n",
       "    </tr>\n",
       "    <tr>\n",
       "      <th>4516</th>\n",
       "      <td>Sweden</td>\n",
       "      <td>SE33</td>\n",
       "      <td>Övre Norrland</td>\n",
       "      <td>1996</td>\n",
       "      <td>NaN</td>\n",
       "      <td>395935</td>\n",
       "      <td>167009</td>\n",
       "      <td>0.232350</td>\n",
       "      <td>0</td>\n",
       "      <td>42968</td>\n",
       "      <td>0.000000</td>\n",
       "      <td>0.257280</td>\n",
       "      <td>0.257280</td>\n",
       "      <td>0.425881</td>\n",
       "      <td>0</td>\n",
       "      <td>Left-leaning</td>\n",
       "    </tr>\n",
       "    <tr>\n",
       "      <th>4517</th>\n",
       "      <td>Sweden</td>\n",
       "      <td>SE33</td>\n",
       "      <td>Övre Norrland</td>\n",
       "      <td>1997</td>\n",
       "      <td>NaN</td>\n",
       "      <td>395935</td>\n",
       "      <td>167009</td>\n",
       "      <td>0.232350</td>\n",
       "      <td>0</td>\n",
       "      <td>42968</td>\n",
       "      <td>0.000000</td>\n",
       "      <td>0.257280</td>\n",
       "      <td>0.257280</td>\n",
       "      <td>0.425881</td>\n",
       "      <td>0</td>\n",
       "      <td>Left-leaning</td>\n",
       "    </tr>\n",
       "    <tr>\n",
       "      <th>4518</th>\n",
       "      <td>Sweden</td>\n",
       "      <td>SE33</td>\n",
       "      <td>Övre Norrland</td>\n",
       "      <td>1998</td>\n",
       "      <td>National + Regional A</td>\n",
       "      <td>795715</td>\n",
       "      <td>631174</td>\n",
       "      <td>0.253991</td>\n",
       "      <td>425</td>\n",
       "      <td>112559</td>\n",
       "      <td>0.000673</td>\n",
       "      <td>0.178333</td>\n",
       "      <td>0.179006</td>\n",
       "      <td>0.807395</td>\n",
       "      <td>0</td>\n",
       "      <td>Left-leaning</td>\n",
       "    </tr>\n",
       "    <tr>\n",
       "      <th>4519</th>\n",
       "      <td>Sweden</td>\n",
       "      <td>SE33</td>\n",
       "      <td>Övre Norrland</td>\n",
       "      <td>1999</td>\n",
       "      <td>European</td>\n",
       "      <td>394851</td>\n",
       "      <td>145646</td>\n",
       "      <td>0.242909</td>\n",
       "      <td>0</td>\n",
       "      <td>53097</td>\n",
       "      <td>0.000000</td>\n",
       "      <td>0.364562</td>\n",
       "      <td>0.364562</td>\n",
       "      <td>0.374037</td>\n",
       "      <td>0</td>\n",
       "      <td>Left-leaning</td>\n",
       "    </tr>\n",
       "    <tr>\n",
       "      <th>4520</th>\n",
       "      <td>Sweden</td>\n",
       "      <td>SE33</td>\n",
       "      <td>Övre Norrland</td>\n",
       "      <td>2000</td>\n",
       "      <td>NaN</td>\n",
       "      <td>394851</td>\n",
       "      <td>145646</td>\n",
       "      <td>0.242909</td>\n",
       "      <td>0</td>\n",
       "      <td>53097</td>\n",
       "      <td>0.000000</td>\n",
       "      <td>0.364562</td>\n",
       "      <td>0.364562</td>\n",
       "      <td>0.374037</td>\n",
       "      <td>0</td>\n",
       "      <td>Left-leaning</td>\n",
       "    </tr>\n",
       "    <tr>\n",
       "      <th>4521</th>\n",
       "      <td>Sweden</td>\n",
       "      <td>SE33</td>\n",
       "      <td>Övre Norrland</td>\n",
       "      <td>2001</td>\n",
       "      <td>NaN</td>\n",
       "      <td>394851</td>\n",
       "      <td>145646</td>\n",
       "      <td>0.242909</td>\n",
       "      <td>0</td>\n",
       "      <td>53097</td>\n",
       "      <td>0.000000</td>\n",
       "      <td>0.364562</td>\n",
       "      <td>0.364562</td>\n",
       "      <td>0.374037</td>\n",
       "      <td>0</td>\n",
       "      <td>Left-leaning</td>\n",
       "    </tr>\n",
       "    <tr>\n",
       "      <th>4522</th>\n",
       "      <td>Sweden</td>\n",
       "      <td>SE33</td>\n",
       "      <td>Övre Norrland</td>\n",
       "      <td>2002</td>\n",
       "      <td>National + Regional A</td>\n",
       "      <td>786228</td>\n",
       "      <td>615417</td>\n",
       "      <td>0.243558</td>\n",
       "      <td>1078</td>\n",
       "      <td>80869</td>\n",
       "      <td>0.001752</td>\n",
       "      <td>0.131405</td>\n",
       "      <td>0.133157</td>\n",
       "      <td>0.795258</td>\n",
       "      <td>0</td>\n",
       "      <td>Left-leaning</td>\n",
       "    </tr>\n",
       "    <tr>\n",
       "      <th>4523</th>\n",
       "      <td>Sweden</td>\n",
       "      <td>SE33</td>\n",
       "      <td>Övre Norrland</td>\n",
       "      <td>2003</td>\n",
       "      <td>NaN</td>\n",
       "      <td>786228</td>\n",
       "      <td>615417</td>\n",
       "      <td>0.243558</td>\n",
       "      <td>1078</td>\n",
       "      <td>80869</td>\n",
       "      <td>0.001752</td>\n",
       "      <td>0.131405</td>\n",
       "      <td>0.133157</td>\n",
       "      <td>0.795258</td>\n",
       "      <td>0</td>\n",
       "      <td>Left-leaning</td>\n",
       "    </tr>\n",
       "    <tr>\n",
       "      <th>4524</th>\n",
       "      <td>Sweden</td>\n",
       "      <td>SE33</td>\n",
       "      <td>Övre Norrland</td>\n",
       "      <td>2004</td>\n",
       "      <td>European</td>\n",
       "      <td>392963</td>\n",
       "      <td>148490</td>\n",
       "      <td>0.216057</td>\n",
       "      <td>66</td>\n",
       "      <td>52473</td>\n",
       "      <td>0.000444</td>\n",
       "      <td>0.353377</td>\n",
       "      <td>0.353822</td>\n",
       "      <td>0.385176</td>\n",
       "      <td>0</td>\n",
       "      <td>Left-leaning</td>\n",
       "    </tr>\n",
       "    <tr>\n",
       "      <th>4525</th>\n",
       "      <td>Sweden</td>\n",
       "      <td>SE33</td>\n",
       "      <td>Övre Norrland</td>\n",
       "      <td>2005</td>\n",
       "      <td>NaN</td>\n",
       "      <td>392963</td>\n",
       "      <td>148490</td>\n",
       "      <td>0.216057</td>\n",
       "      <td>66</td>\n",
       "      <td>52473</td>\n",
       "      <td>0.000444</td>\n",
       "      <td>0.353377</td>\n",
       "      <td>0.353822</td>\n",
       "      <td>0.385176</td>\n",
       "      <td>0</td>\n",
       "      <td>Left-leaning</td>\n",
       "    </tr>\n",
       "    <tr>\n",
       "      <th>4526</th>\n",
       "      <td>Sweden</td>\n",
       "      <td>SE33</td>\n",
       "      <td>Övre Norrland</td>\n",
       "      <td>2006</td>\n",
       "      <td>National + Regional A</td>\n",
       "      <td>795399</td>\n",
       "      <td>629531</td>\n",
       "      <td>0.251594</td>\n",
       "      <td>6676</td>\n",
       "      <td>65145</td>\n",
       "      <td>0.010605</td>\n",
       "      <td>0.103482</td>\n",
       "      <td>0.114087</td>\n",
       "      <td>0.807492</td>\n",
       "      <td>0</td>\n",
       "      <td>Other</td>\n",
       "    </tr>\n",
       "    <tr>\n",
       "      <th>4527</th>\n",
       "      <td>Sweden</td>\n",
       "      <td>SE33</td>\n",
       "      <td>Övre Norrland</td>\n",
       "      <td>2007</td>\n",
       "      <td>NaN</td>\n",
       "      <td>795399</td>\n",
       "      <td>629531</td>\n",
       "      <td>0.251594</td>\n",
       "      <td>6676</td>\n",
       "      <td>65145</td>\n",
       "      <td>0.010605</td>\n",
       "      <td>0.103482</td>\n",
       "      <td>0.114087</td>\n",
       "      <td>0.807492</td>\n",
       "      <td>0</td>\n",
       "      <td>Other</td>\n",
       "    </tr>\n",
       "    <tr>\n",
       "      <th>4528</th>\n",
       "      <td>Sweden</td>\n",
       "      <td>SE33</td>\n",
       "      <td>Övre Norrland</td>\n",
       "      <td>2008</td>\n",
       "      <td>NaN</td>\n",
       "      <td>795399</td>\n",
       "      <td>629531</td>\n",
       "      <td>0.251594</td>\n",
       "      <td>6676</td>\n",
       "      <td>65145</td>\n",
       "      <td>0.010605</td>\n",
       "      <td>0.103482</td>\n",
       "      <td>0.114087</td>\n",
       "      <td>0.807492</td>\n",
       "      <td>0</td>\n",
       "      <td>Other</td>\n",
       "    </tr>\n",
       "    <tr>\n",
       "      <th>4529</th>\n",
       "      <td>Sweden</td>\n",
       "      <td>SE33</td>\n",
       "      <td>Övre Norrland</td>\n",
       "      <td>2009</td>\n",
       "      <td>European</td>\n",
       "      <td>397332</td>\n",
       "      <td>168221</td>\n",
       "      <td>0.171466</td>\n",
       "      <td>2628</td>\n",
       "      <td>16429</td>\n",
       "      <td>0.015622</td>\n",
       "      <td>0.097663</td>\n",
       "      <td>0.113285</td>\n",
       "      <td>0.429880</td>\n",
       "      <td>0</td>\n",
       "      <td>Other</td>\n",
       "    </tr>\n",
       "    <tr>\n",
       "      <th>4530</th>\n",
       "      <td>Sweden</td>\n",
       "      <td>SE33</td>\n",
       "      <td>Övre Norrland</td>\n",
       "      <td>2010</td>\n",
       "      <td>National + Regional A</td>\n",
       "      <td>803062</td>\n",
       "      <td>660666</td>\n",
       "      <td>0.255184</td>\n",
       "      <td>16251</td>\n",
       "      <td>68424</td>\n",
       "      <td>0.024598</td>\n",
       "      <td>0.103568</td>\n",
       "      <td>0.128166</td>\n",
       "      <td>0.835183</td>\n",
       "      <td>0</td>\n",
       "      <td>Other</td>\n",
       "    </tr>\n",
       "    <tr>\n",
       "      <th>4531</th>\n",
       "      <td>Sweden</td>\n",
       "      <td>SE33</td>\n",
       "      <td>Övre Norrland</td>\n",
       "      <td>2011</td>\n",
       "      <td>NaN</td>\n",
       "      <td>803062</td>\n",
       "      <td>660666</td>\n",
       "      <td>0.255184</td>\n",
       "      <td>16251</td>\n",
       "      <td>68424</td>\n",
       "      <td>0.024598</td>\n",
       "      <td>0.103568</td>\n",
       "      <td>0.128166</td>\n",
       "      <td>0.835183</td>\n",
       "      <td>0</td>\n",
       "      <td>Other</td>\n",
       "    </tr>\n",
       "    <tr>\n",
       "      <th>4532</th>\n",
       "      <td>Sweden</td>\n",
       "      <td>SE33</td>\n",
       "      <td>Övre Norrland</td>\n",
       "      <td>2012</td>\n",
       "      <td>NaN</td>\n",
       "      <td>803062</td>\n",
       "      <td>660666</td>\n",
       "      <td>0.255184</td>\n",
       "      <td>16251</td>\n",
       "      <td>68424</td>\n",
       "      <td>0.024598</td>\n",
       "      <td>0.103568</td>\n",
       "      <td>0.128166</td>\n",
       "      <td>0.835183</td>\n",
       "      <td>0</td>\n",
       "      <td>Other</td>\n",
       "    </tr>\n",
       "    <tr>\n",
       "      <th>4533</th>\n",
       "      <td>Sweden</td>\n",
       "      <td>SE33</td>\n",
       "      <td>Övre Norrland</td>\n",
       "      <td>2013</td>\n",
       "      <td>NaN</td>\n",
       "      <td>803062</td>\n",
       "      <td>660666</td>\n",
       "      <td>0.255184</td>\n",
       "      <td>16251</td>\n",
       "      <td>68424</td>\n",
       "      <td>0.024598</td>\n",
       "      <td>0.103568</td>\n",
       "      <td>0.128166</td>\n",
       "      <td>0.835183</td>\n",
       "      <td>0</td>\n",
       "      <td>Other</td>\n",
       "    </tr>\n",
       "    <tr>\n",
       "      <th>4534</th>\n",
       "      <td>Sweden</td>\n",
       "      <td>SE33</td>\n",
       "      <td>Övre Norrland</td>\n",
       "      <td>2014</td>\n",
       "      <td>National + Regional B</td>\n",
       "      <td>1211834</td>\n",
       "      <td>877980</td>\n",
       "      <td>0.213000</td>\n",
       "      <td>59626</td>\n",
       "      <td>94202</td>\n",
       "      <td>0.067913</td>\n",
       "      <td>0.107294</td>\n",
       "      <td>0.175207</td>\n",
       "      <td>0.734514</td>\n",
       "      <td>0</td>\n",
       "      <td>Left-leaning</td>\n",
       "    </tr>\n",
       "    <tr>\n",
       "      <th>4535</th>\n",
       "      <td>Sweden</td>\n",
       "      <td>SE33</td>\n",
       "      <td>Övre Norrland</td>\n",
       "      <td>2015</td>\n",
       "      <td>NaN</td>\n",
       "      <td>1211834</td>\n",
       "      <td>877980</td>\n",
       "      <td>0.213000</td>\n",
       "      <td>59626</td>\n",
       "      <td>94202</td>\n",
       "      <td>0.067913</td>\n",
       "      <td>0.107294</td>\n",
       "      <td>0.175207</td>\n",
       "      <td>0.734514</td>\n",
       "      <td>0</td>\n",
       "      <td>Left-leaning</td>\n",
       "    </tr>\n",
       "  </tbody>\n",
       "</table>\n",
       "</div>"
      ],
      "text/plain": [
       "     country nuts_id      nuts_name  year          election_type  \\\n",
       "4500  Sweden    SE33  Övre Norrland  1980                    NaN   \n",
       "4501  Sweden    SE33  Övre Norrland  1981                    NaN   \n",
       "4502  Sweden    SE33  Övre Norrland  1982  National + Regional A   \n",
       "4503  Sweden    SE33  Övre Norrland  1983                    NaN   \n",
       "4504  Sweden    SE33  Övre Norrland  1984                    NaN   \n",
       "4505  Sweden    SE33  Övre Norrland  1985  National + Regional A   \n",
       "4506  Sweden    SE33  Övre Norrland  1986                    NaN   \n",
       "4507  Sweden    SE33  Övre Norrland  1987                    NaN   \n",
       "4508  Sweden    SE33  Övre Norrland  1988  National + Regional A   \n",
       "4509  Sweden    SE33  Övre Norrland  1989                    NaN   \n",
       "4510  Sweden    SE33  Övre Norrland  1990                    NaN   \n",
       "4511  Sweden    SE33  Övre Norrland  1991  National + Regional A   \n",
       "4512  Sweden    SE33  Övre Norrland  1992                    NaN   \n",
       "4513  Sweden    SE33  Övre Norrland  1993                    NaN   \n",
       "4514  Sweden    SE33  Övre Norrland  1994  National + Regional A   \n",
       "4515  Sweden    SE33  Övre Norrland  1995               European   \n",
       "4516  Sweden    SE33  Övre Norrland  1996                    NaN   \n",
       "4517  Sweden    SE33  Övre Norrland  1997                    NaN   \n",
       "4518  Sweden    SE33  Övre Norrland  1998  National + Regional A   \n",
       "4519  Sweden    SE33  Övre Norrland  1999               European   \n",
       "4520  Sweden    SE33  Övre Norrland  2000                    NaN   \n",
       "4521  Sweden    SE33  Övre Norrland  2001                    NaN   \n",
       "4522  Sweden    SE33  Övre Norrland  2002  National + Regional A   \n",
       "4523  Sweden    SE33  Övre Norrland  2003                    NaN   \n",
       "4524  Sweden    SE33  Övre Norrland  2004               European   \n",
       "4525  Sweden    SE33  Övre Norrland  2005                    NaN   \n",
       "4526  Sweden    SE33  Övre Norrland  2006  National + Regional A   \n",
       "4527  Sweden    SE33  Övre Norrland  2007                    NaN   \n",
       "4528  Sweden    SE33  Övre Norrland  2008                    NaN   \n",
       "4529  Sweden    SE33  Övre Norrland  2009               European   \n",
       "4530  Sweden    SE33  Övre Norrland  2010  National + Regional A   \n",
       "4531  Sweden    SE33  Övre Norrland  2011                    NaN   \n",
       "4532  Sweden    SE33  Övre Norrland  2012                    NaN   \n",
       "4533  Sweden    SE33  Övre Norrland  2013                    NaN   \n",
       "4534  Sweden    SE33  Övre Norrland  2014  National + Regional B   \n",
       "4535  Sweden    SE33  Övre Norrland  2015                    NaN   \n",
       "\n",
       "      number_eligible_voters  number_valid_votes  number_parties_effective  \\\n",
       "4500                  749207              664915                  0.313727   \n",
       "4501                  749207              664915                  0.313727   \n",
       "4502                  763039              679257                  0.339119   \n",
       "4503                  763039              679257                  0.339119   \n",
       "4504                  763039              679257                  0.339119   \n",
       "4505                  771411              674180                  0.327750   \n",
       "4506                  771411              674180                  0.327750   \n",
       "4507                  771411              674180                  0.327750   \n",
       "4508                  773096              647397                  0.319311   \n",
       "4509                  773096              647397                  0.319311   \n",
       "4510                  773096              647397                  0.319311   \n",
       "4511                  784166              654372                  0.291790   \n",
       "4512                  784166              654372                  0.291790   \n",
       "4513                  784166              654372                  0.291790   \n",
       "4514                  797264              679351                  0.318098   \n",
       "4515                  395935              167009                  0.232350   \n",
       "4516                  395935              167009                  0.232350   \n",
       "4517                  395935              167009                  0.232350   \n",
       "4518                  795715              631174                  0.253991   \n",
       "4519                  394851              145646                  0.242909   \n",
       "4520                  394851              145646                  0.242909   \n",
       "4521                  394851              145646                  0.242909   \n",
       "4522                  786228              615417                  0.243558   \n",
       "4523                  786228              615417                  0.243558   \n",
       "4524                  392963              148490                  0.216057   \n",
       "4525                  392963              148490                  0.216057   \n",
       "4526                  795399              629531                  0.251594   \n",
       "4527                  795399              629531                  0.251594   \n",
       "4528                  795399              629531                  0.251594   \n",
       "4529                  397332              168221                  0.171466   \n",
       "4530                  803062              660666                  0.255184   \n",
       "4531                  803062              660666                  0.255184   \n",
       "4532                  803062              660666                  0.255184   \n",
       "4533                  803062              660666                  0.255184   \n",
       "4534                 1211834              877980                  0.213000   \n",
       "4535                 1211834              877980                  0.213000   \n",
       "\n",
       "      number_votes_far_right  number_votes_far_left  share_votes_far_right  \\\n",
       "4500                       0                  57649               0.000000   \n",
       "4501                       0                  57649               0.000000   \n",
       "4502                       0                  53172               0.000000   \n",
       "4503                       0                  53172               0.000000   \n",
       "4504                       0                  53172               0.000000   \n",
       "4505                       0                  53542               0.000000   \n",
       "4506                       0                  53542               0.000000   \n",
       "4507                       0                  53542               0.000000   \n",
       "4508                       0                  51009               0.000000   \n",
       "4509                       0                  51009               0.000000   \n",
       "4510                       0                  51009               0.000000   \n",
       "4511                   11621                  48149               0.017759   \n",
       "4512                   11621                  48149               0.017759   \n",
       "4513                   11621                  48149               0.017759   \n",
       "4514                    2002                  57078               0.002947   \n",
       "4515                       0                  42968               0.000000   \n",
       "4516                       0                  42968               0.000000   \n",
       "4517                       0                  42968               0.000000   \n",
       "4518                     425                 112559               0.000673   \n",
       "4519                       0                  53097               0.000000   \n",
       "4520                       0                  53097               0.000000   \n",
       "4521                       0                  53097               0.000000   \n",
       "4522                    1078                  80869               0.001752   \n",
       "4523                    1078                  80869               0.001752   \n",
       "4524                      66                  52473               0.000444   \n",
       "4525                      66                  52473               0.000444   \n",
       "4526                    6676                  65145               0.010605   \n",
       "4527                    6676                  65145               0.010605   \n",
       "4528                    6676                  65145               0.010605   \n",
       "4529                    2628                  16429               0.015622   \n",
       "4530                   16251                  68424               0.024598   \n",
       "4531                   16251                  68424               0.024598   \n",
       "4532                   16251                  68424               0.024598   \n",
       "4533                   16251                  68424               0.024598   \n",
       "4534                   59626                  94202               0.067913   \n",
       "4535                   59626                  94202               0.067913   \n",
       "\n",
       "      share_votes_far_left  share_votes_far_any  share_voter_turnout  \\\n",
       "4500              0.086701             0.086701             0.898924   \n",
       "4501              0.086701             0.086701             0.898924   \n",
       "4502              0.078280             0.078280             0.901354   \n",
       "4503              0.078280             0.078280             0.901354   \n",
       "4504              0.078280             0.078280             0.901354   \n",
       "4505              0.079418             0.079418             0.886132   \n",
       "4506              0.079418             0.079418             0.886132   \n",
       "4507              0.079418             0.079418             0.886132   \n",
       "4508              0.078791             0.078791             0.850112   \n",
       "4509              0.078791             0.078791             0.850112   \n",
       "4510              0.078791             0.078791             0.850112   \n",
       "4511              0.073580             0.091339             0.848774   \n",
       "4512              0.073580             0.091339             0.848774   \n",
       "4513              0.073580             0.091339             0.848774   \n",
       "4514              0.084018             0.086965             0.862107   \n",
       "4515              0.257280             0.257280             0.425881   \n",
       "4516              0.257280             0.257280             0.425881   \n",
       "4517              0.257280             0.257280             0.425881   \n",
       "4518              0.178333             0.179006             0.807395   \n",
       "4519              0.364562             0.364562             0.374037   \n",
       "4520              0.364562             0.364562             0.374037   \n",
       "4521              0.364562             0.364562             0.374037   \n",
       "4522              0.131405             0.133157             0.795258   \n",
       "4523              0.131405             0.133157             0.795258   \n",
       "4524              0.353377             0.353822             0.385176   \n",
       "4525              0.353377             0.353822             0.385176   \n",
       "4526              0.103482             0.114087             0.807492   \n",
       "4527              0.103482             0.114087             0.807492   \n",
       "4528              0.103482             0.114087             0.807492   \n",
       "4529              0.097663             0.113285             0.429880   \n",
       "4530              0.103568             0.128166             0.835183   \n",
       "4531              0.103568             0.128166             0.835183   \n",
       "4532              0.103568             0.128166             0.835183   \n",
       "4533              0.103568             0.128166             0.835183   \n",
       "4534              0.107294             0.175207             0.734514   \n",
       "4535              0.107294             0.175207             0.734514   \n",
       "\n",
       "      number_votes_far_any_incumbent pm_party_orientation  \n",
       "4500                               0                Other  \n",
       "4501                               0                Other  \n",
       "4502                               0         Left-leaning  \n",
       "4503                               0         Left-leaning  \n",
       "4504                               0         Left-leaning  \n",
       "4505                               0         Left-leaning  \n",
       "4506                               0         Left-leaning  \n",
       "4507                               0         Left-leaning  \n",
       "4508                               0         Left-leaning  \n",
       "4509                               0         Left-leaning  \n",
       "4510                               0         Left-leaning  \n",
       "4511                               0                Other  \n",
       "4512                               0                Other  \n",
       "4513                               0                Other  \n",
       "4514                               0         Left-leaning  \n",
       "4515                               0         Left-leaning  \n",
       "4516                               0         Left-leaning  \n",
       "4517                               0         Left-leaning  \n",
       "4518                               0         Left-leaning  \n",
       "4519                               0         Left-leaning  \n",
       "4520                               0         Left-leaning  \n",
       "4521                               0         Left-leaning  \n",
       "4522                               0         Left-leaning  \n",
       "4523                               0         Left-leaning  \n",
       "4524                               0         Left-leaning  \n",
       "4525                               0         Left-leaning  \n",
       "4526                               0                Other  \n",
       "4527                               0                Other  \n",
       "4528                               0                Other  \n",
       "4529                               0                Other  \n",
       "4530                               0                Other  \n",
       "4531                               0                Other  \n",
       "4532                               0                Other  \n",
       "4533                               0                Other  \n",
       "4534                               0         Left-leaning  \n",
       "4535                               0         Left-leaning  "
      ]
     },
     "execution_count": 38,
     "metadata": {},
     "output_type": "execute_result"
    }
   ],
   "source": [
    "data.query(\"nuts_id == 'SE33'\")"
   ]
  },
  {
   "cell_type": "markdown",
   "id": "59",
   "metadata": {},
   "source": [
    "---\n",
    "### Question 14\n",
    "\n",
    "Make three plots of mean vote shares by year, across all NUTS regions and elections.\n",
    "- far right share\n",
    "- far left share\n",
    "- far share (any)\n",
    "\n",
    "Don't worry about whether these plots make a lot of sense (i.e., any weighting with\n",
    "electorate size or the like)."
   ]
  },
  {
   "cell_type": "code",
   "execution_count": 39,
   "id": "60",
   "metadata": {},
   "outputs": [
    {
     "data": {
      "text/plain": [
       "(2362, 16)"
      ]
     },
     "execution_count": 39,
     "metadata": {},
     "output_type": "execute_result"
    }
   ],
   "source": [
    "only_elections = data[data[\"election_type\"].notna()]\n",
    "only_elections.shape"
   ]
  },
  {
   "cell_type": "code",
   "execution_count": 40,
   "id": "61",
   "metadata": {},
   "outputs": [
    {
     "data": {
      "application/vnd.plotly.v1+json": {
       "config": {
        "plotlyServerURL": "https://plot.ly"
       },
       "data": [
        {
         "hovertemplate": "variable=share_votes_far_right<br>year=%{x}<br>value=%{y}<extra></extra>",
         "legendgroup": "share_votes_far_right",
         "line": {
          "color": "#636efa",
          "dash": "solid"
         },
         "marker": {
          "symbol": "circle"
         },
         "mode": "lines",
         "name": "share_votes_far_right",
         "orientation": "v",
         "showlegend": true,
         "type": "scatter",
         "x": {
          "bdata": "vAe9B74HvwfAB8EHwgfDB8QHxQfGB8cHyAfJB8oHywfMB80HzgfPB9AH0QfSB9MH1AfVB9YH1wfYB9kH2gfbB9wH3QfeB98H",
          "dtype": "i2"
         },
         "xaxis": "x",
         "y": {
          "bdata": "ImzFPPYo9TujElI8rHDqPDwkcD1Xtv88tb91PZMy5jz2AWs9lyaYPRGtZT2/yfM8nImzPQ0phj1Ex8E9/dKQPTbV9D0PVeI9Y/ehPWlXsD3N0X89JsLUPUxJZj3tp8o8XD6UPcVwSj2mVMU94rMcPWcmfj0KDmo9t6uaPRImET29+9o9m6mJPQCu5j2O26k9",
          "dtype": "f4"
         },
         "yaxis": "y"
        }
       ],
       "layout": {
        "legend": {
         "title": {
          "text": "variable"
         },
         "tracegroupgap": 0
        },
        "margin": {
         "t": 60
        },
        "template": {
         "data": {
          "bar": [
           {
            "error_x": {
             "color": "#2a3f5f"
            },
            "error_y": {
             "color": "#2a3f5f"
            },
            "marker": {
             "line": {
              "color": "#E5ECF6",
              "width": 0.5
             },
             "pattern": {
              "fillmode": "overlay",
              "size": 10,
              "solidity": 0.2
             }
            },
            "type": "bar"
           }
          ],
          "barpolar": [
           {
            "marker": {
             "line": {
              "color": "#E5ECF6",
              "width": 0.5
             },
             "pattern": {
              "fillmode": "overlay",
              "size": 10,
              "solidity": 0.2
             }
            },
            "type": "barpolar"
           }
          ],
          "carpet": [
           {
            "aaxis": {
             "endlinecolor": "#2a3f5f",
             "gridcolor": "white",
             "linecolor": "white",
             "minorgridcolor": "white",
             "startlinecolor": "#2a3f5f"
            },
            "baxis": {
             "endlinecolor": "#2a3f5f",
             "gridcolor": "white",
             "linecolor": "white",
             "minorgridcolor": "white",
             "startlinecolor": "#2a3f5f"
            },
            "type": "carpet"
           }
          ],
          "choropleth": [
           {
            "colorbar": {
             "outlinewidth": 0,
             "ticks": ""
            },
            "type": "choropleth"
           }
          ],
          "contour": [
           {
            "colorbar": {
             "outlinewidth": 0,
             "ticks": ""
            },
            "colorscale": [
             [
              0,
              "#0d0887"
             ],
             [
              0.1111111111111111,
              "#46039f"
             ],
             [
              0.2222222222222222,
              "#7201a8"
             ],
             [
              0.3333333333333333,
              "#9c179e"
             ],
             [
              0.4444444444444444,
              "#bd3786"
             ],
             [
              0.5555555555555556,
              "#d8576b"
             ],
             [
              0.6666666666666666,
              "#ed7953"
             ],
             [
              0.7777777777777778,
              "#fb9f3a"
             ],
             [
              0.8888888888888888,
              "#fdca26"
             ],
             [
              1,
              "#f0f921"
             ]
            ],
            "type": "contour"
           }
          ],
          "contourcarpet": [
           {
            "colorbar": {
             "outlinewidth": 0,
             "ticks": ""
            },
            "type": "contourcarpet"
           }
          ],
          "heatmap": [
           {
            "colorbar": {
             "outlinewidth": 0,
             "ticks": ""
            },
            "colorscale": [
             [
              0,
              "#0d0887"
             ],
             [
              0.1111111111111111,
              "#46039f"
             ],
             [
              0.2222222222222222,
              "#7201a8"
             ],
             [
              0.3333333333333333,
              "#9c179e"
             ],
             [
              0.4444444444444444,
              "#bd3786"
             ],
             [
              0.5555555555555556,
              "#d8576b"
             ],
             [
              0.6666666666666666,
              "#ed7953"
             ],
             [
              0.7777777777777778,
              "#fb9f3a"
             ],
             [
              0.8888888888888888,
              "#fdca26"
             ],
             [
              1,
              "#f0f921"
             ]
            ],
            "type": "heatmap"
           }
          ],
          "histogram": [
           {
            "marker": {
             "pattern": {
              "fillmode": "overlay",
              "size": 10,
              "solidity": 0.2
             }
            },
            "type": "histogram"
           }
          ],
          "histogram2d": [
           {
            "colorbar": {
             "outlinewidth": 0,
             "ticks": ""
            },
            "colorscale": [
             [
              0,
              "#0d0887"
             ],
             [
              0.1111111111111111,
              "#46039f"
             ],
             [
              0.2222222222222222,
              "#7201a8"
             ],
             [
              0.3333333333333333,
              "#9c179e"
             ],
             [
              0.4444444444444444,
              "#bd3786"
             ],
             [
              0.5555555555555556,
              "#d8576b"
             ],
             [
              0.6666666666666666,
              "#ed7953"
             ],
             [
              0.7777777777777778,
              "#fb9f3a"
             ],
             [
              0.8888888888888888,
              "#fdca26"
             ],
             [
              1,
              "#f0f921"
             ]
            ],
            "type": "histogram2d"
           }
          ],
          "histogram2dcontour": [
           {
            "colorbar": {
             "outlinewidth": 0,
             "ticks": ""
            },
            "colorscale": [
             [
              0,
              "#0d0887"
             ],
             [
              0.1111111111111111,
              "#46039f"
             ],
             [
              0.2222222222222222,
              "#7201a8"
             ],
             [
              0.3333333333333333,
              "#9c179e"
             ],
             [
              0.4444444444444444,
              "#bd3786"
             ],
             [
              0.5555555555555556,
              "#d8576b"
             ],
             [
              0.6666666666666666,
              "#ed7953"
             ],
             [
              0.7777777777777778,
              "#fb9f3a"
             ],
             [
              0.8888888888888888,
              "#fdca26"
             ],
             [
              1,
              "#f0f921"
             ]
            ],
            "type": "histogram2dcontour"
           }
          ],
          "mesh3d": [
           {
            "colorbar": {
             "outlinewidth": 0,
             "ticks": ""
            },
            "type": "mesh3d"
           }
          ],
          "parcoords": [
           {
            "line": {
             "colorbar": {
              "outlinewidth": 0,
              "ticks": ""
             }
            },
            "type": "parcoords"
           }
          ],
          "pie": [
           {
            "automargin": true,
            "type": "pie"
           }
          ],
          "scatter": [
           {
            "fillpattern": {
             "fillmode": "overlay",
             "size": 10,
             "solidity": 0.2
            },
            "type": "scatter"
           }
          ],
          "scatter3d": [
           {
            "line": {
             "colorbar": {
              "outlinewidth": 0,
              "ticks": ""
             }
            },
            "marker": {
             "colorbar": {
              "outlinewidth": 0,
              "ticks": ""
             }
            },
            "type": "scatter3d"
           }
          ],
          "scattercarpet": [
           {
            "marker": {
             "colorbar": {
              "outlinewidth": 0,
              "ticks": ""
             }
            },
            "type": "scattercarpet"
           }
          ],
          "scattergeo": [
           {
            "marker": {
             "colorbar": {
              "outlinewidth": 0,
              "ticks": ""
             }
            },
            "type": "scattergeo"
           }
          ],
          "scattergl": [
           {
            "marker": {
             "colorbar": {
              "outlinewidth": 0,
              "ticks": ""
             }
            },
            "type": "scattergl"
           }
          ],
          "scattermap": [
           {
            "marker": {
             "colorbar": {
              "outlinewidth": 0,
              "ticks": ""
             }
            },
            "type": "scattermap"
           }
          ],
          "scattermapbox": [
           {
            "marker": {
             "colorbar": {
              "outlinewidth": 0,
              "ticks": ""
             }
            },
            "type": "scattermapbox"
           }
          ],
          "scatterpolar": [
           {
            "marker": {
             "colorbar": {
              "outlinewidth": 0,
              "ticks": ""
             }
            },
            "type": "scatterpolar"
           }
          ],
          "scatterpolargl": [
           {
            "marker": {
             "colorbar": {
              "outlinewidth": 0,
              "ticks": ""
             }
            },
            "type": "scatterpolargl"
           }
          ],
          "scatterternary": [
           {
            "marker": {
             "colorbar": {
              "outlinewidth": 0,
              "ticks": ""
             }
            },
            "type": "scatterternary"
           }
          ],
          "surface": [
           {
            "colorbar": {
             "outlinewidth": 0,
             "ticks": ""
            },
            "colorscale": [
             [
              0,
              "#0d0887"
             ],
             [
              0.1111111111111111,
              "#46039f"
             ],
             [
              0.2222222222222222,
              "#7201a8"
             ],
             [
              0.3333333333333333,
              "#9c179e"
             ],
             [
              0.4444444444444444,
              "#bd3786"
             ],
             [
              0.5555555555555556,
              "#d8576b"
             ],
             [
              0.6666666666666666,
              "#ed7953"
             ],
             [
              0.7777777777777778,
              "#fb9f3a"
             ],
             [
              0.8888888888888888,
              "#fdca26"
             ],
             [
              1,
              "#f0f921"
             ]
            ],
            "type": "surface"
           }
          ],
          "table": [
           {
            "cells": {
             "fill": {
              "color": "#EBF0F8"
             },
             "line": {
              "color": "white"
             }
            },
            "header": {
             "fill": {
              "color": "#C8D4E3"
             },
             "line": {
              "color": "white"
             }
            },
            "type": "table"
           }
          ]
         },
         "layout": {
          "annotationdefaults": {
           "arrowcolor": "#2a3f5f",
           "arrowhead": 0,
           "arrowwidth": 1
          },
          "autotypenumbers": "strict",
          "coloraxis": {
           "colorbar": {
            "outlinewidth": 0,
            "ticks": ""
           }
          },
          "colorscale": {
           "diverging": [
            [
             0,
             "#8e0152"
            ],
            [
             0.1,
             "#c51b7d"
            ],
            [
             0.2,
             "#de77ae"
            ],
            [
             0.3,
             "#f1b6da"
            ],
            [
             0.4,
             "#fde0ef"
            ],
            [
             0.5,
             "#f7f7f7"
            ],
            [
             0.6,
             "#e6f5d0"
            ],
            [
             0.7,
             "#b8e186"
            ],
            [
             0.8,
             "#7fbc41"
            ],
            [
             0.9,
             "#4d9221"
            ],
            [
             1,
             "#276419"
            ]
           ],
           "sequential": [
            [
             0,
             "#0d0887"
            ],
            [
             0.1111111111111111,
             "#46039f"
            ],
            [
             0.2222222222222222,
             "#7201a8"
            ],
            [
             0.3333333333333333,
             "#9c179e"
            ],
            [
             0.4444444444444444,
             "#bd3786"
            ],
            [
             0.5555555555555556,
             "#d8576b"
            ],
            [
             0.6666666666666666,
             "#ed7953"
            ],
            [
             0.7777777777777778,
             "#fb9f3a"
            ],
            [
             0.8888888888888888,
             "#fdca26"
            ],
            [
             1,
             "#f0f921"
            ]
           ],
           "sequentialminus": [
            [
             0,
             "#0d0887"
            ],
            [
             0.1111111111111111,
             "#46039f"
            ],
            [
             0.2222222222222222,
             "#7201a8"
            ],
            [
             0.3333333333333333,
             "#9c179e"
            ],
            [
             0.4444444444444444,
             "#bd3786"
            ],
            [
             0.5555555555555556,
             "#d8576b"
            ],
            [
             0.6666666666666666,
             "#ed7953"
            ],
            [
             0.7777777777777778,
             "#fb9f3a"
            ],
            [
             0.8888888888888888,
             "#fdca26"
            ],
            [
             1,
             "#f0f921"
            ]
           ]
          },
          "colorway": [
           "#636efa",
           "#EF553B",
           "#00cc96",
           "#ab63fa",
           "#FFA15A",
           "#19d3f3",
           "#FF6692",
           "#B6E880",
           "#FF97FF",
           "#FECB52"
          ],
          "font": {
           "color": "#2a3f5f"
          },
          "geo": {
           "bgcolor": "white",
           "lakecolor": "white",
           "landcolor": "#E5ECF6",
           "showlakes": true,
           "showland": true,
           "subunitcolor": "white"
          },
          "hoverlabel": {
           "align": "left"
          },
          "hovermode": "closest",
          "mapbox": {
           "style": "light"
          },
          "paper_bgcolor": "white",
          "plot_bgcolor": "#E5ECF6",
          "polar": {
           "angularaxis": {
            "gridcolor": "white",
            "linecolor": "white",
            "ticks": ""
           },
           "bgcolor": "#E5ECF6",
           "radialaxis": {
            "gridcolor": "white",
            "linecolor": "white",
            "ticks": ""
           }
          },
          "scene": {
           "xaxis": {
            "backgroundcolor": "#E5ECF6",
            "gridcolor": "white",
            "gridwidth": 2,
            "linecolor": "white",
            "showbackground": true,
            "ticks": "",
            "zerolinecolor": "white"
           },
           "yaxis": {
            "backgroundcolor": "#E5ECF6",
            "gridcolor": "white",
            "gridwidth": 2,
            "linecolor": "white",
            "showbackground": true,
            "ticks": "",
            "zerolinecolor": "white"
           },
           "zaxis": {
            "backgroundcolor": "#E5ECF6",
            "gridcolor": "white",
            "gridwidth": 2,
            "linecolor": "white",
            "showbackground": true,
            "ticks": "",
            "zerolinecolor": "white"
           }
          },
          "shapedefaults": {
           "line": {
            "color": "#2a3f5f"
           }
          },
          "ternary": {
           "aaxis": {
            "gridcolor": "white",
            "linecolor": "white",
            "ticks": ""
           },
           "baxis": {
            "gridcolor": "white",
            "linecolor": "white",
            "ticks": ""
           },
           "bgcolor": "#E5ECF6",
           "caxis": {
            "gridcolor": "white",
            "linecolor": "white",
            "ticks": ""
           }
          },
          "title": {
           "x": 0.05
          },
          "xaxis": {
           "automargin": true,
           "gridcolor": "white",
           "linecolor": "white",
           "ticks": "",
           "title": {
            "standoff": 15
           },
           "zerolinecolor": "white",
           "zerolinewidth": 2
          },
          "yaxis": {
           "automargin": true,
           "gridcolor": "white",
           "linecolor": "white",
           "ticks": "",
           "title": {
            "standoff": 15
           },
           "zerolinecolor": "white",
           "zerolinewidth": 2
          }
         }
        },
        "xaxis": {
         "anchor": "y",
         "domain": [
          0,
          1
         ],
         "title": {
          "text": "year"
         }
        },
        "yaxis": {
         "anchor": "x",
         "domain": [
          0,
          1
         ],
         "title": {
          "text": "value"
         }
        }
       }
      }
     },
     "metadata": {},
     "output_type": "display_data"
    }
   ],
   "source": [
    "only_elections.groupby(\"year\")[\"share_votes_far_right\"].mean().plot()"
   ]
  },
  {
   "cell_type": "code",
   "execution_count": 41,
   "id": "62",
   "metadata": {},
   "outputs": [
    {
     "data": {
      "application/vnd.plotly.v1+json": {
       "config": {
        "plotlyServerURL": "https://plot.ly"
       },
       "data": [
        {
         "hovertemplate": "variable=share_votes_far_left<br>year=%{x}<br>value=%{y}<extra></extra>",
         "legendgroup": "share_votes_far_left",
         "line": {
          "color": "#636efa",
          "dash": "solid"
         },
         "marker": {
          "symbol": "circle"
         },
         "mode": "lines",
         "name": "share_votes_far_left",
         "orientation": "v",
         "showlegend": true,
         "type": "scatter",
         "x": {
          "bdata": "vAe9B74HvwfAB8EHwgfDB8QHxQfGB8cHyAfJB8oHywfMB80HzgfPB9AH0QfSB9MH1AfVB9YH1wfYB9kH2gfbB9wH3QfeB98H",
          "dtype": "i2"
         },
         "xaxis": "x",
         "y": {
          "bdata": "lspjPXwRHD6hZYk9GnkkPYM0Vj05rIA9BtWOPWWULD13caU9LIppPSJ0ijyeI3A9BtmOPWGZ2D3iJpk95U+nPR68mT0hHQQ+7/9xPSf4qD1EboI91kaUPU6nZz3wwz49N3KcPQbQwz0ypXA9GS6fPbrMPz2MOb491IuiPS7izT0LSck93kwQPj+kCT64WTE+",
          "dtype": "f4"
         },
         "yaxis": "y"
        }
       ],
       "layout": {
        "legend": {
         "title": {
          "text": "variable"
         },
         "tracegroupgap": 0
        },
        "margin": {
         "t": 60
        },
        "template": {
         "data": {
          "bar": [
           {
            "error_x": {
             "color": "#2a3f5f"
            },
            "error_y": {
             "color": "#2a3f5f"
            },
            "marker": {
             "line": {
              "color": "#E5ECF6",
              "width": 0.5
             },
             "pattern": {
              "fillmode": "overlay",
              "size": 10,
              "solidity": 0.2
             }
            },
            "type": "bar"
           }
          ],
          "barpolar": [
           {
            "marker": {
             "line": {
              "color": "#E5ECF6",
              "width": 0.5
             },
             "pattern": {
              "fillmode": "overlay",
              "size": 10,
              "solidity": 0.2
             }
            },
            "type": "barpolar"
           }
          ],
          "carpet": [
           {
            "aaxis": {
             "endlinecolor": "#2a3f5f",
             "gridcolor": "white",
             "linecolor": "white",
             "minorgridcolor": "white",
             "startlinecolor": "#2a3f5f"
            },
            "baxis": {
             "endlinecolor": "#2a3f5f",
             "gridcolor": "white",
             "linecolor": "white",
             "minorgridcolor": "white",
             "startlinecolor": "#2a3f5f"
            },
            "type": "carpet"
           }
          ],
          "choropleth": [
           {
            "colorbar": {
             "outlinewidth": 0,
             "ticks": ""
            },
            "type": "choropleth"
           }
          ],
          "contour": [
           {
            "colorbar": {
             "outlinewidth": 0,
             "ticks": ""
            },
            "colorscale": [
             [
              0,
              "#0d0887"
             ],
             [
              0.1111111111111111,
              "#46039f"
             ],
             [
              0.2222222222222222,
              "#7201a8"
             ],
             [
              0.3333333333333333,
              "#9c179e"
             ],
             [
              0.4444444444444444,
              "#bd3786"
             ],
             [
              0.5555555555555556,
              "#d8576b"
             ],
             [
              0.6666666666666666,
              "#ed7953"
             ],
             [
              0.7777777777777778,
              "#fb9f3a"
             ],
             [
              0.8888888888888888,
              "#fdca26"
             ],
             [
              1,
              "#f0f921"
             ]
            ],
            "type": "contour"
           }
          ],
          "contourcarpet": [
           {
            "colorbar": {
             "outlinewidth": 0,
             "ticks": ""
            },
            "type": "contourcarpet"
           }
          ],
          "heatmap": [
           {
            "colorbar": {
             "outlinewidth": 0,
             "ticks": ""
            },
            "colorscale": [
             [
              0,
              "#0d0887"
             ],
             [
              0.1111111111111111,
              "#46039f"
             ],
             [
              0.2222222222222222,
              "#7201a8"
             ],
             [
              0.3333333333333333,
              "#9c179e"
             ],
             [
              0.4444444444444444,
              "#bd3786"
             ],
             [
              0.5555555555555556,
              "#d8576b"
             ],
             [
              0.6666666666666666,
              "#ed7953"
             ],
             [
              0.7777777777777778,
              "#fb9f3a"
             ],
             [
              0.8888888888888888,
              "#fdca26"
             ],
             [
              1,
              "#f0f921"
             ]
            ],
            "type": "heatmap"
           }
          ],
          "histogram": [
           {
            "marker": {
             "pattern": {
              "fillmode": "overlay",
              "size": 10,
              "solidity": 0.2
             }
            },
            "type": "histogram"
           }
          ],
          "histogram2d": [
           {
            "colorbar": {
             "outlinewidth": 0,
             "ticks": ""
            },
            "colorscale": [
             [
              0,
              "#0d0887"
             ],
             [
              0.1111111111111111,
              "#46039f"
             ],
             [
              0.2222222222222222,
              "#7201a8"
             ],
             [
              0.3333333333333333,
              "#9c179e"
             ],
             [
              0.4444444444444444,
              "#bd3786"
             ],
             [
              0.5555555555555556,
              "#d8576b"
             ],
             [
              0.6666666666666666,
              "#ed7953"
             ],
             [
              0.7777777777777778,
              "#fb9f3a"
             ],
             [
              0.8888888888888888,
              "#fdca26"
             ],
             [
              1,
              "#f0f921"
             ]
            ],
            "type": "histogram2d"
           }
          ],
          "histogram2dcontour": [
           {
            "colorbar": {
             "outlinewidth": 0,
             "ticks": ""
            },
            "colorscale": [
             [
              0,
              "#0d0887"
             ],
             [
              0.1111111111111111,
              "#46039f"
             ],
             [
              0.2222222222222222,
              "#7201a8"
             ],
             [
              0.3333333333333333,
              "#9c179e"
             ],
             [
              0.4444444444444444,
              "#bd3786"
             ],
             [
              0.5555555555555556,
              "#d8576b"
             ],
             [
              0.6666666666666666,
              "#ed7953"
             ],
             [
              0.7777777777777778,
              "#fb9f3a"
             ],
             [
              0.8888888888888888,
              "#fdca26"
             ],
             [
              1,
              "#f0f921"
             ]
            ],
            "type": "histogram2dcontour"
           }
          ],
          "mesh3d": [
           {
            "colorbar": {
             "outlinewidth": 0,
             "ticks": ""
            },
            "type": "mesh3d"
           }
          ],
          "parcoords": [
           {
            "line": {
             "colorbar": {
              "outlinewidth": 0,
              "ticks": ""
             }
            },
            "type": "parcoords"
           }
          ],
          "pie": [
           {
            "automargin": true,
            "type": "pie"
           }
          ],
          "scatter": [
           {
            "fillpattern": {
             "fillmode": "overlay",
             "size": 10,
             "solidity": 0.2
            },
            "type": "scatter"
           }
          ],
          "scatter3d": [
           {
            "line": {
             "colorbar": {
              "outlinewidth": 0,
              "ticks": ""
             }
            },
            "marker": {
             "colorbar": {
              "outlinewidth": 0,
              "ticks": ""
             }
            },
            "type": "scatter3d"
           }
          ],
          "scattercarpet": [
           {
            "marker": {
             "colorbar": {
              "outlinewidth": 0,
              "ticks": ""
             }
            },
            "type": "scattercarpet"
           }
          ],
          "scattergeo": [
           {
            "marker": {
             "colorbar": {
              "outlinewidth": 0,
              "ticks": ""
             }
            },
            "type": "scattergeo"
           }
          ],
          "scattergl": [
           {
            "marker": {
             "colorbar": {
              "outlinewidth": 0,
              "ticks": ""
             }
            },
            "type": "scattergl"
           }
          ],
          "scattermap": [
           {
            "marker": {
             "colorbar": {
              "outlinewidth": 0,
              "ticks": ""
             }
            },
            "type": "scattermap"
           }
          ],
          "scattermapbox": [
           {
            "marker": {
             "colorbar": {
              "outlinewidth": 0,
              "ticks": ""
             }
            },
            "type": "scattermapbox"
           }
          ],
          "scatterpolar": [
           {
            "marker": {
             "colorbar": {
              "outlinewidth": 0,
              "ticks": ""
             }
            },
            "type": "scatterpolar"
           }
          ],
          "scatterpolargl": [
           {
            "marker": {
             "colorbar": {
              "outlinewidth": 0,
              "ticks": ""
             }
            },
            "type": "scatterpolargl"
           }
          ],
          "scatterternary": [
           {
            "marker": {
             "colorbar": {
              "outlinewidth": 0,
              "ticks": ""
             }
            },
            "type": "scatterternary"
           }
          ],
          "surface": [
           {
            "colorbar": {
             "outlinewidth": 0,
             "ticks": ""
            },
            "colorscale": [
             [
              0,
              "#0d0887"
             ],
             [
              0.1111111111111111,
              "#46039f"
             ],
             [
              0.2222222222222222,
              "#7201a8"
             ],
             [
              0.3333333333333333,
              "#9c179e"
             ],
             [
              0.4444444444444444,
              "#bd3786"
             ],
             [
              0.5555555555555556,
              "#d8576b"
             ],
             [
              0.6666666666666666,
              "#ed7953"
             ],
             [
              0.7777777777777778,
              "#fb9f3a"
             ],
             [
              0.8888888888888888,
              "#fdca26"
             ],
             [
              1,
              "#f0f921"
             ]
            ],
            "type": "surface"
           }
          ],
          "table": [
           {
            "cells": {
             "fill": {
              "color": "#EBF0F8"
             },
             "line": {
              "color": "white"
             }
            },
            "header": {
             "fill": {
              "color": "#C8D4E3"
             },
             "line": {
              "color": "white"
             }
            },
            "type": "table"
           }
          ]
         },
         "layout": {
          "annotationdefaults": {
           "arrowcolor": "#2a3f5f",
           "arrowhead": 0,
           "arrowwidth": 1
          },
          "autotypenumbers": "strict",
          "coloraxis": {
           "colorbar": {
            "outlinewidth": 0,
            "ticks": ""
           }
          },
          "colorscale": {
           "diverging": [
            [
             0,
             "#8e0152"
            ],
            [
             0.1,
             "#c51b7d"
            ],
            [
             0.2,
             "#de77ae"
            ],
            [
             0.3,
             "#f1b6da"
            ],
            [
             0.4,
             "#fde0ef"
            ],
            [
             0.5,
             "#f7f7f7"
            ],
            [
             0.6,
             "#e6f5d0"
            ],
            [
             0.7,
             "#b8e186"
            ],
            [
             0.8,
             "#7fbc41"
            ],
            [
             0.9,
             "#4d9221"
            ],
            [
             1,
             "#276419"
            ]
           ],
           "sequential": [
            [
             0,
             "#0d0887"
            ],
            [
             0.1111111111111111,
             "#46039f"
            ],
            [
             0.2222222222222222,
             "#7201a8"
            ],
            [
             0.3333333333333333,
             "#9c179e"
            ],
            [
             0.4444444444444444,
             "#bd3786"
            ],
            [
             0.5555555555555556,
             "#d8576b"
            ],
            [
             0.6666666666666666,
             "#ed7953"
            ],
            [
             0.7777777777777778,
             "#fb9f3a"
            ],
            [
             0.8888888888888888,
             "#fdca26"
            ],
            [
             1,
             "#f0f921"
            ]
           ],
           "sequentialminus": [
            [
             0,
             "#0d0887"
            ],
            [
             0.1111111111111111,
             "#46039f"
            ],
            [
             0.2222222222222222,
             "#7201a8"
            ],
            [
             0.3333333333333333,
             "#9c179e"
            ],
            [
             0.4444444444444444,
             "#bd3786"
            ],
            [
             0.5555555555555556,
             "#d8576b"
            ],
            [
             0.6666666666666666,
             "#ed7953"
            ],
            [
             0.7777777777777778,
             "#fb9f3a"
            ],
            [
             0.8888888888888888,
             "#fdca26"
            ],
            [
             1,
             "#f0f921"
            ]
           ]
          },
          "colorway": [
           "#636efa",
           "#EF553B",
           "#00cc96",
           "#ab63fa",
           "#FFA15A",
           "#19d3f3",
           "#FF6692",
           "#B6E880",
           "#FF97FF",
           "#FECB52"
          ],
          "font": {
           "color": "#2a3f5f"
          },
          "geo": {
           "bgcolor": "white",
           "lakecolor": "white",
           "landcolor": "#E5ECF6",
           "showlakes": true,
           "showland": true,
           "subunitcolor": "white"
          },
          "hoverlabel": {
           "align": "left"
          },
          "hovermode": "closest",
          "mapbox": {
           "style": "light"
          },
          "paper_bgcolor": "white",
          "plot_bgcolor": "#E5ECF6",
          "polar": {
           "angularaxis": {
            "gridcolor": "white",
            "linecolor": "white",
            "ticks": ""
           },
           "bgcolor": "#E5ECF6",
           "radialaxis": {
            "gridcolor": "white",
            "linecolor": "white",
            "ticks": ""
           }
          },
          "scene": {
           "xaxis": {
            "backgroundcolor": "#E5ECF6",
            "gridcolor": "white",
            "gridwidth": 2,
            "linecolor": "white",
            "showbackground": true,
            "ticks": "",
            "zerolinecolor": "white"
           },
           "yaxis": {
            "backgroundcolor": "#E5ECF6",
            "gridcolor": "white",
            "gridwidth": 2,
            "linecolor": "white",
            "showbackground": true,
            "ticks": "",
            "zerolinecolor": "white"
           },
           "zaxis": {
            "backgroundcolor": "#E5ECF6",
            "gridcolor": "white",
            "gridwidth": 2,
            "linecolor": "white",
            "showbackground": true,
            "ticks": "",
            "zerolinecolor": "white"
           }
          },
          "shapedefaults": {
           "line": {
            "color": "#2a3f5f"
           }
          },
          "ternary": {
           "aaxis": {
            "gridcolor": "white",
            "linecolor": "white",
            "ticks": ""
           },
           "baxis": {
            "gridcolor": "white",
            "linecolor": "white",
            "ticks": ""
           },
           "bgcolor": "#E5ECF6",
           "caxis": {
            "gridcolor": "white",
            "linecolor": "white",
            "ticks": ""
           }
          },
          "title": {
           "x": 0.05
          },
          "xaxis": {
           "automargin": true,
           "gridcolor": "white",
           "linecolor": "white",
           "ticks": "",
           "title": {
            "standoff": 15
           },
           "zerolinecolor": "white",
           "zerolinewidth": 2
          },
          "yaxis": {
           "automargin": true,
           "gridcolor": "white",
           "linecolor": "white",
           "ticks": "",
           "title": {
            "standoff": 15
           },
           "zerolinecolor": "white",
           "zerolinewidth": 2
          }
         }
        },
        "xaxis": {
         "anchor": "y",
         "domain": [
          0,
          1
         ],
         "title": {
          "text": "year"
         }
        },
        "yaxis": {
         "anchor": "x",
         "domain": [
          0,
          1
         ],
         "title": {
          "text": "value"
         }
        }
       }
      }
     },
     "metadata": {},
     "output_type": "display_data"
    }
   ],
   "source": [
    "only_elections.groupby(\"year\")[\"share_votes_far_left\"].mean().plot()"
   ]
  },
  {
   "cell_type": "code",
   "execution_count": 42,
   "id": "63",
   "metadata": {},
   "outputs": [
    {
     "data": {
      "application/vnd.plotly.v1+json": {
       "config": {
        "plotlyServerURL": "https://plot.ly"
       },
       "data": [
        {
         "hovertemplate": "variable=share_votes_far_any<br>year=%{x}<br>value=%{y}<extra></extra>",
         "legendgroup": "share_votes_far_any",
         "line": {
          "color": "#636efa",
          "dash": "solid"
         },
         "marker": {
          "symbol": "circle"
         },
         "mode": "lines",
         "name": "share_votes_far_any",
         "orientation": "v",
         "showlegend": true,
         "type": "scatter",
         "x": {
          "bdata": "vAe9B74HvwfAB8EHwgfDB8QHxQfGB8cHyAfJB8oHywfMB80HzgfPB9AH0QfSB9MH1AfVB9YH1wfYB9kH2gfbB9wH3QfeB98H",
          "dtype": "i2"
         },
         "xaxis": "x",
         "y": {
          "bdata": "VECjPcS6Iz72p6M9uNiMPWAs4z3PmcA9cdoEPtfWjz05eQ0+1nUGPpFzlT0/BLU9UDEhPjdhLz4Tdy0+cREcPqpIRz6oR3U+rXsNPsinLD6WKwE+foQ0Pk745j3zC5I9SVgYPjSEFD6f0x4+CojtPZD53j1IoBk+xpsePps6Cz5kIlI+rCFVPj/7fD6/I4M+",
          "dtype": "f4"
         },
         "yaxis": "y"
        }
       ],
       "layout": {
        "legend": {
         "title": {
          "text": "variable"
         },
         "tracegroupgap": 0
        },
        "margin": {
         "t": 60
        },
        "template": {
         "data": {
          "bar": [
           {
            "error_x": {
             "color": "#2a3f5f"
            },
            "error_y": {
             "color": "#2a3f5f"
            },
            "marker": {
             "line": {
              "color": "#E5ECF6",
              "width": 0.5
             },
             "pattern": {
              "fillmode": "overlay",
              "size": 10,
              "solidity": 0.2
             }
            },
            "type": "bar"
           }
          ],
          "barpolar": [
           {
            "marker": {
             "line": {
              "color": "#E5ECF6",
              "width": 0.5
             },
             "pattern": {
              "fillmode": "overlay",
              "size": 10,
              "solidity": 0.2
             }
            },
            "type": "barpolar"
           }
          ],
          "carpet": [
           {
            "aaxis": {
             "endlinecolor": "#2a3f5f",
             "gridcolor": "white",
             "linecolor": "white",
             "minorgridcolor": "white",
             "startlinecolor": "#2a3f5f"
            },
            "baxis": {
             "endlinecolor": "#2a3f5f",
             "gridcolor": "white",
             "linecolor": "white",
             "minorgridcolor": "white",
             "startlinecolor": "#2a3f5f"
            },
            "type": "carpet"
           }
          ],
          "choropleth": [
           {
            "colorbar": {
             "outlinewidth": 0,
             "ticks": ""
            },
            "type": "choropleth"
           }
          ],
          "contour": [
           {
            "colorbar": {
             "outlinewidth": 0,
             "ticks": ""
            },
            "colorscale": [
             [
              0,
              "#0d0887"
             ],
             [
              0.1111111111111111,
              "#46039f"
             ],
             [
              0.2222222222222222,
              "#7201a8"
             ],
             [
              0.3333333333333333,
              "#9c179e"
             ],
             [
              0.4444444444444444,
              "#bd3786"
             ],
             [
              0.5555555555555556,
              "#d8576b"
             ],
             [
              0.6666666666666666,
              "#ed7953"
             ],
             [
              0.7777777777777778,
              "#fb9f3a"
             ],
             [
              0.8888888888888888,
              "#fdca26"
             ],
             [
              1,
              "#f0f921"
             ]
            ],
            "type": "contour"
           }
          ],
          "contourcarpet": [
           {
            "colorbar": {
             "outlinewidth": 0,
             "ticks": ""
            },
            "type": "contourcarpet"
           }
          ],
          "heatmap": [
           {
            "colorbar": {
             "outlinewidth": 0,
             "ticks": ""
            },
            "colorscale": [
             [
              0,
              "#0d0887"
             ],
             [
              0.1111111111111111,
              "#46039f"
             ],
             [
              0.2222222222222222,
              "#7201a8"
             ],
             [
              0.3333333333333333,
              "#9c179e"
             ],
             [
              0.4444444444444444,
              "#bd3786"
             ],
             [
              0.5555555555555556,
              "#d8576b"
             ],
             [
              0.6666666666666666,
              "#ed7953"
             ],
             [
              0.7777777777777778,
              "#fb9f3a"
             ],
             [
              0.8888888888888888,
              "#fdca26"
             ],
             [
              1,
              "#f0f921"
             ]
            ],
            "type": "heatmap"
           }
          ],
          "histogram": [
           {
            "marker": {
             "pattern": {
              "fillmode": "overlay",
              "size": 10,
              "solidity": 0.2
             }
            },
            "type": "histogram"
           }
          ],
          "histogram2d": [
           {
            "colorbar": {
             "outlinewidth": 0,
             "ticks": ""
            },
            "colorscale": [
             [
              0,
              "#0d0887"
             ],
             [
              0.1111111111111111,
              "#46039f"
             ],
             [
              0.2222222222222222,
              "#7201a8"
             ],
             [
              0.3333333333333333,
              "#9c179e"
             ],
             [
              0.4444444444444444,
              "#bd3786"
             ],
             [
              0.5555555555555556,
              "#d8576b"
             ],
             [
              0.6666666666666666,
              "#ed7953"
             ],
             [
              0.7777777777777778,
              "#fb9f3a"
             ],
             [
              0.8888888888888888,
              "#fdca26"
             ],
             [
              1,
              "#f0f921"
             ]
            ],
            "type": "histogram2d"
           }
          ],
          "histogram2dcontour": [
           {
            "colorbar": {
             "outlinewidth": 0,
             "ticks": ""
            },
            "colorscale": [
             [
              0,
              "#0d0887"
             ],
             [
              0.1111111111111111,
              "#46039f"
             ],
             [
              0.2222222222222222,
              "#7201a8"
             ],
             [
              0.3333333333333333,
              "#9c179e"
             ],
             [
              0.4444444444444444,
              "#bd3786"
             ],
             [
              0.5555555555555556,
              "#d8576b"
             ],
             [
              0.6666666666666666,
              "#ed7953"
             ],
             [
              0.7777777777777778,
              "#fb9f3a"
             ],
             [
              0.8888888888888888,
              "#fdca26"
             ],
             [
              1,
              "#f0f921"
             ]
            ],
            "type": "histogram2dcontour"
           }
          ],
          "mesh3d": [
           {
            "colorbar": {
             "outlinewidth": 0,
             "ticks": ""
            },
            "type": "mesh3d"
           }
          ],
          "parcoords": [
           {
            "line": {
             "colorbar": {
              "outlinewidth": 0,
              "ticks": ""
             }
            },
            "type": "parcoords"
           }
          ],
          "pie": [
           {
            "automargin": true,
            "type": "pie"
           }
          ],
          "scatter": [
           {
            "fillpattern": {
             "fillmode": "overlay",
             "size": 10,
             "solidity": 0.2
            },
            "type": "scatter"
           }
          ],
          "scatter3d": [
           {
            "line": {
             "colorbar": {
              "outlinewidth": 0,
              "ticks": ""
             }
            },
            "marker": {
             "colorbar": {
              "outlinewidth": 0,
              "ticks": ""
             }
            },
            "type": "scatter3d"
           }
          ],
          "scattercarpet": [
           {
            "marker": {
             "colorbar": {
              "outlinewidth": 0,
              "ticks": ""
             }
            },
            "type": "scattercarpet"
           }
          ],
          "scattergeo": [
           {
            "marker": {
             "colorbar": {
              "outlinewidth": 0,
              "ticks": ""
             }
            },
            "type": "scattergeo"
           }
          ],
          "scattergl": [
           {
            "marker": {
             "colorbar": {
              "outlinewidth": 0,
              "ticks": ""
             }
            },
            "type": "scattergl"
           }
          ],
          "scattermap": [
           {
            "marker": {
             "colorbar": {
              "outlinewidth": 0,
              "ticks": ""
             }
            },
            "type": "scattermap"
           }
          ],
          "scattermapbox": [
           {
            "marker": {
             "colorbar": {
              "outlinewidth": 0,
              "ticks": ""
             }
            },
            "type": "scattermapbox"
           }
          ],
          "scatterpolar": [
           {
            "marker": {
             "colorbar": {
              "outlinewidth": 0,
              "ticks": ""
             }
            },
            "type": "scatterpolar"
           }
          ],
          "scatterpolargl": [
           {
            "marker": {
             "colorbar": {
              "outlinewidth": 0,
              "ticks": ""
             }
            },
            "type": "scatterpolargl"
           }
          ],
          "scatterternary": [
           {
            "marker": {
             "colorbar": {
              "outlinewidth": 0,
              "ticks": ""
             }
            },
            "type": "scatterternary"
           }
          ],
          "surface": [
           {
            "colorbar": {
             "outlinewidth": 0,
             "ticks": ""
            },
            "colorscale": [
             [
              0,
              "#0d0887"
             ],
             [
              0.1111111111111111,
              "#46039f"
             ],
             [
              0.2222222222222222,
              "#7201a8"
             ],
             [
              0.3333333333333333,
              "#9c179e"
             ],
             [
              0.4444444444444444,
              "#bd3786"
             ],
             [
              0.5555555555555556,
              "#d8576b"
             ],
             [
              0.6666666666666666,
              "#ed7953"
             ],
             [
              0.7777777777777778,
              "#fb9f3a"
             ],
             [
              0.8888888888888888,
              "#fdca26"
             ],
             [
              1,
              "#f0f921"
             ]
            ],
            "type": "surface"
           }
          ],
          "table": [
           {
            "cells": {
             "fill": {
              "color": "#EBF0F8"
             },
             "line": {
              "color": "white"
             }
            },
            "header": {
             "fill": {
              "color": "#C8D4E3"
             },
             "line": {
              "color": "white"
             }
            },
            "type": "table"
           }
          ]
         },
         "layout": {
          "annotationdefaults": {
           "arrowcolor": "#2a3f5f",
           "arrowhead": 0,
           "arrowwidth": 1
          },
          "autotypenumbers": "strict",
          "coloraxis": {
           "colorbar": {
            "outlinewidth": 0,
            "ticks": ""
           }
          },
          "colorscale": {
           "diverging": [
            [
             0,
             "#8e0152"
            ],
            [
             0.1,
             "#c51b7d"
            ],
            [
             0.2,
             "#de77ae"
            ],
            [
             0.3,
             "#f1b6da"
            ],
            [
             0.4,
             "#fde0ef"
            ],
            [
             0.5,
             "#f7f7f7"
            ],
            [
             0.6,
             "#e6f5d0"
            ],
            [
             0.7,
             "#b8e186"
            ],
            [
             0.8,
             "#7fbc41"
            ],
            [
             0.9,
             "#4d9221"
            ],
            [
             1,
             "#276419"
            ]
           ],
           "sequential": [
            [
             0,
             "#0d0887"
            ],
            [
             0.1111111111111111,
             "#46039f"
            ],
            [
             0.2222222222222222,
             "#7201a8"
            ],
            [
             0.3333333333333333,
             "#9c179e"
            ],
            [
             0.4444444444444444,
             "#bd3786"
            ],
            [
             0.5555555555555556,
             "#d8576b"
            ],
            [
             0.6666666666666666,
             "#ed7953"
            ],
            [
             0.7777777777777778,
             "#fb9f3a"
            ],
            [
             0.8888888888888888,
             "#fdca26"
            ],
            [
             1,
             "#f0f921"
            ]
           ],
           "sequentialminus": [
            [
             0,
             "#0d0887"
            ],
            [
             0.1111111111111111,
             "#46039f"
            ],
            [
             0.2222222222222222,
             "#7201a8"
            ],
            [
             0.3333333333333333,
             "#9c179e"
            ],
            [
             0.4444444444444444,
             "#bd3786"
            ],
            [
             0.5555555555555556,
             "#d8576b"
            ],
            [
             0.6666666666666666,
             "#ed7953"
            ],
            [
             0.7777777777777778,
             "#fb9f3a"
            ],
            [
             0.8888888888888888,
             "#fdca26"
            ],
            [
             1,
             "#f0f921"
            ]
           ]
          },
          "colorway": [
           "#636efa",
           "#EF553B",
           "#00cc96",
           "#ab63fa",
           "#FFA15A",
           "#19d3f3",
           "#FF6692",
           "#B6E880",
           "#FF97FF",
           "#FECB52"
          ],
          "font": {
           "color": "#2a3f5f"
          },
          "geo": {
           "bgcolor": "white",
           "lakecolor": "white",
           "landcolor": "#E5ECF6",
           "showlakes": true,
           "showland": true,
           "subunitcolor": "white"
          },
          "hoverlabel": {
           "align": "left"
          },
          "hovermode": "closest",
          "mapbox": {
           "style": "light"
          },
          "paper_bgcolor": "white",
          "plot_bgcolor": "#E5ECF6",
          "polar": {
           "angularaxis": {
            "gridcolor": "white",
            "linecolor": "white",
            "ticks": ""
           },
           "bgcolor": "#E5ECF6",
           "radialaxis": {
            "gridcolor": "white",
            "linecolor": "white",
            "ticks": ""
           }
          },
          "scene": {
           "xaxis": {
            "backgroundcolor": "#E5ECF6",
            "gridcolor": "white",
            "gridwidth": 2,
            "linecolor": "white",
            "showbackground": true,
            "ticks": "",
            "zerolinecolor": "white"
           },
           "yaxis": {
            "backgroundcolor": "#E5ECF6",
            "gridcolor": "white",
            "gridwidth": 2,
            "linecolor": "white",
            "showbackground": true,
            "ticks": "",
            "zerolinecolor": "white"
           },
           "zaxis": {
            "backgroundcolor": "#E5ECF6",
            "gridcolor": "white",
            "gridwidth": 2,
            "linecolor": "white",
            "showbackground": true,
            "ticks": "",
            "zerolinecolor": "white"
           }
          },
          "shapedefaults": {
           "line": {
            "color": "#2a3f5f"
           }
          },
          "ternary": {
           "aaxis": {
            "gridcolor": "white",
            "linecolor": "white",
            "ticks": ""
           },
           "baxis": {
            "gridcolor": "white",
            "linecolor": "white",
            "ticks": ""
           },
           "bgcolor": "#E5ECF6",
           "caxis": {
            "gridcolor": "white",
            "linecolor": "white",
            "ticks": ""
           }
          },
          "title": {
           "x": 0.05
          },
          "xaxis": {
           "automargin": true,
           "gridcolor": "white",
           "linecolor": "white",
           "ticks": "",
           "title": {
            "standoff": 15
           },
           "zerolinecolor": "white",
           "zerolinewidth": 2
          },
          "yaxis": {
           "automargin": true,
           "gridcolor": "white",
           "linecolor": "white",
           "ticks": "",
           "title": {
            "standoff": 15
           },
           "zerolinecolor": "white",
           "zerolinewidth": 2
          }
         }
        },
        "xaxis": {
         "anchor": "y",
         "domain": [
          0,
          1
         ],
         "title": {
          "text": "year"
         }
        },
        "yaxis": {
         "anchor": "x",
         "domain": [
          0,
          1
         ],
         "title": {
          "text": "value"
         }
        }
       }
      }
     },
     "metadata": {},
     "output_type": "display_data"
    }
   ],
   "source": [
    "\n",
    "only_elections.groupby(\"year\")[\"share_votes_far_any\"].mean().plot()"
   ]
  },
  {
   "cell_type": "markdown",
   "id": "64",
   "metadata": {},
   "source": [
    "---\n",
    "### Question 15\n",
    "\n",
    "Make three scatterplots of vote shares by year, across all NUTS regions and elections.\n",
    "\n",
    "- far right share\n",
    "- far left share\n",
    "- far share (any)\n",
    "\n",
    "Colour the dots using the country."
   ]
  },
  {
   "cell_type": "code",
   "execution_count": 43,
   "id": "65",
   "metadata": {},
   "outputs": [
    {
     "data": {
      "application/vnd.plotly.v1+json": {
       "config": {
        "plotlyServerURL": "https://plot.ly"
       },
       "data": [
        {
         "hovertemplate": "country=Austria<br>year=%{x}<br>share_votes_far_right=%{y}<extra></extra>",
         "legendgroup": "Austria",
         "marker": {
          "color": "#636efa",
          "symbol": "circle"
         },
         "mode": "markers",
         "name": "Austria",
         "showlegend": true,
         "type": "scattergl",
         "x": {
          "bdata": "vge/B8IHwwfGB8cHygfLB8wHzwfQB9IH1AfVB9YH2AfZB9oH3QfeB98HvwfCB8QHxgfJB8oHywfMB84HzwfSB9MH1AfWB9gH2QfdB94HvwfCB8MHxgfHB8oHywfMB88H0QfSB9QH1QfWB9gH2QfaB90H3gffB78HwAfCB8UHxgfKB8sHzAfPB9IH1AfWB9gH2QfdB94HvQe/B8IHxgfHB8oHywfMB88H0AfSB9QH1QfWB9gH2QfaB90H3gffB78HwQfCB8YHxwfKB8sHzAfNB88H0gfTB9QH1gfYB9kH3QfeB98HvwfAB8IHxQfGB8oHywfMB88H0gfUB9YH2AfZB90H3ge/B8AHwgfFB8YHygfLB8wHzwfSB9MH1AfWB9gH2QfdB94HvwfAB8IHxQfGB8oHywfMB88H0gfUB9YH2AfZB90H3gc=",
          "dtype": "i2"
         },
         "xaxis": "x",
         "y": {
          "bdata": "yxcDPV1mtTwhe1w93MiVPQTO4j3fkcc9ujkrPhl8LT4jAzk+uYVIPhNeAT6tN4I98zgdPRS2bD1fZtQ9NNtbPnD5Cz7t7Lc9u9NFPoHdOD5y+hk+xSjBPANMeT0/9MM9ktf6PZTS9D1+qDo+DNUwPq5ZbD4Dcyw+x11bPhC0jT1N/Dc9p2ImPc/F8z0SUzc+b0MdPss6GT5/LUY+7OlHPdDYaz28+cY9Yg4hPnfOZj5Hqmg+U4RNPsGchj6IJ3M+O2tOPk8ooz1aumA99aAZPqiXID5vOIE+urg3Pgy+ij598Go+5ak9PgahnT5Bnts9JYYjPl89Vj58d5Q+wA2bPsf3qj5MTqc+jVm+Ph7Gxz4RynE+7r2zPuSdpD6mOew+bOXXPsHBhD6AV10+5PlOPQm1Ij0PBpY9ElEsPtKLHT5T728+HHlEPsmzkz60A44+Vhz+Pe5+xT33YIY9tXOAPY6SCz7ET5w+8AE0PuGjCz5pG48+n9d9PvH/iD4CO3Q9CRxOPZeK4T1eSyQ+dYI1PnDJZj4SBF0+lfyPPkQ/Uz4WgIU+xQnVPZQdrD1UBXw9AgUYPpj8jz4VMzk+9t1/PhOgVz6qb5s+vvSiPZHNsj3tsSI+fJwnPkNpUj561F4+HdmBPuEvoD6dYXs+87TbPfG6pT1JcR0+DQuZPrklKD7txlU+RLJCPkWWND1J43Y9DX/mPZFYHz6BgS8+VkZDPhc8ij6bZaw+RCdxPo0pzD1EIKM9jeJRPW9rED6uL0s+mHYdPjQnJj7+kzY+t+aTPSza1j0EE/Q9wwolPsnMLz5orlQ+nHyMPlSrqT7RUZI+EAsFPlrT5D2NvhA+78mTPtXoZz5Rbmc+3ZNYPg==",
          "dtype": "f4"
         },
         "yaxis": "y"
        },
        {
         "hovertemplate": "country=Germany<br>year=%{x}<br>share_votes_far_right=%{y}<extra></extra>",
         "legendgroup": "Germany",
         "marker": {
          "color": "#EF553B",
          "symbol": "circle"
         },
         "mode": "markers",
         "name": "Germany",
         "showlegend": true,
         "type": "scattergl",
         "x": {
          "bdata": "vAe/B8AHwwfEB8UHxgfIB8oHzAfOB88H0QfSB9QH1QfWB9kH2wfdB94HvAe/B8AHwwfEB8UHxgfIB8oHzAfOB88H0QfSB9QH1QfWB9kH2wfdB94HvAe/B8AHwwfEB8UHxgfIB8oHzAfOB88H0QfSB9QH1QfWB9kH2wfdB94HvAe/B8AHwwfEB8UHxgfIB8oHzAfOB88H0QfSB9QH1QfWB9kH2wfdB94HvAe+B78HwAfCB8MHxQfGB8oHzgfPB9IH0wfUB9UH2AfZB90HvAe+B78HwAfCB8MHxQfGB8oHzgfPB9IH0wfUB9UH2AfZB90HvAe+B78HwAfCB8MHxQfGB8oHzgfPB9IH0wfUB9UH2AfZB90HvAe+B78HwAfCB8MHxQfGB8oHzgfPB9IH0wfUB9UH2AfZB90HvAe+B78HwAfCB8MHxQfGB8oHzgfPB9IH0wfUB9UH2AfZB90HvAe+B78HwAfCB8MHxQfGB8oHzgfPB9IH0wfUB9UH2AfZB90HvAe+B78HwAfCB8MHxQfGB8oHzgfPB9IH0wfUB9UH2AfZB90HxgfKB8sHzgfPB9EH0gfUB9UH1gfZB9sH3QfeB8YHygfOB88H0gfUB9UH2QfdB94HvAe/B8AHwwfFB8YHxwfKB8sHzgfPB9IH0wfUB9UH1wfZB9sH3QfeB98HvAe/B8AHwwfFB8YHygfOB88H0QfSB9QH1QfYB9kH2wfdB94H3we8B74HvwfAB8MHxQfGB8cHygfLB84HzwfSB9MH1AfVB9gH2QfdB94HvAe+B78HwAfDB8UHxgfHB8oHywfOB88H0gfTB9QH1QfYB9kH3QfeB7wHvge/B8AHwwfFB8YHxwfKB8sHzgfPB9IH0wfUB9UH2AfZB90H3gfGB8oHzgfPB9IH1AfVB9YH2QfbB90H3ge8B74HvwfAB8IHwwfFB8YHygfOB88H0gfTB9QH1QfYB9kH3QfeB7wHvge/B8AHwgfDB8UHxgfKB84HzwfSB9MH1AfVB9gH2QfdB94HvAe+B78HwAfCB8MHxQfGB8oHzgfPB9IH0wfUB9UH2AfZB90H3ge8B74HvwfAB8IHwwfFB8YHygfOB88H0gfTB9QH1QfYB9kH3QfeB7wHvwfAB8MHxQfGB8cHygfLB84HzwfQB9IH1AfVB9kH2gfcB90H3ge8B78HwAfDB8UHxgfHB8oHywfOB88H0AfSB9QH1QfZB9oH3AfdB94HvAe/B8AHwwfFB8YHxwfKB8sHzgfPB9AH0gfUB9UH2QfaB9wH3QfeB7wHvwfAB8MHxQfGB8cHygfLB84HzwfQB9IH1AfVB9kH2gfcB90H3ge8B78HwAfDB8UHxgfHB8oHywfOB88H0AfSB9QH1QfZB9oH3AfdB94HvAe/B8AHwwfFB8YHxwfKB8wHzgfPB9EH0gfUB9UH1gfZB9sH3QfeB7wHvwfAB8MHxQfGB8cHygfMB84HzwfRB9IH1AfVB9YH2QfbB90H3ge8B78HwAfDB8UHxgfHB8oHzAfOB88H0QfSB9QH1QfWB9kH2wfdB94HvAe/B8AHwQfDB8UHxgfKB84HzwfSB9QH1QfZB9wH3QfeB8YHygfOB88H0gfUB9UH2QfdB94HxgfKB84HzwfSB9QH1QfZB90H3gfGB8oHzgfPB9IH1AfVB9kH3QfeB8YHygfOB88H0gfUB9UH1gfZB9sH3QfeB7wHvwfAB8MHxQfGB8oHzAfOB88H0gfUB9UH2QfcB90H3gfGB8oHzgfPB9IH1AfVB9kH3QfeBw==",
          "dtype": "i2"
         },
         "xaxis": "x",
         "y": {
          "bdata": "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",
          "dtype": "f4"
         },
         "yaxis": "y"
        },
        {
         "hovertemplate": "country=Spain<br>year=%{x}<br>share_votes_far_right=%{y}<extra></extra>",
         "legendgroup": "Spain",
         "marker": {
          "color": "#00cc96",
          "symbol": "circle"
         },
         "mode": "markers",
         "name": "Spain",
         "showlegend": true,
         "type": "scattergl",
         "x": {
          "bdata": "vQe+B8EHwgfDB8UHyQfKB8wHzQfPB9AH0QfUB9UH2AfZB9sH3AfeB98Hvge/B8IHwwfFB8cHyQfKB8sHzAfPB9AH0wfUB9cH2AfZB9sH3AfeB98Hvge/B8IHwwfFB8cHyQfKB8sHzAfPB9AH0wfUB9cH2AfZB9sH3gffB7wHvgfAB8IHwwfFB8YHyQfKB8wHzgfPB9AH0QfUB9UH2AfZB9sH3AfeB98Hvge/B8IHwwfFB8cHyQfKB8sHzAfPB9AH0wfUB9cH2AfZB9sH3gffB74HvwfCB8MHxQfHB8kHygfLB8wHzwfQB9MH1AfXB9gH2QfbB94H3we+B78HwgfDB8UHxwfJB8oHywfMB88H0AfTB9QH1wfYB9kH2wfeB98Hvge/B8IHwwfFB8cHyQfKB8sHzAfPB9AH0wfUB9cH2AfZB9sH3gffB74HvwfCB8MHxQfHB8kHygfLB8wHzwfQB9MH1AfXB9gH2QfbB94H3we+B78HwgfDB8UHxwfJB8oHywfMB88H0AfTB9QH1wfYB9kH2wfeB98Hvge/B8IHwwfFB8cHyQfKB8sHzAfPB9AH0wfUB9cH2AfZB9sH3gffB7wHvgfAB8IHwwfEB8UHyAfJB8oHywfMB88H0AfTB9QH1gfYB9kH2gfbB9wH3gffB74HvwfCB8MHxQfHB8kHygfLB8wHzwfQB9MH1AfXB9gH2QfbB94H3we+B78HwgfDB8UHxwfJB8oHywfMB88H0AfTB9QH1wfYB9kH2wfeB98HvgfCB8MHxQfGB8kHygfMB88H0AfUB9gH2QfbB9wH3gffB74HvwfCB8MHxQfHB8kHygfLB8wHzwfQB9MH1AfXB9gH2QfbB94H3we+B78HwgfDB8UHxwfJB8oHywfMB88H0AfTB9QH1wfYB9kH2wfeB98H",
          "dtype": "i2"
         },
         "xaxis": "x",
         "y": {
          "bdata": "kgK1O/iElDtJtxg7mV/sOomUZTu4K746AAAAALf2ljoWhZU4B4OCOfXIBTtRo906AAAAADbP6zrD37I6RJDHOnTSzzoAAAAAFhyEO+tKNTy4BEk6YhKwOwAAAABYsCI7NAOCOyx0JzsAAAAAPdcHOq3IijoAAAAAdfwxOi3WgzrVCvw6AAAAAJ8ltjqP78U6PRrlOhuKgDsWl1I6LrjWOUSThjy2/JY7qZsAPAAAAAD2mKo7cBjuO9H0zTtOZww7a2uaOnQTADsAAAAAAAAAACBTfTtJ/9o7AAAAAC/fMDsSBro6M94fO1QkwTvPiPI6NGK/PHcnRTtR5MM+piukPsQU1z4lMIQ+TSNLPtTeYz5I45E+o056PkykkD6dUoI+VG2PPs0msT704qA+P77aPuA4sj4++8U+0UiOPqOcsT7X8Y0+JZOxPuf2kj6a+34+Wq5oPZXXjD3qfJU8W0VEPEhBRDxlojk8vHU9PKSraDwAAAAACmwsPK3+9Tx+0NA8AAAAANY7RjwAAAAAoB4QO6c60DwAAAAAhA9FPQAAAACVg407AAAAACniJTsX53k7W1hTOwAAAAAAAAAANnWxOgAAAAAgSXk6zWFpOh+a4zoAAAAAc8hgOwAAAAAJWPA6hTqDOwAAAADv15o8AAAAAEX92jsAAAAAkxkFO03XfjtQOWI7AAAAAAAAAAAz4I86W6koOosbUjoxfoQ6J5GjOp0g9DpXkCo73HLcOhTAAjvp7b073yLLOfgY7zzMb686MfFZPAAAAAB/s0Y7oa/jO7sqnjsAAAAAOzOkOshGpzqwPrY6rzkXOqMpdju7oEw8ozmsOyE/gjtVNaA7qDtNO1+HCjwkwNM6eHgwPXGtPzxK8cw7AAAAAKsJQzuRyJo76HZ7O5Y8LDoO8Dk6U5nGOvZbPTodUVM69ChiOx86IDsgBwE725tNO3t3Gjt+MhA7BYWLO0p9Azt8lfs8pA7PO1AhlzwAAAAAzuKdO/byCzzxca87AAAAAFE3kzjhcZk6fzL5OQDqITrTbBw7xzeWO1rrLjuul047ffeAOlzmBzt6ooM7mY9VOcwOozxTloQ7blOPOwAAAAAsMXo6bVsrO7/RIzsAAAAAAAAAAB9mcDoAAAAAj1MMOr90PzphJsU6AAAAAAkm7joAAAAAa/a8OsZIDzsAAAAALlxLPN1R7TpkN1E8f4iPOwAAAAAJ8pQ6gFqUO7KJJDvanAU7AAAAAOT3EDr1iZw6ldLWOLBgEDr0OqU6bFERO1KZ4zqLsAs7QIGuOl7N/Do+uYM7ElzXPAAAAAAmdIk8Pg66OysYeThQCjg8AAAAAHEXITuTd6M7hqJoOxQkEjtf7CY61KqXOrItRTq5uCM6Dc/lOnK0kjt3kUw7lXppOzXCOzy23KM7Rs5/O4rq8zvuf7k8kA+/O6NWgDsAAAAALoxNO9Tc0zqC+DA783LoOgAAAABguM46KFGbOgAAAABuyKE6tFXQOgAAAABHWgI7AAAAAIiCHzuEsZ879mvpOpUMqDzt3ds66aoePOMZfzpPONI7V8wbOyvbiDr3Ppo7grCKOqX/YzrorNs6hp5iOxTx4Trgi6Q6b05aO0dEFTq6Qow6YhWBPFXwhjv7wNw7AAAAAJHBNjvBm3c7jYE5OwAAAAAAAAAAsZSKOgAAAADpuns6/u0HPHf+6TvIaYE6xZhIO63dNTuc5fI6rXRxO72FfDqNPe88xCzWO75UhTsAAAAALNAOOwSSvzod3w07AAAAAAAAAACp/K06AAAAAAAAAADWX0U6KLh+OuzA6jmcsAI7ccsyOp422zqlvYA7Gwo3OaY9Sjxb3Ok6",
          "dtype": "f4"
         },
         "yaxis": "y"
        },
        {
         "hovertemplate": "country=Finland<br>year=%{x}<br>share_votes_far_right=%{y}<extra></extra>",
         "legendgroup": "Finland",
         "marker": {
          "color": "#ab63fa",
          "symbol": "circle"
         },
         "mode": "markers",
         "name": "Finland",
         "showlegend": true,
         "type": "scattergl",
         "x": {
          "bdata": "vAe/B8AHwwfEB8cHyAfLB8wHzwfQB9MH1AfXB9gH2QfbB9wH3gffB7wHvwfAB8MHxAfHB8gHywfMB88H0AfTB9QH1wfYB9kH2wfcB94H3we8B78HwAfDB8QHxwfIB8sHzAfPB9AH0wfUB9cH2AfZB9sH3AfeB98HvAe/B8AHwwfEB8cHyAfLB8wHzwfQB9MH1AfXB9gH2QfbB9wH3gffBw==",
          "dtype": "i2"
         },
         "xaxis": "x",
         "y": {
          "bdata": "iw3XPOC3tD13S0Q9n5WPPYGqDD3Lzpo9RQvWPGB4CT0xcHQ8Z8eoPFMpJzzo/5c8a+cdPFW/Qj1dx1U9E8/PPaDzST46QgE+xlkOPjC0Pz62WIY8ZsuPPQ7XCj1Oygs9iuKCPCLuwzzD6QA8apF1PZmJvDyLZJA8T/8eOREU8jw/7QU8w3xDPWl8iD3cIq49hX0oPgE+5D2SyOQ93usbPulC+jzLJPI95gtmPYY6iT26ryI9imk9PXm3oTwypxE97pEiPAlt8TsgLoU7sIYsPPgaDjxzfhk9N/Q4PZrS2D0Ltk8+s/wBPnjxFz4PUE8+Www/PYd65j0jkpI9xPijPVYVWj0KfDs9s3gsPfY7Ej3pXoU8ThyaPGPDOzw4Zwo83WckPPXHCT0XF0s9qG7cPeImVD48mwY+xKsDPoxgMz4=",
          "dtype": "f4"
         },
         "yaxis": "y"
        },
        {
         "hovertemplate": "country=France<br>year=%{x}<br>share_votes_far_right=%{y}<extra></extra>",
         "legendgroup": "France",
         "marker": {
          "color": "#FFA15A",
          "symbol": "circle"
         },
         "mode": "markers",
         "name": "France",
         "showlegend": true,
         "type": "scattergl",
         "x": {
          "bdata": "vQfAB8IHxAfFB8gHyQfKB80HzgfPB9IH1AfXB9kH2gfcB94H3we9B8AHwgfEB8UHyAfJB8oHzQfOB88H0gfUB9cH2QfaB9wH3ge9B8AHwgfEB8UHyAfJB8oHzQfOB88H0gfUB9cH2QfaB9wH3ge9B8AHwgfEB8UHyAfJB8oHzQfOB88H0gfUB9cH2QfaB9wH3ge9B8AHwgfEB8UHyAfJB8oHzQfOB88H0gfUB9cH2QfaB9wH3ge9B8AHwgfEB8UHyAfJB8oHzQfOB88H0gfUB9cH2QfaB9wH3ge9B8AHwgfEB8UHyAfJB8oHzQfOB88H0gfUB9cH2QfaB9wH3ge9B8AHwgfEB8UHyAfJB8oHzQfOB88H0gfUB9cH2QfaB9wH3ge9B8AHwgfEB8UHyAfJB8oHzQfOB88H0gfUB9cH2QfaB9wH3ge9B8AHwgfEB8UHyAfJB8oHzQfOB88H0gfUB9cH2QfaB9wH3ge9B8AHwgfEB8UHyAfJB8oHzQfOB88H0gfUB9cH2QfaB9wH3ge9B8AHwgfEB8UHyAfJB8oHzQfOB88H0gfUB9cH2QfaB9wH3gffB70HwAfCB8QHxQfIB8kHygfNB84HzwfSB9QH1wfZB9oH3AfeB98HvQfAB8IHxAfFB8gHyQfKB80HzgfPB9IH1AfXB9kH2gfcB94HvQfAB8IHxAfFB8gHyQfKB80HzgfPB9IH1AfXB9kH2gfcB94HvQfAB8IHxAfFB8gHyQfKB80HzgfPB9IH1AfXB9kH2gfcB94HvQfAB8IHxAfFB8gHyQfKB80HzgfPB9IH1AfXB9kH2gfcB94HvQfAB8IHxAfFB8gHyQfKB80HzgfPB9IH1AfXB9kH2gfcB94HvQfAB8IHxAfFB8gHyQfKB80HzgfPB9IH1AfXB9kH2gfcB94HvQfAB8IHxAfFB8gHyQfKB80HzgfPB9IH1AfXB9kH2gfcB94HvQfAB8IHxAfFB8gHyQfKB80HzgfPB9IH1AfXB9kH2gfcB94H3we9B8AHwgfEB8UHyAfJB8oHzQfOB88H0gfUB9cH2QfaB9wH3gffBw==",
          "dtype": "i2"
         },
         "xaxis": "x",
         "y": {
          "bdata": "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",
          "dtype": "f4"
         },
         "yaxis": "y"
        },
        {
         "hovertemplate": "country=Italy<br>year=%{x}<br>share_votes_far_right=%{y}<extra></extra>",
         "legendgroup": "Italy",
         "marker": {
          "color": "#19d3f3",
          "symbol": "circle"
         },
         "mode": "markers",
         "name": "Italy",
         "showlegend": true,
         "type": "scattergl",
         "x": {
          "bdata": "vAe/B8AHwQfDB8UHxgfIB8oHywfMB88H0AfRB9QH1QfWB9gH2QfaB90H3ge/B8AHwwfEB8UHyAfJB8oHzAfOB88H0QfTB9QH1gfYB9kH3QfeB7wHvwfAB8EHwwfFB8YHyAfKB8sHzAfPB9AH0QfUB9UH1gfYB9kH2gfdB94H3we8B78HwAfBB8MHxQfGB8gHygfLB8wHzwfQB9EH1AfVB9YH2AfZB9oH3QfeB7wHvwfAB8EHwwfFB8YHyAfKB8sHzAfPB9AH0QfUB9UH1gfYB9kH3QfeB7wHvwfAB8EHwwfFB8YHyAfKB8sHzAfPB9AH0QfUB9YH2AfZB9sH3QfeB7wHvwfAB8EHwwfFB8YHyAfKB8sHzAfPB9AH0QfUB9UH1gfYB9kH2gfdB94H3we8B78HwAfBB8MHxQfGB8gHygfLB8wHzwfQB9EH1AfVB9YH2AfZB9oH3QfeB98HvAe/B8AHwQfDB8UHxgfIB8oHywfMB88H0AfRB9QH1QfWB9gH2QfaB90H3ge8B78HwAfBB8MHxQfGB8gHygfLB8wHzwfQB9EH1AfVB9YH2AfZB9oH3QfeB70HvwfAB8IHwwfFB8cHyAfKB8wHzwfRB9QH1gfYB9kH3AfdB94HvwfAB8MHxQfIB8oHzAfPB9EH1AfWB9gH2QfdB94HvwfAB8MHxAfFB8gHyQfKB8wHzgfPB9EH0wfUB9YH2AfZB90H3ge/B8AHwwfEB8UHyAfJB8oHzAfOB88H0QfTB9QH1gfYB9kH3QfeB7wHvwfAB8EHwwfFB8YHyAfKB8sHzAfPB9AH0QfUB9UH1gfYB9kH2gfdB94H3we/B8AHwwfEB8UHyAfJB8oHzAfOB88H0QfTB9QH1gfYB9kH3QfeB7wHvwfAB8EHwwfFB8YHyAfKB8sHzAfPB9AH0QfUB9UH1gfYB9kH2gfdB94HvAe/B8AHwQfDB8UHxgfIB8oHywfMB88H0AfRB9QH1QfWB9gH2QfaB90H3gffB7wHvwfAB8EHwwfFB8YHyAfKB8sHzAfPB9AH0QfUB9UH1gfYB9kH2gfdB94H3we8B78HwAfBB8MHxQfGB8gHygfLB8wHzwfQB9EH1AfVB9YH2AfZB9oH3QfeB98HvAe/B8AHwQfDB8UHxgfIB8oHywfMB88H0AfRB9QH1QfWB9gH2QfaB90H3gc=",
          "dtype": "i2"
         },
         "xaxis": "x",
         "y": {
          "bdata": "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",
          "dtype": "f4"
         },
         "yaxis": "y"
        },
        {
         "hovertemplate": "country=Portugal<br>year=%{x}<br>share_votes_far_right=%{y}<extra></extra>",
         "legendgroup": "Portugal",
         "marker": {
          "color": "#FF6692",
          "symbol": "circle"
         },
         "mode": "markers",
         "name": "Portugal",
         "showlegend": true,
         "type": "scattergl",
         "x": {
          "bdata": "vAe+B78HwQfDB8UHxwfJB8oHywfNB88H0QfSB9QH1QfZB9sH3QfeB98HvAe+B78HwQfDB8UHxwfJB8oHywfNB88H0QfSB9QH1QfZB9sH3QfeB98HvAe+B78HwQfDB8UHxwfJB8oHywfNB88H0QfSB9QH1QfZB9sH3QfeB98HvAe+B78HwQfDB8UHxwfJB8oHywfNB88H0QfSB9QH1QfZB9sH3QfeB98HvAe+B78HwQfDB8UHxwfJB8oHywfNB88H0QfSB9QH1QfZB9sH3QfeB98HvAe+B78HwQfDB8UHxwfJB8oHywfNB88H0QfSB9QH1QfZB9sH3QfeB98HvAe+B78HwQfDB8UHxwfJB8oHywfNB88H0QfSB9QH1QfZB9sH3QfeB98H",
          "dtype": "i2"
         },
         "xaxis": "x",
         "y": {
          "bdata": "ML9VOym6jTvN4208MRzBO7bXnTzkZlk8D7uAO5qcETmShSY7AAAAALlurzp+nmg70akfOb35+Doi5Zc8SravO7nprTvbBvU7f2jvObPprDy0DwU8CjZMOwAAAACvhUc80X9vO53wqjztWjA8uoa6OwAAAABpfUo7AAAAAAAAAAAeDyc7AAAAAKwKgDuOz488m+S0O0+iHTxYYU481J5SO8/t0zxFtjs8NNyqO0WpgzvTyk48DpPsO546qzwCFj88siWMOwAAAADlujY7AAAAAMHaqjtsal07AAAAAD4eYTtC2pE8iBOXO310qDsMVAk8JExwOkMKtzwivA08tigrO2KXtznpdiE8jrgpPEQc/jxYHKY8wtusOwAAAAAw8To7AAAAAOunAzsf6Zw76ptOOr9olDvWHpE8Jl6+O2I47jsmlUY8xUP6O6GFuDxn4BQ8QQ+COwAAAACZ+9E7J+wmO1bGmDwutQ885TmpOwAAAAD7ooI7AAAAAAAAAAAQaXs7AAAAABWAVjutOkA8goFcO60JnDsHnwA8AAAAALKbgzxrGA08AAAAAAAAAADsCMY7Q9XPO8Fntzz0Nvk7GqtZO9gzBDu8shw7AAAAAEWgsTofadw6AAAAALu5hDu0uUQ8iSeIO+wUSDsHXZo7AAAAAKGcoTxV9gc79MteOwAAAABDbcU7WTFVOwQabzz1bgk8WbdfOwAAAABrDkE7AAAAAAAAAADOL0A7AAAAAAAAAACVjrw8HoXiO1ysCj1IRh09AAAAAOJ2SD2dZzI8",
          "dtype": "f4"
         },
         "yaxis": "y"
        },
        {
         "hovertemplate": "country=Sweden<br>year=%{x}<br>share_votes_far_right=%{y}<extra></extra>",
         "legendgroup": "Sweden",
         "marker": {
          "color": "#B6E880",
          "symbol": "circle"
         },
         "mode": "markers",
         "name": "Sweden",
         "showlegend": true,
         "type": "scattergl",
         "x": {
          "bdata": "vgfBB8QHxwfKB8sHzgfPB9IH1AfWB9kH2gfeB74HwQfEB8cHygfLB84HzwfSB9QH1gfZB9oH3ge+B8EHxAfHB8oHywfOB88H0gfUB9YH2QfaB94HvgfBB8QHxwfKB8sHzgfPB9IH1AfWB9kH2gfeB74HwQfEB8cHygfLB84HzwfSB9QH1gfZB9oH2wfeB74HwQfEB8cHygfLB84HzwfSB9QH1gfZB9oH3ge+B8EHxAfHB8oHywfOB88H0gfUB9YH2QfaB94HvgfBB8QHxwfKB8sHzgfPB9IH1AfWB9kH2gfeBw==",
          "dtype": "i2"
         },
         "xaxis": "x",
         "y": {
          "bdata": "AAAAAAAAAAAAAAAAv8A5PTCBQzwAAAAA4BnKO+sCFjsYlE88msIfPAVCmTzAVJs8c3wJPXv7jz0AAAAAAAAAAAAAAAChgB49eik/PAAAAABdD1Y7CUKyOsaUIzwAhB48QqPSPOc27Tw4+kw9yPvnPQAAAAAAAAAAAAAAADJ2Ej0XriI8AAAAANlcDTuKknc5kWSzO1kr8TuJdOM8VuoOPffeWT00Jfg9AAAAAAAAAAAAAAAAZ/YgPfYLazwAAAAALt6hO71gRjvk1fI88DILPb+zfj1e74g932XDPVaSIT4AAAAAAAAAAAAAAAD89To9Z1JtPAAAAAAIAbI7z6qXOjYygDy0Gyo85u/lPEcDCD1Vl009JD5uPWkT4D0AAAAAAAAAAAAAAAB1XBg95dMZPAAAAABxuRA7HXyCOqBX+TvAHjQ8cAXgPCNjDj16mGE9car7PQAAAAAAAAAAAAAAABhq3zzn5p87AAAAAIn83zqdQUA5vEGyO2cUpTsLwpg8P3O9PISsEz1jH7c9AAAAAAAAAAAAAAAAWXuRPEkhQTsAAAAApYMwOgAAAADil+U6VwjpOWu/LTy09H88jIHJPNEViz0=",
          "dtype": "f4"
         },
         "yaxis": "y"
        }
       ],
       "layout": {
        "legend": {
         "title": {
          "text": "country"
         },
         "tracegroupgap": 0
        },
        "margin": {
         "t": 60
        },
        "template": {
         "data": {
          "bar": [
           {
            "error_x": {
             "color": "#2a3f5f"
            },
            "error_y": {
             "color": "#2a3f5f"
            },
            "marker": {
             "line": {
              "color": "#E5ECF6",
              "width": 0.5
             },
             "pattern": {
              "fillmode": "overlay",
              "size": 10,
              "solidity": 0.2
             }
            },
            "type": "bar"
           }
          ],
          "barpolar": [
           {
            "marker": {
             "line": {
              "color": "#E5ECF6",
              "width": 0.5
             },
             "pattern": {
              "fillmode": "overlay",
              "size": 10,
              "solidity": 0.2
             }
            },
            "type": "barpolar"
           }
          ],
          "carpet": [
           {
            "aaxis": {
             "endlinecolor": "#2a3f5f",
             "gridcolor": "white",
             "linecolor": "white",
             "minorgridcolor": "white",
             "startlinecolor": "#2a3f5f"
            },
            "baxis": {
             "endlinecolor": "#2a3f5f",
             "gridcolor": "white",
             "linecolor": "white",
             "minorgridcolor": "white",
             "startlinecolor": "#2a3f5f"
            },
            "type": "carpet"
           }
          ],
          "choropleth": [
           {
            "colorbar": {
             "outlinewidth": 0,
             "ticks": ""
            },
            "type": "choropleth"
           }
          ],
          "contour": [
           {
            "colorbar": {
             "outlinewidth": 0,
             "ticks": ""
            },
            "colorscale": [
             [
              0,
              "#0d0887"
             ],
             [
              0.1111111111111111,
              "#46039f"
             ],
             [
              0.2222222222222222,
              "#7201a8"
             ],
             [
              0.3333333333333333,
              "#9c179e"
             ],
             [
              0.4444444444444444,
              "#bd3786"
             ],
             [
              0.5555555555555556,
              "#d8576b"
             ],
             [
              0.6666666666666666,
              "#ed7953"
             ],
             [
              0.7777777777777778,
              "#fb9f3a"
             ],
             [
              0.8888888888888888,
              "#fdca26"
             ],
             [
              1,
              "#f0f921"
             ]
            ],
            "type": "contour"
           }
          ],
          "contourcarpet": [
           {
            "colorbar": {
             "outlinewidth": 0,
             "ticks": ""
            },
            "type": "contourcarpet"
           }
          ],
          "heatmap": [
           {
            "colorbar": {
             "outlinewidth": 0,
             "ticks": ""
            },
            "colorscale": [
             [
              0,
              "#0d0887"
             ],
             [
              0.1111111111111111,
              "#46039f"
             ],
             [
              0.2222222222222222,
              "#7201a8"
             ],
             [
              0.3333333333333333,
              "#9c179e"
             ],
             [
              0.4444444444444444,
              "#bd3786"
             ],
             [
              0.5555555555555556,
              "#d8576b"
             ],
             [
              0.6666666666666666,
              "#ed7953"
             ],
             [
              0.7777777777777778,
              "#fb9f3a"
             ],
             [
              0.8888888888888888,
              "#fdca26"
             ],
             [
              1,
              "#f0f921"
             ]
            ],
            "type": "heatmap"
           }
          ],
          "histogram": [
           {
            "marker": {
             "pattern": {
              "fillmode": "overlay",
              "size": 10,
              "solidity": 0.2
             }
            },
            "type": "histogram"
           }
          ],
          "histogram2d": [
           {
            "colorbar": {
             "outlinewidth": 0,
             "ticks": ""
            },
            "colorscale": [
             [
              0,
              "#0d0887"
             ],
             [
              0.1111111111111111,
              "#46039f"
             ],
             [
              0.2222222222222222,
              "#7201a8"
             ],
             [
              0.3333333333333333,
              "#9c179e"
             ],
             [
              0.4444444444444444,
              "#bd3786"
             ],
             [
              0.5555555555555556,
              "#d8576b"
             ],
             [
              0.6666666666666666,
              "#ed7953"
             ],
             [
              0.7777777777777778,
              "#fb9f3a"
             ],
             [
              0.8888888888888888,
              "#fdca26"
             ],
             [
              1,
              "#f0f921"
             ]
            ],
            "type": "histogram2d"
           }
          ],
          "histogram2dcontour": [
           {
            "colorbar": {
             "outlinewidth": 0,
             "ticks": ""
            },
            "colorscale": [
             [
              0,
              "#0d0887"
             ],
             [
              0.1111111111111111,
              "#46039f"
             ],
             [
              0.2222222222222222,
              "#7201a8"
             ],
             [
              0.3333333333333333,
              "#9c179e"
             ],
             [
              0.4444444444444444,
              "#bd3786"
             ],
             [
              0.5555555555555556,
              "#d8576b"
             ],
             [
              0.6666666666666666,
              "#ed7953"
             ],
             [
              0.7777777777777778,
              "#fb9f3a"
             ],
             [
              0.8888888888888888,
              "#fdca26"
             ],
             [
              1,
              "#f0f921"
             ]
            ],
            "type": "histogram2dcontour"
           }
          ],
          "mesh3d": [
           {
            "colorbar": {
             "outlinewidth": 0,
             "ticks": ""
            },
            "type": "mesh3d"
           }
          ],
          "parcoords": [
           {
            "line": {
             "colorbar": {
              "outlinewidth": 0,
              "ticks": ""
             }
            },
            "type": "parcoords"
           }
          ],
          "pie": [
           {
            "automargin": true,
            "type": "pie"
           }
          ],
          "scatter": [
           {
            "fillpattern": {
             "fillmode": "overlay",
             "size": 10,
             "solidity": 0.2
            },
            "type": "scatter"
           }
          ],
          "scatter3d": [
           {
            "line": {
             "colorbar": {
              "outlinewidth": 0,
              "ticks": ""
             }
            },
            "marker": {
             "colorbar": {
              "outlinewidth": 0,
              "ticks": ""
             }
            },
            "type": "scatter3d"
           }
          ],
          "scattercarpet": [
           {
            "marker": {
             "colorbar": {
              "outlinewidth": 0,
              "ticks": ""
             }
            },
            "type": "scattercarpet"
           }
          ],
          "scattergeo": [
           {
            "marker": {
             "colorbar": {
              "outlinewidth": 0,
              "ticks": ""
             }
            },
            "type": "scattergeo"
           }
          ],
          "scattergl": [
           {
            "marker": {
             "colorbar": {
              "outlinewidth": 0,
              "ticks": ""
             }
            },
            "type": "scattergl"
           }
          ],
          "scattermap": [
           {
            "marker": {
             "colorbar": {
              "outlinewidth": 0,
              "ticks": ""
             }
            },
            "type": "scattermap"
           }
          ],
          "scattermapbox": [
           {
            "marker": {
             "colorbar": {
              "outlinewidth": 0,
              "ticks": ""
             }
            },
            "type": "scattermapbox"
           }
          ],
          "scatterpolar": [
           {
            "marker": {
             "colorbar": {
              "outlinewidth": 0,
              "ticks": ""
             }
            },
            "type": "scatterpolar"
           }
          ],
          "scatterpolargl": [
           {
            "marker": {
             "colorbar": {
              "outlinewidth": 0,
              "ticks": ""
             }
            },
            "type": "scatterpolargl"
           }
          ],
          "scatterternary": [
           {
            "marker": {
             "colorbar": {
              "outlinewidth": 0,
              "ticks": ""
             }
            },
            "type": "scatterternary"
           }
          ],
          "surface": [
           {
            "colorbar": {
             "outlinewidth": 0,
             "ticks": ""
            },
            "colorscale": [
             [
              0,
              "#0d0887"
             ],
             [
              0.1111111111111111,
              "#46039f"
             ],
             [
              0.2222222222222222,
              "#7201a8"
             ],
             [
              0.3333333333333333,
              "#9c179e"
             ],
             [
              0.4444444444444444,
              "#bd3786"
             ],
             [
              0.5555555555555556,
              "#d8576b"
             ],
             [
              0.6666666666666666,
              "#ed7953"
             ],
             [
              0.7777777777777778,
              "#fb9f3a"
             ],
             [
              0.8888888888888888,
              "#fdca26"
             ],
             [
              1,
              "#f0f921"
             ]
            ],
            "type": "surface"
           }
          ],
          "table": [
           {
            "cells": {
             "fill": {
              "color": "#EBF0F8"
             },
             "line": {
              "color": "white"
             }
            },
            "header": {
             "fill": {
              "color": "#C8D4E3"
             },
             "line": {
              "color": "white"
             }
            },
            "type": "table"
           }
          ]
         },
         "layout": {
          "annotationdefaults": {
           "arrowcolor": "#2a3f5f",
           "arrowhead": 0,
           "arrowwidth": 1
          },
          "autotypenumbers": "strict",
          "coloraxis": {
           "colorbar": {
            "outlinewidth": 0,
            "ticks": ""
           }
          },
          "colorscale": {
           "diverging": [
            [
             0,
             "#8e0152"
            ],
            [
             0.1,
             "#c51b7d"
            ],
            [
             0.2,
             "#de77ae"
            ],
            [
             0.3,
             "#f1b6da"
            ],
            [
             0.4,
             "#fde0ef"
            ],
            [
             0.5,
             "#f7f7f7"
            ],
            [
             0.6,
             "#e6f5d0"
            ],
            [
             0.7,
             "#b8e186"
            ],
            [
             0.8,
             "#7fbc41"
            ],
            [
             0.9,
             "#4d9221"
            ],
            [
             1,
             "#276419"
            ]
           ],
           "sequential": [
            [
             0,
             "#0d0887"
            ],
            [
             0.1111111111111111,
             "#46039f"
            ],
            [
             0.2222222222222222,
             "#7201a8"
            ],
            [
             0.3333333333333333,
             "#9c179e"
            ],
            [
             0.4444444444444444,
             "#bd3786"
            ],
            [
             0.5555555555555556,
             "#d8576b"
            ],
            [
             0.6666666666666666,
             "#ed7953"
            ],
            [
             0.7777777777777778,
             "#fb9f3a"
            ],
            [
             0.8888888888888888,
             "#fdca26"
            ],
            [
             1,
             "#f0f921"
            ]
           ],
           "sequentialminus": [
            [
             0,
             "#0d0887"
            ],
            [
             0.1111111111111111,
             "#46039f"
            ],
            [
             0.2222222222222222,
             "#7201a8"
            ],
            [
             0.3333333333333333,
             "#9c179e"
            ],
            [
             0.4444444444444444,
             "#bd3786"
            ],
            [
             0.5555555555555556,
             "#d8576b"
            ],
            [
             0.6666666666666666,
             "#ed7953"
            ],
            [
             0.7777777777777778,
             "#fb9f3a"
            ],
            [
             0.8888888888888888,
             "#fdca26"
            ],
            [
             1,
             "#f0f921"
            ]
           ]
          },
          "colorway": [
           "#636efa",
           "#EF553B",
           "#00cc96",
           "#ab63fa",
           "#FFA15A",
           "#19d3f3",
           "#FF6692",
           "#B6E880",
           "#FF97FF",
           "#FECB52"
          ],
          "font": {
           "color": "#2a3f5f"
          },
          "geo": {
           "bgcolor": "white",
           "lakecolor": "white",
           "landcolor": "#E5ECF6",
           "showlakes": true,
           "showland": true,
           "subunitcolor": "white"
          },
          "hoverlabel": {
           "align": "left"
          },
          "hovermode": "closest",
          "mapbox": {
           "style": "light"
          },
          "paper_bgcolor": "white",
          "plot_bgcolor": "#E5ECF6",
          "polar": {
           "angularaxis": {
            "gridcolor": "white",
            "linecolor": "white",
            "ticks": ""
           },
           "bgcolor": "#E5ECF6",
           "radialaxis": {
            "gridcolor": "white",
            "linecolor": "white",
            "ticks": ""
           }
          },
          "scene": {
           "xaxis": {
            "backgroundcolor": "#E5ECF6",
            "gridcolor": "white",
            "gridwidth": 2,
            "linecolor": "white",
            "showbackground": true,
            "ticks": "",
            "zerolinecolor": "white"
           },
           "yaxis": {
            "backgroundcolor": "#E5ECF6",
            "gridcolor": "white",
            "gridwidth": 2,
            "linecolor": "white",
            "showbackground": true,
            "ticks": "",
            "zerolinecolor": "white"
           },
           "zaxis": {
            "backgroundcolor": "#E5ECF6",
            "gridcolor": "white",
            "gridwidth": 2,
            "linecolor": "white",
            "showbackground": true,
            "ticks": "",
            "zerolinecolor": "white"
           }
          },
          "shapedefaults": {
           "line": {
            "color": "#2a3f5f"
           }
          },
          "ternary": {
           "aaxis": {
            "gridcolor": "white",
            "linecolor": "white",
            "ticks": ""
           },
           "baxis": {
            "gridcolor": "white",
            "linecolor": "white",
            "ticks": ""
           },
           "bgcolor": "#E5ECF6",
           "caxis": {
            "gridcolor": "white",
            "linecolor": "white",
            "ticks": ""
           }
          },
          "title": {
           "x": 0.05
          },
          "xaxis": {
           "automargin": true,
           "gridcolor": "white",
           "linecolor": "white",
           "ticks": "",
           "title": {
            "standoff": 15
           },
           "zerolinecolor": "white",
           "zerolinewidth": 2
          },
          "yaxis": {
           "automargin": true,
           "gridcolor": "white",
           "linecolor": "white",
           "ticks": "",
           "title": {
            "standoff": 15
           },
           "zerolinecolor": "white",
           "zerolinewidth": 2
          }
         }
        },
        "xaxis": {
         "anchor": "y",
         "domain": [
          0,
          1
         ],
         "title": {
          "text": "year"
         }
        },
        "yaxis": {
         "anchor": "x",
         "domain": [
          0,
          1
         ],
         "title": {
          "text": "share_votes_far_right"
         }
        }
       }
      }
     },
     "metadata": {},
     "output_type": "display_data"
    }
   ],
   "source": [
    "only_elections.plot.scatter(x=\"year\", y=\"share_votes_far_right\", color=\"country\")"
   ]
  },
  {
   "cell_type": "code",
   "execution_count": 44,
   "id": "66",
   "metadata": {},
   "outputs": [
    {
     "data": {
      "application/vnd.plotly.v1+json": {
       "config": {
        "plotlyServerURL": "https://plot.ly"
       },
       "data": [
        {
         "hovertemplate": "country=Austria<br>year=%{x}<br>share_votes_far_left=%{y}<extra></extra>",
         "legendgroup": "Austria",
         "marker": {
          "color": "#636efa",
          "symbol": "circle"
         },
         "mode": "markers",
         "name": "Austria",
         "showlegend": true,
         "type": "scattergl",
         "x": {
          "bdata": "vge/B8IHwwfGB8cHygfLB8wHzwfQB9IH1AfVB9YH2AfZB9oH3QfeB98HvwfCB8QHxgfJB8oHywfMB84HzwfSB9MH1AfWB9gH2QfdB94HvwfCB8MHxgfHB8oHywfMB88H0QfSB9QH1QfWB9gH2QfaB90H3gffB78HwAfCB8UHxgfKB8sHzAfPB9IH1AfWB9gH2QfdB94HvQe/B8IHxgfHB8oHywfMB88H0AfSB9QH1QfWB9gH2QfaB90H3gffB78HwQfCB8YHxwfKB8sHzAfNB88H0gfTB9QH1gfYB9kH3QfeB98HvwfAB8IHxQfGB8oHywfMB88H0gfUB9YH2AfZB90H3ge/B8AHwgfFB8YHygfLB8wHzwfSB9MH1AfWB9gH2QfdB94HvwfAB8IHxQfGB8oHywfMB88H0gfUB9YH2AfZB90H3gc=",
          "dtype": "i2"
         },
         "xaxis": "x",
         "y": {
          "bdata": "+7axO1CqQDteKl07d8C4O0dZLTsAAAAAXi+COiq7pzoLMpk6ctQ5OwAAAABRuyI76ftzOwAAAACY8aY70M2TO+2KXDsAAAAAQMShOwAAAAAAAAAApdvpO02MyDskogg8I3WPO/WPGDsVkC47lro5O900lTtdX9w7egehO8chljsQjvs7jzmkO7cP9jtIw/I7azWcOxU7/DsAAAAAjpktPNXXJzwQo4w8408HPOvA0Tv+L447G2eAOxT9ZDt5DTQ8yu3UO9vLLjzt/4s8/St2PAMkdTxNmkU8rnBJPGhtODztm5E8AAAAAEgAMTxHzfQ76Z4BPGDp0ztbHsg7yA5hO0nTQTobZAE7nOphO76efTtGGqw7Yl2/O9t1ETx5LLE7uZmmOxImSjsAAAAA6eBaPHFs+TtdLyk8m13rOzREwztgDXs7t7KgO3D1vTvcvvA7dckoPKUrHDy5AfY7cc+BPbCxmjyhQEs8TfsCPCZyND2XL5M8AAAAAB3eLD2vPKY7npDTO2IKyTuPB387AAAAAJfEATvCOgs7KSNwO//WNztkaIc7jMCYOxJaADwT6dA7fbIFPJTv2DtsybY7rgn1OwAAAABZZfU702+IO0KAlDt486c70cujOwGxdzsAAAAAzK4BO5O5TDuZ0hM7t4aKO4LlHjskj/Y7tYDLO5voCTtDuZ87AAAAAK9ZhDt3F4Q7FSu7O99VxTvIV7s7B51qOgkpJzv/3nU7uZInO1jotztBduU7LH7qO9669Du7KA48vI6jO5UHxjsAAAAA05qlOx+/EDw8k+Y7R+noO4mkzTsAAAAAQFwEOzjcCDs/CcM63xZuO/v19zooQ7Q7MzKxO7GovToUhKI7AAAAAA==",
          "dtype": "f4"
         },
         "yaxis": "y"
        },
        {
         "hovertemplate": "country=Germany<br>year=%{x}<br>share_votes_far_left=%{y}<extra></extra>",
         "legendgroup": "Germany",
         "marker": {
          "color": "#EF553B",
          "symbol": "circle"
         },
         "mode": "markers",
         "name": "Germany",
         "showlegend": true,
         "type": "scattergl",
         "x": {
          "bdata": "vAe/B8AHwwfEB8UHxgfIB8oHzAfOB88H0QfSB9QH1QfWB9kH2wfdB94HvAe/B8AHwwfEB8UHxgfIB8oHzAfOB88H0QfSB9QH1QfWB9kH2wfdB94HvAe/B8AHwwfEB8UHxgfIB8oHzAfOB88H0QfSB9QH1QfWB9kH2wfdB94HvAe/B8AHwwfEB8UHxgfIB8oHzAfOB88H0QfSB9QH1QfWB9kH2wfdB94HvAe+B78HwAfCB8MHxQfGB8oHzgfPB9IH0wfUB9UH2AfZB90HvAe+B78HwAfCB8MHxQfGB8oHzgfPB9IH0wfUB9UH2AfZB90HvAe+B78HwAfCB8MHxQfGB8oHzgfPB9IH0wfUB9UH2AfZB90HvAe+B78HwAfCB8MHxQfGB8oHzgfPB9IH0wfUB9UH2AfZB90HvAe+B78HwAfCB8MHxQfGB8oHzgfPB9IH0wfUB9UH2AfZB90HvAe+B78HwAfCB8MHxQfGB8oHzgfPB9IH0wfUB9UH2AfZB90HvAe+B78HwAfCB8MHxQfGB8oHzgfPB9IH0wfUB9UH2AfZB90HxgfKB8sHzgfPB9EH0gfUB9UH1gfZB9sH3QfeB8YHygfOB88H0gfUB9UH2QfdB94HvAe/B8AHwwfFB8YHxwfKB8sHzgfPB9IH0wfUB9UH1wfZB9sH3QfeB98HvAe/B8AHwwfFB8YHygfOB88H0QfSB9QH1QfYB9kH2wfdB94H3we8B74HvwfAB8MHxQfGB8cHygfLB84HzwfSB9MH1AfVB9gH2QfdB94HvAe+B78HwAfDB8UHxgfHB8oHywfOB88H0gfTB9QH1QfYB9kH3QfeB7wHvge/B8AHwwfFB8YHxwfKB8sHzgfPB9IH0wfUB9UH2AfZB90H3gfGB8oHzgfPB9IH1AfVB9YH2QfbB90H3ge8B74HvwfAB8IHwwfFB8YHygfOB88H0gfTB9QH1QfYB9kH3QfeB7wHvge/B8AHwgfDB8UHxgfKB84HzwfSB9MH1AfVB9gH2QfdB94HvAe+B78HwAfCB8MHxQfGB8oHzgfPB9IH0wfUB9UH2AfZB90H3ge8B74HvwfAB8IHwwfFB8YHygfOB88H0gfTB9QH1QfYB9kH3QfeB7wHvwfAB8MHxQfGB8cHygfLB84HzwfQB9IH1AfVB9kH2gfcB90H3ge8B78HwAfDB8UHxgfHB8oHywfOB88H0AfSB9QH1QfZB9oH3AfdB94HvAe/B8AHwwfFB8YHxwfKB8sHzgfPB9AH0gfUB9UH2QfaB9wH3QfeB7wHvwfAB8MHxQfGB8cHygfLB84HzwfQB9IH1AfVB9kH2gfcB90H3ge8B78HwAfDB8UHxgfHB8oHywfOB88H0AfSB9QH1QfZB9oH3AfdB94HvAe/B8AHwwfFB8YHxwfKB8wHzgfPB9EH0gfUB9UH1gfZB9sH3QfeB7wHvwfAB8MHxQfGB8cHygfMB84HzwfRB9IH1AfVB9YH2QfbB90H3ge8B78HwAfDB8UHxgfHB8oHzAfOB88H0QfSB9QH1QfWB9kH2wfdB94HvAe/B8AHwQfDB8UHxgfKB84HzwfSB9QH1QfZB9wH3QfeB8YHygfOB88H0gfUB9UH2QfdB94HxgfKB84HzwfSB9QH1QfZB90H3gfGB8oHzgfPB9IH1AfVB9kH3QfeB8YHygfOB88H0gfUB9UH1gfZB9sH3QfeB7wHvwfAB8MHxQfGB8oHzAfOB88H0gfUB9UH2QfcB90H3gfGB8oHzgfPB9IH1AfVB9kH3QfeBw==",
          "dtype": "i2"
         },
         "xaxis": "x",
         "y": {
          "bdata": "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",
          "dtype": "f4"
         },
         "yaxis": "y"
        },
        {
         "hovertemplate": "country=Spain<br>year=%{x}<br>share_votes_far_left=%{y}<extra></extra>",
         "legendgroup": "Spain",
         "marker": {
          "color": "#00cc96",
          "symbol": "circle"
         },
         "mode": "markers",
         "name": "Spain",
         "showlegend": true,
         "type": "scattergl",
         "x": {
          "bdata": "vQe+B8EHwgfDB8UHyQfKB8wHzQfPB9AH0QfUB9UH2AfZB9sH3AfeB98Hvge/B8IHwwfFB8cHyQfKB8sHzAfPB9AH0wfUB9cH2AfZB9sH3AfeB98Hvge/B8IHwwfFB8cHyQfKB8sHzAfPB9AH0wfUB9cH2AfZB9sH3gffB7wHvgfAB8IHwwfFB8YHyQfKB8wHzgfPB9AH0QfUB9UH2AfZB9sH3AfeB98Hvge/B8IHwwfFB8cHyQfKB8sHzAfPB9AH0wfUB9cH2AfZB9sH3gffB74HvwfCB8MHxQfHB8kHygfLB8wHzwfQB9MH1AfXB9gH2QfbB94H3we+B78HwgfDB8UHxwfJB8oHywfMB88H0AfTB9QH1wfYB9kH2wfeB98Hvge/B8IHwwfFB8cHyQfKB8sHzAfPB9AH0wfUB9cH2AfZB9sH3gffB74HvwfCB8MHxQfHB8kHygfLB8wHzwfQB9MH1AfXB9gH2QfbB94H3we+B78HwgfDB8UHxwfJB8oHywfMB88H0AfTB9QH1wfYB9kH2wfeB98Hvge/B8IHwwfFB8cHyQfKB8sHzAfPB9AH0wfUB9cH2AfZB9sH3gffB7wHvgfAB8IHwwfEB8UHyAfJB8oHywfMB88H0AfTB9QH1gfYB9kH2gfbB9wH3gffB74HvwfCB8MHxQfHB8kHygfLB8wHzwfQB9MH1AfXB9gH2QfbB94H3we+B78HwgfDB8UHxwfJB8oHywfMB88H0AfTB9QH1wfYB9kH2wfeB98HvgfCB8MHxQfGB8kHygfMB88H0AfUB9gH2QfbB9wH3gffB74HvwfCB8MHxQfHB8kHygfLB8wHzwfQB9MH1AfXB9gH2QfbB94H3we+B78HwgfDB8UHxwfJB8oHywfMB88H0AfTB9QH1wfYB9kH2wfeB98H",
          "dtype": "i2"
         },
         "xaxis": "x",
         "y": {
          "bdata": "c04aPnrfQz2kFv891uK5PS9k0T0W1fw9S9IvPrrRLj7VNi0+vTaGPsDNdD7/8E8+A+J3PoGcDD5nCkw+7ksFPtHDGD7RACA+G3+APgh1jz5cvZc+KP6/PTjLCT5xqfY97rwIPkabJz55YB0+J+8iPuIVTj6w6ys+S4cjPmX0zD3LudU9PKzrPbsnnz04UdI9iMqVPQU8hj02Q/k958cSPl6WjT72IJ4+A5QhPaEZUj2RNnc9oiloPTTtmz0ZDkQ9FpmfPYNhBT5VXJ49bLT4PTKMQD2yFVc9UZsaPZMmAD24QK480ki8PAtjzjzYtBk9V2ZFPvCsMT5rR6g+gW6APlmngT74Npk+9jSiPsy9nj6PRY8+h9ZcPuDUgz5A+mo+qZtxPnnUdT7DDG49d5ohPtHQwT0g1FM+VdCXPTzp6j0nipA+19SOPtXbvD4q0+I+qzYjPtbqRz7Yq0w+E3pSPhV+Wz6DPVI+1OhGPsBldj68t1s+w2VZPvLLZD4l3KY9oIRMPrEfQD5EEpI+1ipiPhiqHj7ESbE+SufPPoHg8T6WrOY8PgKzPOYBGT1payE919OaPeF/PD3qL5E9awnsPWZWlj1Hnbo9v/0sPZJ4KT2xBuM8GdvTPCYp/zzAI6E80cXGPIInNT0Y+So+nhs6PuLpGz1nwWw9kwVsPXh8ej3mXtI9SyiUPb/9zT06RhI+Iom/PdXCwD0iMyc9YgMSPTzO/zyFJPU8pR0rPUrR6zxshyk9BSACPZvpSz6eSoE+BrR/PcChwT1u4r893sHAPYZfGT5hfAM+mWwaPo4hTj5qFCg+PPMuPrKvqT2bccA9ojqqPd+TeD3rpLs9p5hCPfS8UT1g77o9dtdpPl7jfj44luw8My7PPInwSD0kpD49dHOXPdi6YT0xiJ89t03tPXxjyT3+M8g9/x9jPRq4OT23Lhs9jJrpPEq4Az3sotE8wLfnPI+pYT3gcjI+PDU9PsqcNT3+uY49qOtoPSf9bD1Pzpk9MFiAPRr4nD0yUt494VCdPWlFtT1nKB49jAg1Pb7VAD2ssAE93RAOPVhD8jzOjwY9NrdHPZFAIT4ZFR0+u6+pPdD4kj2iI6A91bF+PU68pT2enps9tNG2PZiw4z0bbt09YRO8PbmNfj05uGA9sS+CPYWvED1620A9jYgHPYal5zymNHA9GD7uPZLeED4dANc+yF2ePUntET4xJ449SRqpPb2vqj35mLo949yhPdDvoD38E/Q9qVvLPc5GoD2VEn89M2Z1PeG0mT38WIY9ZQnLPf7+Tz1KgJ49pHmdPbeesz3Esws+ZXYiPthJvD3ulYU9aDi2PVjWkj3TpMU9YdrBPdccoD3oZt49/kkUPiqg8z1GfOk9vot+PVKheT2NgIc9cFkuPSYfqj01teE8Q40IPV/4hD0GQEs+O8hsPsZSVT1/w8c9oFt1PQrQmz3Jwrc92LnZPTma4T0Mvik+srBBPuKyCz4G0R8+uOvNPUOLCz7HLKA9CNfUPV2a6zyte4g9IbT2PQxHUT5wq6M+85SrPX6lFT6O5gc+32v7PfxeCz4kS/o9UwBAPplEED5y2eo9AG6sPQYXiD2NbX09M2hnPZSqrT37Te09aoBJPjdRZz5Nmy89XI+QPQdrfD39UZY9cca9PccR0z2c9Mk9yTwKPi0wAT4BreE9P7SOPf0mgT2wj2s93PIaPWa8gT1PYfI8HgoEPfMdtj1zAzw+nZE9PjEEJz3ej/s9ZuDrPdMy6j32uuk98j0JPpwhWD2rN7g9Ivp2Pe1scz3aq/g8KuTGPMtjeTzgBKY8TEcMPL8fTjyCBrE8f5DlPD1RZz56/2I+",
          "dtype": "f4"
         },
         "yaxis": "y"
        },
        {
         "hovertemplate": "country=Finland<br>year=%{x}<br>share_votes_far_left=%{y}<extra></extra>",
         "legendgroup": "Finland",
         "marker": {
          "color": "#ab63fa",
          "symbol": "circle"
         },
         "mode": "markers",
         "name": "Finland",
         "showlegend": true,
         "type": "scattergl",
         "x": {
          "bdata": "vAe/B8AHwwfEB8cHyAfLB8wHzwfQB9MH1AfXB9gH2QfbB9wH3gffB7wHvwfAB8MHxAfHB8gHywfMB88H0AfTB9QH1wfYB9kH2wfcB94H3we8B78HwAfDB8QHxwfIB8sHzAfPB9AH0wfUB9cH2AfZB9sH3AfeB98HvAe/B8AHwwfEB8cHyAfLB8wHzwfQB9MH1AfXB9gH2QfbB9wH3gffBw==",
          "dtype": "i2"
         },
         "xaxis": "x",
         "y": {
          "bdata": "PtgxPpebHD64cRQ+2nLQPdIuDD7h7eM9PTEDPkjO7j3Ts+k9HnP5PVAS5z0Hi+Q99nTYPen/uz0nt8U9hOeEPV7XpD1xeaU9q9+rPc4IjD1AHBs+xID9PYYbwz2fcps9RMzPPdEurz2217g9XyTBPbz5rj30u7c9gcKsPST6tj0nUK89BVGdPfuUnT1K+2Q9HzOePUBeoz2PQsA9VE2OPRx3ED795eM9tLPsPZIQlz1BPuA9siCyPVNezT0C9889VorEPYg5xj1n5rY9LdrKPa/Euj2oxMA97KOuPZRCkD0gGaQ9eVyhPRtsvz1qDJY90JZIPtzuFD4fSic+PEb2PUbpHT6eXwA+frgaPupCED4JXAE+tuANPnVNBD6dKgo+7nX1PR3Z/j2+s+89bYWRPQod2D2Lq849xcz4PT5Ktj0=",
          "dtype": "f4"
         },
         "yaxis": "y"
        },
        {
         "hovertemplate": "country=France<br>year=%{x}<br>share_votes_far_left=%{y}<extra></extra>",
         "legendgroup": "France",
         "marker": {
          "color": "#FFA15A",
          "symbol": "circle"
         },
         "mode": "markers",
         "name": "France",
         "showlegend": true,
         "type": "scattergl",
         "x": {
          "bdata": "vQfAB8IHxAfFB8gHyQfKB80HzgfPB9IH1AfXB9kH2gfcB94H3we9B8AHwgfEB8UHyAfJB8oHzQfOB88H0gfUB9cH2QfaB9wH3ge9B8AHwgfEB8UHyAfJB8oHzQfOB88H0gfUB9cH2QfaB9wH3ge9B8AHwgfEB8UHyAfJB8oHzQfOB88H0gfUB9cH2QfaB9wH3ge9B8AHwgfEB8UHyAfJB8oHzQfOB88H0gfUB9cH2QfaB9wH3ge9B8AHwgfEB8UHyAfJB8oHzQfOB88H0gfUB9cH2QfaB9wH3ge9B8AHwgfEB8UHyAfJB8oHzQfOB88H0gfUB9cH2QfaB9wH3ge9B8AHwgfEB8UHyAfJB8oHzQfOB88H0gfUB9cH2QfaB9wH3ge9B8AHwgfEB8UHyAfJB8oHzQfOB88H0gfUB9cH2QfaB9wH3ge9B8AHwgfEB8UHyAfJB8oHzQfOB88H0gfUB9cH2QfaB9wH3ge9B8AHwgfEB8UHyAfJB8oHzQfOB88H0gfUB9cH2QfaB9wH3ge9B8AHwgfEB8UHyAfJB8oHzQfOB88H0gfUB9cH2QfaB9wH3gffB70HwAfCB8QHxQfIB8kHygfNB84HzwfSB9QH1wfZB9oH3AfeB98HvQfAB8IHxAfFB8gHyQfKB80HzgfPB9IH1AfXB9kH2gfcB94HvQfAB8IHxAfFB8gHyQfKB80HzgfPB9IH1AfXB9kH2gfcB94HvQfAB8IHxAfFB8gHyQfKB80HzgfPB9IH1AfXB9kH2gfcB94HvQfAB8IHxAfFB8gHyQfKB80HzgfPB9IH1AfXB9kH2gfcB94HvQfAB8IHxAfFB8gHyQfKB80HzgfPB9IH1AfXB9kH2gfcB94HvQfAB8IHxAfFB8gHyQfKB80HzgfPB9IH1AfXB9kH2gfcB94HvQfAB8IHxAfFB8gHyQfKB80HzgfPB9IH1AfXB9kH2gfcB94HvQfAB8IHxAfFB8gHyQfKB80HzgfPB9IH1AfXB9kH2gfcB94H3we9B8AHwgfEB8UHyAfJB8oHzQfOB88H0gfUB9cH2QfaB9wH3gffBw==",
          "dtype": "i2"
         },
         "xaxis": "x",
         "y": {
          "bdata": "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",
          "dtype": "f4"
         },
         "yaxis": "y"
        },
        {
         "hovertemplate": "country=Italy<br>year=%{x}<br>share_votes_far_left=%{y}<extra></extra>",
         "legendgroup": "Italy",
         "marker": {
          "color": "#19d3f3",
          "symbol": "circle"
         },
         "mode": "markers",
         "name": "Italy",
         "showlegend": true,
         "type": "scattergl",
         "x": {
          "bdata": "vAe/B8AHwQfDB8UHxgfIB8oHywfMB88H0AfRB9QH1QfWB9gH2QfaB90H3ge/B8AHwwfEB8UHyAfJB8oHzAfOB88H0QfTB9QH1gfYB9kH3QfeB7wHvwfAB8EHwwfFB8YHyAfKB8sHzAfPB9AH0QfUB9UH1gfYB9kH2gfdB94H3we8B78HwAfBB8MHxQfGB8gHygfLB8wHzwfQB9EH1AfVB9YH2AfZB9oH3QfeB7wHvwfAB8EHwwfFB8YHyAfKB8sHzAfPB9AH0QfUB9UH1gfYB9kH3QfeB7wHvwfAB8EHwwfFB8YHyAfKB8sHzAfPB9AH0QfUB9YH2AfZB9sH3QfeB7wHvwfAB8EHwwfFB8YHyAfKB8sHzAfPB9AH0QfUB9UH1gfYB9kH2gfdB94H3we8B78HwAfBB8MHxQfGB8gHygfLB8wHzwfQB9EH1AfVB9YH2AfZB9oH3QfeB98HvAe/B8AHwQfDB8UHxgfIB8oHywfMB88H0AfRB9QH1QfWB9gH2QfaB90H3ge8B78HwAfBB8MHxQfGB8gHygfLB8wHzwfQB9EH1AfVB9YH2AfZB9oH3QfeB70HvwfAB8IHwwfFB8cHyAfKB8wHzwfRB9QH1gfYB9kH3AfdB94HvwfAB8MHxQfIB8oHzAfPB9EH1AfWB9gH2QfdB94HvwfAB8MHxAfFB8gHyQfKB8wHzgfPB9EH0wfUB9YH2AfZB90H3ge/B8AHwwfEB8UHyAfJB8oHzAfOB88H0QfTB9QH1gfYB9kH3QfeB7wHvwfAB8EHwwfFB8YHyAfKB8sHzAfPB9AH0QfUB9UH1gfYB9kH2gfdB94H3we/B8AHwwfEB8UHyAfJB8oHzAfOB88H0QfTB9QH1gfYB9kH3QfeB7wHvwfAB8EHwwfFB8YHyAfKB8sHzAfPB9AH0QfUB9UH1gfYB9kH2gfdB94HvAe/B8AHwQfDB8UHxgfIB8oHywfMB88H0AfRB9QH1QfWB9gH2QfaB90H3gffB7wHvwfAB8EHwwfFB8YHyAfKB8sHzAfPB9AH0QfUB9UH1gfYB9kH2gfdB94H3we8B78HwAfBB8MHxQfGB8gHygfLB8wHzwfQB9EH1AfVB9YH2AfZB9oH3QfeB98HvAe/B8AHwQfDB8UHxgfIB8oHywfMB88H0AfRB9QH1QfWB9gH2QfaB90H3gc=",
          "dtype": "i2"
         },
         "xaxis": "x",
         "y": {
          "bdata": "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",
          "dtype": "f4"
         },
         "yaxis": "y"
        },
        {
         "hovertemplate": "country=Portugal<br>year=%{x}<br>share_votes_far_left=%{y}<extra></extra>",
         "legendgroup": "Portugal",
         "marker": {
          "color": "#FF6692",
          "symbol": "circle"
         },
         "mode": "markers",
         "name": "Portugal",
         "showlegend": true,
         "type": "scattergl",
         "x": {
          "bdata": "vAe+B78HwQfDB8UHxwfJB8oHywfNB88H0QfSB9QH1QfZB9sH3QfeB98HvAe+B78HwQfDB8UHxwfJB8oHywfNB88H0QfSB9QH1QfZB9sH3QfeB98HvAe+B78HwQfDB8UHxwfJB8oHywfNB88H0QfSB9QH1QfZB9sH3QfeB98HvAe+B78HwQfDB8UHxwfJB8oHywfNB88H0QfSB9QH1QfZB9sH3QfeB98HvAe+B78HwQfDB8UHxwfJB8oHywfNB88H0QfSB9QH1QfZB9sH3QfeB98HvAe+B78HwQfDB8UHxwfJB8oHywfNB88H0QfSB9QH1QfZB9sH3QfeB98HvAe+B78HwQfDB8UHxwfJB8oHywfNB88H0QfSB9QH1QfZB9sH3QfeB98H",
          "dtype": "i2"
         },
         "xaxis": "x",
         "y": {
          "bdata": "PwAZPlxQ8j3o/gA+CLbcPZEBsT2xFas969qFPbhXcD0lNI89e9dzPUZnbT2l9qA9Pm51PXXFiD3rS9Y9nWO9PUPG+z1Cfek93D2dPbXEIz4wZDA+P/uBPtyrZT5/wWg+StNGPk6xCT7uSCo+spvAPaBWID7WLAY+CgHPPbi+Fj7LGfw9urPqPWzd0T0JICE+AfcLPvPyUT42iUU+Rlk0PhaniT51WYU+CrsQPpzE5D18QPM9T67XPWu3lj1Iqqs9+etxPTGHiD1vUZE9swFuPdGdiz1kNZ89zk6QPfvbiD1suNw96+PEPUFIDj7uifQ9bfm+Pd/DLD7RCzE+mfusPkq9yj7I2Kk+fr+qPi8iZz6qfIo+w7xAPrlQhT7gYoE+WZE5PtKqiT4gtWI+MGZ2PgKiNT5YF38+wu6JPmsKkj7CL1M+SWWkPqDmlz6lTYU+1hLhPu3w8z7pwt0+jcTWPieBpj7ykcw+yTyHPpnBwT7xOLQ+li6APo1vwj6XyYQ+cdmzPkIPYz5iG5U+0h6XPt5NsD7Zw4o+l/aoPnUuuD4c/J4+cR2BPZ5IJj3U7kQ9wERxPSnqCD1UXhc9RNHiPFLDsTwaDOs8goLxPOCuIT0JrQk9NREHPX8VAj1ObC49H7o5PaGukT0pGKo9jogNPWOq1D3DwfI9kU2zPbPkqD2CpZA9ar/SPet0dj2p7tM9BZiDPa1efT1ajkw9261FPT6foD3y/0490U2oPfGPhD3egc09nOawPe9K3T3Ewe09sAqKPby0RD5evzM+",
          "dtype": "f4"
         },
         "yaxis": "y"
        },
        {
         "hovertemplate": "country=Sweden<br>year=%{x}<br>share_votes_far_left=%{y}<extra></extra>",
         "legendgroup": "Sweden",
         "marker": {
          "color": "#B6E880",
          "symbol": "circle"
         },
         "mode": "markers",
         "name": "Sweden",
         "showlegend": true,
         "type": "scattergl",
         "x": {
          "bdata": "vgfBB8QHxwfKB8sHzgfPB9IH1AfWB9kH2gfeB74HwQfEB8cHygfLB84HzwfSB9QH1gfZB9oH3ge+B8EHxAfHB8oHywfOB88H0gfUB9YH2QfaB94HvgfBB8QHxwfKB8sHzgfPB9IH1AfWB9kH2gfeB74HwQfEB8cHygfLB84HzwfSB9QH1gfZB9oH2wfeB74HwQfEB8cHygfLB84HzwfSB9QH1gfZB9oH3ge+B8EHxAfHB8oHywfOB88H0gfUB9YH2QfaB94HvgfBB8QHxwfKB8sHzgfPB9IH1AfWB9kH2gfeBw==",
          "dtype": "i2"
         },
         "xaxis": "x",
         "y": {
          "bdata": "HzGnPa+RnD1pqqI95NttPZmkkD34L+Q99lrnPT1QAD6AMrw9U1PYPf8Mgj3V0Eg9XCt6PV26iT0PBUs9FxdIPUbKXT03ejs98PB4PbCLAD4af/A9bKQUPrNBqz3hM909MghuPXDtZj1+cGU9i1d1PQGzFD1tfRo97p0rPZiOGj1PEFY9CoHzPXpayD2HMwY+JzSQPYN71D3UXlQ952F7Pe/sSj0Z+VU9WFMDPZumAT2etgo9sPvpPFOaHT0cRag9inqnPZ4C0T30lIE9Z4yxPaBaLT0Ytig9rUEoPQIsTD3/yD89STY5PWI5Qz0Giio9xsdvPVKvAj5cCes9YvImPhA/sj3dsAQ+WV+APbYfXT3I2nI9k3GBPc1aiz1vsFk9FdxfPRMBdz1L/1Y9XB2WPXfjFj6hFhU+eTtTPrl1vz2gJQ8+Sp+PPeATmT2UnX09e/yHPcfkRj3KKko9gq5ePUp5Rz3UI4A9wV05PiLBDT4nvFc+vMDNPXw4IT4VZpM9ZdKJPeT/fj0tS4g9FVGgPeKloj0hXaE9XLGWPdoRrD0luoM+3Zw2PuCnuj4WjwY+4O20PkTu0z2kA8g9kxvUPfe82z0=",
          "dtype": "f4"
         },
         "yaxis": "y"
        }
       ],
       "layout": {
        "legend": {
         "title": {
          "text": "country"
         },
         "tracegroupgap": 0
        },
        "margin": {
         "t": 60
        },
        "template": {
         "data": {
          "bar": [
           {
            "error_x": {
             "color": "#2a3f5f"
            },
            "error_y": {
             "color": "#2a3f5f"
            },
            "marker": {
             "line": {
              "color": "#E5ECF6",
              "width": 0.5
             },
             "pattern": {
              "fillmode": "overlay",
              "size": 10,
              "solidity": 0.2
             }
            },
            "type": "bar"
           }
          ],
          "barpolar": [
           {
            "marker": {
             "line": {
              "color": "#E5ECF6",
              "width": 0.5
             },
             "pattern": {
              "fillmode": "overlay",
              "size": 10,
              "solidity": 0.2
             }
            },
            "type": "barpolar"
           }
          ],
          "carpet": [
           {
            "aaxis": {
             "endlinecolor": "#2a3f5f",
             "gridcolor": "white",
             "linecolor": "white",
             "minorgridcolor": "white",
             "startlinecolor": "#2a3f5f"
            },
            "baxis": {
             "endlinecolor": "#2a3f5f",
             "gridcolor": "white",
             "linecolor": "white",
             "minorgridcolor": "white",
             "startlinecolor": "#2a3f5f"
            },
            "type": "carpet"
           }
          ],
          "choropleth": [
           {
            "colorbar": {
             "outlinewidth": 0,
             "ticks": ""
            },
            "type": "choropleth"
           }
          ],
          "contour": [
           {
            "colorbar": {
             "outlinewidth": 0,
             "ticks": ""
            },
            "colorscale": [
             [
              0,
              "#0d0887"
             ],
             [
              0.1111111111111111,
              "#46039f"
             ],
             [
              0.2222222222222222,
              "#7201a8"
             ],
             [
              0.3333333333333333,
              "#9c179e"
             ],
             [
              0.4444444444444444,
              "#bd3786"
             ],
             [
              0.5555555555555556,
              "#d8576b"
             ],
             [
              0.6666666666666666,
              "#ed7953"
             ],
             [
              0.7777777777777778,
              "#fb9f3a"
             ],
             [
              0.8888888888888888,
              "#fdca26"
             ],
             [
              1,
              "#f0f921"
             ]
            ],
            "type": "contour"
           }
          ],
          "contourcarpet": [
           {
            "colorbar": {
             "outlinewidth": 0,
             "ticks": ""
            },
            "type": "contourcarpet"
           }
          ],
          "heatmap": [
           {
            "colorbar": {
             "outlinewidth": 0,
             "ticks": ""
            },
            "colorscale": [
             [
              0,
              "#0d0887"
             ],
             [
              0.1111111111111111,
              "#46039f"
             ],
             [
              0.2222222222222222,
              "#7201a8"
             ],
             [
              0.3333333333333333,
              "#9c179e"
             ],
             [
              0.4444444444444444,
              "#bd3786"
             ],
             [
              0.5555555555555556,
              "#d8576b"
             ],
             [
              0.6666666666666666,
              "#ed7953"
             ],
             [
              0.7777777777777778,
              "#fb9f3a"
             ],
             [
              0.8888888888888888,
              "#fdca26"
             ],
             [
              1,
              "#f0f921"
             ]
            ],
            "type": "heatmap"
           }
          ],
          "histogram": [
           {
            "marker": {
             "pattern": {
              "fillmode": "overlay",
              "size": 10,
              "solidity": 0.2
             }
            },
            "type": "histogram"
           }
          ],
          "histogram2d": [
           {
            "colorbar": {
             "outlinewidth": 0,
             "ticks": ""
            },
            "colorscale": [
             [
              0,
              "#0d0887"
             ],
             [
              0.1111111111111111,
              "#46039f"
             ],
             [
              0.2222222222222222,
              "#7201a8"
             ],
             [
              0.3333333333333333,
              "#9c179e"
             ],
             [
              0.4444444444444444,
              "#bd3786"
             ],
             [
              0.5555555555555556,
              "#d8576b"
             ],
             [
              0.6666666666666666,
              "#ed7953"
             ],
             [
              0.7777777777777778,
              "#fb9f3a"
             ],
             [
              0.8888888888888888,
              "#fdca26"
             ],
             [
              1,
              "#f0f921"
             ]
            ],
            "type": "histogram2d"
           }
          ],
          "histogram2dcontour": [
           {
            "colorbar": {
             "outlinewidth": 0,
             "ticks": ""
            },
            "colorscale": [
             [
              0,
              "#0d0887"
             ],
             [
              0.1111111111111111,
              "#46039f"
             ],
             [
              0.2222222222222222,
              "#7201a8"
             ],
             [
              0.3333333333333333,
              "#9c179e"
             ],
             [
              0.4444444444444444,
              "#bd3786"
             ],
             [
              0.5555555555555556,
              "#d8576b"
             ],
             [
              0.6666666666666666,
              "#ed7953"
             ],
             [
              0.7777777777777778,
              "#fb9f3a"
             ],
             [
              0.8888888888888888,
              "#fdca26"
             ],
             [
              1,
              "#f0f921"
             ]
            ],
            "type": "histogram2dcontour"
           }
          ],
          "mesh3d": [
           {
            "colorbar": {
             "outlinewidth": 0,
             "ticks": ""
            },
            "type": "mesh3d"
           }
          ],
          "parcoords": [
           {
            "line": {
             "colorbar": {
              "outlinewidth": 0,
              "ticks": ""
             }
            },
            "type": "parcoords"
           }
          ],
          "pie": [
           {
            "automargin": true,
            "type": "pie"
           }
          ],
          "scatter": [
           {
            "fillpattern": {
             "fillmode": "overlay",
             "size": 10,
             "solidity": 0.2
            },
            "type": "scatter"
           }
          ],
          "scatter3d": [
           {
            "line": {
             "colorbar": {
              "outlinewidth": 0,
              "ticks": ""
             }
            },
            "marker": {
             "colorbar": {
              "outlinewidth": 0,
              "ticks": ""
             }
            },
            "type": "scatter3d"
           }
          ],
          "scattercarpet": [
           {
            "marker": {
             "colorbar": {
              "outlinewidth": 0,
              "ticks": ""
             }
            },
            "type": "scattercarpet"
           }
          ],
          "scattergeo": [
           {
            "marker": {
             "colorbar": {
              "outlinewidth": 0,
              "ticks": ""
             }
            },
            "type": "scattergeo"
           }
          ],
          "scattergl": [
           {
            "marker": {
             "colorbar": {
              "outlinewidth": 0,
              "ticks": ""
             }
            },
            "type": "scattergl"
           }
          ],
          "scattermap": [
           {
            "marker": {
             "colorbar": {
              "outlinewidth": 0,
              "ticks": ""
             }
            },
            "type": "scattermap"
           }
          ],
          "scattermapbox": [
           {
            "marker": {
             "colorbar": {
              "outlinewidth": 0,
              "ticks": ""
             }
            },
            "type": "scattermapbox"
           }
          ],
          "scatterpolar": [
           {
            "marker": {
             "colorbar": {
              "outlinewidth": 0,
              "ticks": ""
             }
            },
            "type": "scatterpolar"
           }
          ],
          "scatterpolargl": [
           {
            "marker": {
             "colorbar": {
              "outlinewidth": 0,
              "ticks": ""
             }
            },
            "type": "scatterpolargl"
           }
          ],
          "scatterternary": [
           {
            "marker": {
             "colorbar": {
              "outlinewidth": 0,
              "ticks": ""
             }
            },
            "type": "scatterternary"
           }
          ],
          "surface": [
           {
            "colorbar": {
             "outlinewidth": 0,
             "ticks": ""
            },
            "colorscale": [
             [
              0,
              "#0d0887"
             ],
             [
              0.1111111111111111,
              "#46039f"
             ],
             [
              0.2222222222222222,
              "#7201a8"
             ],
             [
              0.3333333333333333,
              "#9c179e"
             ],
             [
              0.4444444444444444,
              "#bd3786"
             ],
             [
              0.5555555555555556,
              "#d8576b"
             ],
             [
              0.6666666666666666,
              "#ed7953"
             ],
             [
              0.7777777777777778,
              "#fb9f3a"
             ],
             [
              0.8888888888888888,
              "#fdca26"
             ],
             [
              1,
              "#f0f921"
             ]
            ],
            "type": "surface"
           }
          ],
          "table": [
           {
            "cells": {
             "fill": {
              "color": "#EBF0F8"
             },
             "line": {
              "color": "white"
             }
            },
            "header": {
             "fill": {
              "color": "#C8D4E3"
             },
             "line": {
              "color": "white"
             }
            },
            "type": "table"
           }
          ]
         },
         "layout": {
          "annotationdefaults": {
           "arrowcolor": "#2a3f5f",
           "arrowhead": 0,
           "arrowwidth": 1
          },
          "autotypenumbers": "strict",
          "coloraxis": {
           "colorbar": {
            "outlinewidth": 0,
            "ticks": ""
           }
          },
          "colorscale": {
           "diverging": [
            [
             0,
             "#8e0152"
            ],
            [
             0.1,
             "#c51b7d"
            ],
            [
             0.2,
             "#de77ae"
            ],
            [
             0.3,
             "#f1b6da"
            ],
            [
             0.4,
             "#fde0ef"
            ],
            [
             0.5,
             "#f7f7f7"
            ],
            [
             0.6,
             "#e6f5d0"
            ],
            [
             0.7,
             "#b8e186"
            ],
            [
             0.8,
             "#7fbc41"
            ],
            [
             0.9,
             "#4d9221"
            ],
            [
             1,
             "#276419"
            ]
           ],
           "sequential": [
            [
             0,
             "#0d0887"
            ],
            [
             0.1111111111111111,
             "#46039f"
            ],
            [
             0.2222222222222222,
             "#7201a8"
            ],
            [
             0.3333333333333333,
             "#9c179e"
            ],
            [
             0.4444444444444444,
             "#bd3786"
            ],
            [
             0.5555555555555556,
             "#d8576b"
            ],
            [
             0.6666666666666666,
             "#ed7953"
            ],
            [
             0.7777777777777778,
             "#fb9f3a"
            ],
            [
             0.8888888888888888,
             "#fdca26"
            ],
            [
             1,
             "#f0f921"
            ]
           ],
           "sequentialminus": [
            [
             0,
             "#0d0887"
            ],
            [
             0.1111111111111111,
             "#46039f"
            ],
            [
             0.2222222222222222,
             "#7201a8"
            ],
            [
             0.3333333333333333,
             "#9c179e"
            ],
            [
             0.4444444444444444,
             "#bd3786"
            ],
            [
             0.5555555555555556,
             "#d8576b"
            ],
            [
             0.6666666666666666,
             "#ed7953"
            ],
            [
             0.7777777777777778,
             "#fb9f3a"
            ],
            [
             0.8888888888888888,
             "#fdca26"
            ],
            [
             1,
             "#f0f921"
            ]
           ]
          },
          "colorway": [
           "#636efa",
           "#EF553B",
           "#00cc96",
           "#ab63fa",
           "#FFA15A",
           "#19d3f3",
           "#FF6692",
           "#B6E880",
           "#FF97FF",
           "#FECB52"
          ],
          "font": {
           "color": "#2a3f5f"
          },
          "geo": {
           "bgcolor": "white",
           "lakecolor": "white",
           "landcolor": "#E5ECF6",
           "showlakes": true,
           "showland": true,
           "subunitcolor": "white"
          },
          "hoverlabel": {
           "align": "left"
          },
          "hovermode": "closest",
          "mapbox": {
           "style": "light"
          },
          "paper_bgcolor": "white",
          "plot_bgcolor": "#E5ECF6",
          "polar": {
           "angularaxis": {
            "gridcolor": "white",
            "linecolor": "white",
            "ticks": ""
           },
           "bgcolor": "#E5ECF6",
           "radialaxis": {
            "gridcolor": "white",
            "linecolor": "white",
            "ticks": ""
           }
          },
          "scene": {
           "xaxis": {
            "backgroundcolor": "#E5ECF6",
            "gridcolor": "white",
            "gridwidth": 2,
            "linecolor": "white",
            "showbackground": true,
            "ticks": "",
            "zerolinecolor": "white"
           },
           "yaxis": {
            "backgroundcolor": "#E5ECF6",
            "gridcolor": "white",
            "gridwidth": 2,
            "linecolor": "white",
            "showbackground": true,
            "ticks": "",
            "zerolinecolor": "white"
           },
           "zaxis": {
            "backgroundcolor": "#E5ECF6",
            "gridcolor": "white",
            "gridwidth": 2,
            "linecolor": "white",
            "showbackground": true,
            "ticks": "",
            "zerolinecolor": "white"
           }
          },
          "shapedefaults": {
           "line": {
            "color": "#2a3f5f"
           }
          },
          "ternary": {
           "aaxis": {
            "gridcolor": "white",
            "linecolor": "white",
            "ticks": ""
           },
           "baxis": {
            "gridcolor": "white",
            "linecolor": "white",
            "ticks": ""
           },
           "bgcolor": "#E5ECF6",
           "caxis": {
            "gridcolor": "white",
            "linecolor": "white",
            "ticks": ""
           }
          },
          "title": {
           "x": 0.05
          },
          "xaxis": {
           "automargin": true,
           "gridcolor": "white",
           "linecolor": "white",
           "ticks": "",
           "title": {
            "standoff": 15
           },
           "zerolinecolor": "white",
           "zerolinewidth": 2
          },
          "yaxis": {
           "automargin": true,
           "gridcolor": "white",
           "linecolor": "white",
           "ticks": "",
           "title": {
            "standoff": 15
           },
           "zerolinecolor": "white",
           "zerolinewidth": 2
          }
         }
        },
        "xaxis": {
         "anchor": "y",
         "domain": [
          0,
          1
         ],
         "title": {
          "text": "year"
         }
        },
        "yaxis": {
         "anchor": "x",
         "domain": [
          0,
          1
         ],
         "title": {
          "text": "share_votes_far_left"
         }
        }
       }
      }
     },
     "metadata": {},
     "output_type": "display_data"
    }
   ],
   "source": [
    "only_elections.plot.scatter(x=\"year\", y=\"share_votes_far_left\", color=\"country\")"
   ]
  },
  {
   "cell_type": "code",
   "execution_count": 45,
   "id": "67",
   "metadata": {},
   "outputs": [
    {
     "data": {
      "application/vnd.plotly.v1+json": {
       "config": {
        "plotlyServerURL": "https://plot.ly"
       },
       "data": [
        {
         "hovertemplate": "country=Austria<br>year=%{x}<br>share_votes_far_any=%{y}<extra></extra>",
         "legendgroup": "Austria",
         "marker": {
          "color": "#636efa",
          "symbol": "circle"
         },
         "mode": "markers",
         "name": "Austria",
         "showlegend": true,
         "type": "scattergl",
         "x": {
          "bdata": "vge/B8IHwwfGB8cHygfLB8wHzwfQB9IH1AfVB9YH2AfZB9oH3QfeB98HvwfCB8QHxgfJB8oHywfMB84HzwfSB9MH1AfWB9gH2QfdB94HvwfCB8MHxgfHB8oHywfMB88H0QfSB9QH1QfWB9gH2QfaB90H3gffB78HwAfCB8UHxgfKB8sHzAfPB9IH1AfWB9gH2QfdB94HvQe/B8IHxgfHB8oHywfMB88H0AfSB9QH1QfWB9gH2QfaB90H3gffB78HwQfCB8YHxwfKB8sHzAfNB88H0gfTB9QH1gfYB9kH3QfeB98HvwfAB8IHxQfGB8oHywfMB88H0gfUB9YH2AfZB90H3ge/B8AHwgfFB8YHygfLB8wHzwfSB9MH1AfWB9gH2QfdB94HvwfAB8IHxQfGB8oHywfMB88H0gfUB9YH2AfZB90H3gc=",
          "dtype": "i2"
         },
         "xaxis": "x",
         "y": {
          "bdata": "qk4ZPad7zTzHTWo941ShPc446D3fkcc9GT4sPo/LLj6HNTo+C21LPhNeAT6ITYc9sngsPRS2bD141d49onlgPpxrDz7t7Lc93eFKPoHdOD5y+hk+rp/7PMYuiT2ECNU9cucBPhSX+T2+Yj0+9rszPlUDcT7+VTM+A2ZgPiwWlz0Pblc92ek6PWWTAT4s6T4+GiUiPqQcIT5/LUY+UFBzPWPnij2AIuo9YIMpPn5cbT7HG20+jIdRPrtmiD5gaH4+qRJVPsoBuT0oXZM9tQMpPujpLz5BZYc+xU9EPneBkD77I30+5ak9Pggpoz4V6+o9FKArPqrcXD71l5c+3s+cPrFYqz4UUag+Yh3APlvByT7jKnc+ZLu2PpMpqT5Y/u4+03/aPg1Whj6AV10+D9mCPZfiQT37K6s9/6szPvSlIz6I23M+sn5JPp+rlj6vxpE+wpoJPmME2T0TwZU9kyEBPsToHj7JqaI+pTE8PmrAOD5iTpg+n9d9PrWbnj5MgYQ9HY5oPT0b7j18Ryg+dYI1PoLQaD79MF8+29yRPqAeVj64nYc+zpXePdYovD07EYs9KmAgPlZgkz5g6T4+IsODPhOgVz4/RZ8+u3urPZUVvD2J8Sc+27osPgdIVj561F4+e9yCPlTJoT7nsH0+Xl3kPR2yqj3CJSU+EDmcPltNKj63xFo+RLJCPnshRT0cs4M9vjHyPUCDJT4/XDU+8zBEPmmKiz5ZUa4+j8VzPhKo1z2od7E9UjJvPUYRGD46ElQ+DpMiPnFXLD7+kzY+ZECePRDy6D0cPgE+DVIsPu05Nj5orlQ+VIWNPgy9qj7aFJM+a8MIPjKz6D2mYBY+uI6WPiZkaT5ygmw+3ZNYPg==",
          "dtype": "f4"
         },
         "yaxis": "y"
        },
        {
         "hovertemplate": "country=Germany<br>year=%{x}<br>share_votes_far_any=%{y}<extra></extra>",
         "legendgroup": "Germany",
         "marker": {
          "color": "#EF553B",
          "symbol": "circle"
         },
         "mode": "markers",
         "name": "Germany",
         "showlegend": true,
         "type": "scattergl",
         "x": {
          "bdata": "vAe/B8AHwwfEB8UHxgfIB8oHzAfOB88H0QfSB9QH1QfWB9kH2wfdB94HvAe/B8AHwwfEB8UHxgfIB8oHzAfOB88H0QfSB9QH1QfWB9kH2wfdB94HvAe/B8AHwwfEB8UHxgfIB8oHzAfOB88H0QfSB9QH1QfWB9kH2wfdB94HvAe/B8AHwwfEB8UHxgfIB8oHzAfOB88H0QfSB9QH1QfWB9kH2wfdB94HvAe+B78HwAfCB8MHxQfGB8oHzgfPB9IH0wfUB9UH2AfZB90HvAe+B78HwAfCB8MHxQfGB8oHzgfPB9IH0wfUB9UH2AfZB90HvAe+B78HwAfCB8MHxQfGB8oHzgfPB9IH0wfUB9UH2AfZB90HvAe+B78HwAfCB8MHxQfGB8oHzgfPB9IH0wfUB9UH2AfZB90HvAe+B78HwAfCB8MHxQfGB8oHzgfPB9IH0wfUB9UH2AfZB90HvAe+B78HwAfCB8MHxQfGB8oHzgfPB9IH0wfUB9UH2AfZB90HvAe+B78HwAfCB8MHxQfGB8oHzgfPB9IH0wfUB9UH2AfZB90HxgfKB8sHzgfPB9EH0gfUB9UH1gfZB9sH3QfeB8YHygfOB88H0gfUB9UH2QfdB94HvAe/B8AHwwfFB8YHxwfKB8sHzgfPB9IH0wfUB9UH1wfZB9sH3QfeB98HvAe/B8AHwwfFB8YHygfOB88H0QfSB9QH1QfYB9kH2wfdB94H3we8B74HvwfAB8MHxQfGB8cHygfLB84HzwfSB9MH1AfVB9gH2QfdB94HvAe+B78HwAfDB8UHxgfHB8oHywfOB88H0gfTB9QH1QfYB9kH3QfeB7wHvge/B8AHwwfFB8YHxwfKB8sHzgfPB9IH0wfUB9UH2AfZB90H3gfGB8oHzgfPB9IH1AfVB9YH2QfbB90H3ge8B74HvwfAB8IHwwfFB8YHygfOB88H0gfTB9QH1QfYB9kH3QfeB7wHvge/B8AHwgfDB8UHxgfKB84HzwfSB9MH1AfVB9gH2QfdB94HvAe+B78HwAfCB8MHxQfGB8oHzgfPB9IH0wfUB9UH2AfZB90H3ge8B74HvwfAB8IHwwfFB8YHygfOB88H0gfTB9QH1QfYB9kH3QfeB7wHvwfAB8MHxQfGB8cHygfLB84HzwfQB9IH1AfVB9kH2gfcB90H3ge8B78HwAfDB8UHxgfHB8oHywfOB88H0AfSB9QH1QfZB9oH3AfdB94HvAe/B8AHwwfFB8YHxwfKB8sHzgfPB9AH0gfUB9UH2QfaB9wH3QfeB7wHvwfAB8MHxQfGB8cHygfLB84HzwfQB9IH1AfVB9kH2gfcB90H3ge8B78HwAfDB8UHxgfHB8oHywfOB88H0AfSB9QH1QfZB9oH3AfdB94HvAe/B8AHwwfFB8YHxwfKB8wHzgfPB9EH0gfUB9UH1gfZB9sH3QfeB7wHvwfAB8MHxQfGB8cHygfMB84HzwfRB9IH1AfVB9YH2QfbB90H3ge8B78HwAfDB8UHxgfHB8oHzAfOB88H0QfSB9QH1QfWB9kH2wfdB94HvAe/B8AHwQfDB8UHxgfKB84HzwfSB9QH1QfZB9wH3QfeB8YHygfOB88H0gfUB9UH2QfdB94HxgfKB84HzwfSB9QH1QfZB90H3gfGB8oHzgfPB9IH1AfVB9kH3QfeB8YHygfOB88H0gfUB9UH1gfZB9sH3QfeB7wHvwfAB8MHxQfGB8oHzAfOB88H0gfUB9UH2QfcB90H3gfGB8oHzgfPB9IH1AfVB9kH3QfeBw==",
          "dtype": "i2"
         },
         "xaxis": "x",
         "y": {
          "bdata": "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",
          "dtype": "f4"
         },
         "yaxis": "y"
        },
        {
         "hovertemplate": "country=Spain<br>year=%{x}<br>share_votes_far_any=%{y}<extra></extra>",
         "legendgroup": "Spain",
         "marker": {
          "color": "#00cc96",
          "symbol": "circle"
         },
         "mode": "markers",
         "name": "Spain",
         "showlegend": true,
         "type": "scattergl",
         "x": {
          "bdata": "vQe+B8EHwgfDB8UHyQfKB8wHzQfPB9AH0QfUB9UH2AfZB9sH3AfeB98Hvge/B8IHwwfFB8cHyQfKB8sHzAfPB9AH0wfUB9cH2AfZB9sH3AfeB98Hvge/B8IHwwfFB8cHyQfKB8sHzAfPB9AH0wfUB9cH2AfZB9sH3gffB7wHvgfAB8IHwwfFB8YHyQfKB8wHzgfPB9AH0QfUB9UH2AfZB9sH3AfeB98Hvge/B8IHwwfFB8cHyQfKB8sHzAfPB9AH0wfUB9cH2AfZB9sH3gffB74HvwfCB8MHxQfHB8kHygfLB8wHzwfQB9MH1AfXB9gH2QfbB94H3we+B78HwgfDB8UHxwfJB8oHywfMB88H0AfTB9QH1wfYB9kH2wfeB98Hvge/B8IHwwfFB8cHyQfKB8sHzAfPB9AH0wfUB9cH2AfZB9sH3gffB74HvwfCB8MHxQfHB8kHygfLB8wHzwfQB9MH1AfXB9gH2QfbB94H3we+B78HwgfDB8UHxwfJB8oHywfMB88H0AfTB9QH1wfYB9kH2wfeB98Hvge/B8IHwwfFB8cHyQfKB8sHzAfPB9AH0wfUB9cH2AfZB9sH3gffB7wHvgfAB8IHwwfEB8UHyAfJB8oHywfMB88H0AfTB9QH1gfYB9kH2gfbB9wH3gffB74HvwfCB8MHxQfHB8kHygfLB8wHzwfQB9MH1AfXB9gH2QfbB94H3we+B78HwgfDB8UHxwfJB8oHywfMB88H0AfTB9QH1wfYB9kH2wfeB98HvgfCB8MHxQfGB8kHygfMB88H0AfUB9gH2QfbB9wH3gffB74HvwfCB8MHxQfHB8kHygfLB8wHzwfQB9MH1AfXB9gH2QfbB94H3we+B78HwgfDB8UHxwfJB8oHywfMB88H0AfTB9QH1wfYB9kH2wfeB98H",
          "dtype": "i2"
         },
         "xaxis": "x",
         "y": {
          "bdata": "iPYfPhlwVj0v7gE+VJS9PdOQ2D3Fzf89S9IvPqf/Lz6GSS0+XleGPuTkdj5GrFE+A+J3Ph90Dj4ncE0+D9sGPnZjGj7RACA+i4+CPl8flT7eIZg+Tv/KPTjLCT70vvs9CM0MPhc5Kj55YB0+/nYjPnMrTz6w6ys+RzkkPr4Dzz32qdk9PKzrPVEAoj32aNU98V6ZPadEjj1k6Po9QzMTPpL/lT7pfKA+7bpBPaEZUj3YRIY9WPaCPYHMqD2O1Ew9xAKiPdFhBz5VXJ49bLT4PWRhUD2bdXI9UZsaPYY0Cz0Z4bk8mETQPCCs/jweSSE9nlJdPo7BND7eFTY/FE0SPw5eLD+Osw4/TuMDP5tWCD9slBA/lZLrPpY8Cj+9z/c+lB0EP4UIFj+MpL4+vcUVPxSt4j6n8hc/5jy0PvJW7D7/PQ8//jMgP17pJz98KDE/QmJdPlArhz51W18+ab5ePirCZz6p110+MMBSPj14gj68t1s+hCxkPuTFgT5EENs9oIRMPm6DTD5EEpI+UGtkPm2xOD7ESbE+OonoPoHg8T6+BgU9PgKzPAlgIz3aCTE9mm6hPeF/PD3qL5E9QM/uPWZWlj3Zj7w9RqMwPWOVMD2xBuM8J/TvPCYp/zxBKbA8cpTnPIInNT0WVD4+nhs6PotJNz1nwWw9LFd0PfY0hT2wcNk9SyiUPb/9zT36ZRM+ddrAPQxnwj0UVys96x8XPSOIBz1IOwU9PAEyPUwp/DwpRUE9S7YDPbrMaT4O+oE+KRibPcChwT0KGMY92PzOPdxQHj5hfAM+/7QbPhxwTz7ngCk+doovPv9gsT2yBdo9PP60PeJthD1AqMU9YmxPPcxedD1hPr49yvqKPhtvhT5F6Q89My7PPCQhVT02/VE9K0+fPcprZD0R/KA9HGjwPTTeyj2g2sk9jkJxPby7Qz0pPyM9BKcBPcJfDT08qeM8gUwFPWThaT2Q5VE+sa1DPrmWgD3+uY49Aqh8PfL8hz1uxaQ9MFiAPegcnT36t+A9E0qePT2Jtj007yc9hc9HPXTECz0nmg49mRgSPRKgAT0dBBc9xoxIPWqiNT7MOSE+8qSyPdD4kj0EGKI9xrOEPdzaqj2enps9tNG2PWSR5T0bbt09CCy9PcbFgD1s4WY9sS+CPbUgGD1620A9QHANPZ+O+TymNHA9z9QDPja5Ej7Yid0+UFanPUntET75epA98V+yPQvUrz3gxb4949yhPcARoj0khvY9XpHLPY9noT02HoI9Snt+PUZDnT2Atoo9asPNPWnlVz3eu6Y9qFDTPbeesz1J4hw+10YoPvtovD04l5w9aDi2PRTflz1M3M89dR/JPfitpD3BtN89VHkVPoUq9T23w+o9G92CPfD7hT0Z5Y09GfE8PW2XwT0xVgU9J4oYPQg3lD0EcGI+uMByPppdZT1/w8c9MRqBPX0fnz2NSr09pFvdPTma4T19Wys+VOdCPuKyCz6XFCE+Dy3RPUOLCz6ZP6Q9CNfUPa6K/zzFdpI90Vn6PZ9IZj5Oh6Q+UGq/PZikFj5QeA4+ISUAPrJwDD6K9wE+tBVBPpkoET4mSO499IKzPcqeiz32SIE9Gg11PR3Vrj0Gf+89FqNZPrqIaz5sM0s9XI+QPZDrgz3bDp49fZLDPccR0z2c9Mk98lELPi0wAT53pOM9/7GfPeTGjz3+mm89aHwnPVNrhz3UxwA9aSETPf4WuD0l61k+A0NEPsmuNz3ej/s951bwPRsx7T3vKe498j0JPpwhWD2e77o9Ivp2Pe1scz3Z1v4869nOPOlcgDz0WrY8A3QXPJOGaTzrNdE8k/7mPBf1cz4z02Q+",
          "dtype": "f4"
         },
         "yaxis": "y"
        },
        {
         "hovertemplate": "country=Finland<br>year=%{x}<br>share_votes_far_any=%{y}<extra></extra>",
         "legendgroup": "Finland",
         "marker": {
          "color": "#ab63fa",
          "symbol": "circle"
         },
         "mode": "markers",
         "name": "Finland",
         "showlegend": true,
         "type": "scattergl",
         "x": {
          "bdata": "vAe/B8AHwwfEB8cHyAfLB8wHzwfQB9MH1AfXB9gH2QfbB9wH3gffB7wHvwfAB8MHxAfHB8gHywfMB88H0AfTB9QH1wfYB9kH2wfcB94H3we8B78HwAfDB8QHxwfIB8sHzAfPB9AH0wfUB9cH2AfZB9sH3AfeB98HvAe/B8AHwwfEB8cHyAfLB8wHzwfQB9MH1AfXB9gH2QfbB9wH3gffBw==",
          "dtype": "i2"
         },
         "xaxis": "x",
         "y": {
          "bdata": "77lMPof3dj6WhEU+PAQwPnJZLz5WXj8+pvIdPjzFGT7tIAQ+fNIRPnr3+z2ARQU+4zHsPcqvDj5rTRg+TFsqPqgvjj7y/lM+nElkPkzcgj5X5ys+FaZGPoZDBD7GV+E95oTwPVoq4D3u9Mg9ivYdPiIc3j0X1ds9ARKtPSh/8z3PDcA9Zg//PbIIEz5AUBA+FJd3PiDOQz6QhVI+iBJjPnm/Lz5kBWs+1NwvPowlED4Pyxg+vGoIPjHM9T1OZQw+lNzYPVlQ1T1JOb89A2vgPQ6IzD3xwQY+BI8FPpeKND5O4ZA+8KpSPoandz4iK40+51l4PhAWhD4wk3A+gB9NPpxuVD6gPi8+q9ZFPujRND7mBxI+QCQhPqsJED4Q0RI+dQEFPozeIT6lnyo+Cvo2PrQaoD4C8W0+EwmAPtZChz4=",
          "dtype": "f4"
         },
         "yaxis": "y"
        },
        {
         "hovertemplate": "country=France<br>year=%{x}<br>share_votes_far_any=%{y}<extra></extra>",
         "legendgroup": "France",
         "marker": {
          "color": "#FFA15A",
          "symbol": "circle"
         },
         "mode": "markers",
         "name": "France",
         "showlegend": true,
         "type": "scattergl",
         "x": {
          "bdata": "vQfAB8IHxAfFB8gHyQfKB80HzgfPB9IH1AfXB9kH2gfcB94H3we9B8AHwgfEB8UHyAfJB8oHzQfOB88H0gfUB9cH2QfaB9wH3ge9B8AHwgfEB8UHyAfJB8oHzQfOB88H0gfUB9cH2QfaB9wH3ge9B8AHwgfEB8UHyAfJB8oHzQfOB88H0gfUB9cH2QfaB9wH3ge9B8AHwgfEB8UHyAfJB8oHzQfOB88H0gfUB9cH2QfaB9wH3ge9B8AHwgfEB8UHyAfJB8oHzQfOB88H0gfUB9cH2QfaB9wH3ge9B8AHwgfEB8UHyAfJB8oHzQfOB88H0gfUB9cH2QfaB9wH3ge9B8AHwgfEB8UHyAfJB8oHzQfOB88H0gfUB9cH2QfaB9wH3ge9B8AHwgfEB8UHyAfJB8oHzQfOB88H0gfUB9cH2QfaB9wH3ge9B8AHwgfEB8UHyAfJB8oHzQfOB88H0gfUB9cH2QfaB9wH3ge9B8AHwgfEB8UHyAfJB8oHzQfOB88H0gfUB9cH2QfaB9wH3ge9B8AHwgfEB8UHyAfJB8oHzQfOB88H0gfUB9cH2QfaB9wH3gffB70HwAfCB8QHxQfIB8kHygfNB84HzwfSB9QH1wfZB9oH3AfeB98HvQfAB8IHxAfFB8gHyQfKB80HzgfPB9IH1AfXB9kH2gfcB94HvQfAB8IHxAfFB8gHyQfKB80HzgfPB9IH1AfXB9kH2gfcB94HvQfAB8IHxAfFB8gHyQfKB80HzgfPB9IH1AfXB9kH2gfcB94HvQfAB8IHxAfFB8gHyQfKB80HzgfPB9IH1AfXB9kH2gfcB94HvQfAB8IHxAfFB8gHyQfKB80HzgfPB9IH1AfXB9kH2gfcB94HvQfAB8IHxAfFB8gHyQfKB80HzgfPB9IH1AfXB9kH2gfcB94HvQfAB8IHxAfFB8gHyQfKB80HzgfPB9IH1AfXB9kH2gfcB94HvQfAB8IHxAfFB8gHyQfKB80HzgfPB9IH1AfXB9kH2gfcB94H3we9B8AHwgfEB8UHyAfJB8oHzQfOB88H0gfUB9cH2QfaB9wH3gffBw==",
          "dtype": "i2"
         },
         "xaxis": "x",
         "y": {
          "bdata": "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",
          "dtype": "f4"
         },
         "yaxis": "y"
        },
        {
         "hovertemplate": "country=Italy<br>year=%{x}<br>share_votes_far_any=%{y}<extra></extra>",
         "legendgroup": "Italy",
         "marker": {
          "color": "#19d3f3",
          "symbol": "circle"
         },
         "mode": "markers",
         "name": "Italy",
         "showlegend": true,
         "type": "scattergl",
         "x": {
          "bdata": "vAe/B8AHwQfDB8UHxgfIB8oHywfMB88H0AfRB9QH1QfWB9gH2QfaB90H3ge/B8AHwwfEB8UHyAfJB8oHzAfOB88H0QfTB9QH1gfYB9kH3QfeB7wHvwfAB8EHwwfFB8YHyAfKB8sHzAfPB9AH0QfUB9UH1gfYB9kH2gfdB94H3we8B78HwAfBB8MHxQfGB8gHygfLB8wHzwfQB9EH1AfVB9YH2AfZB9oH3QfeB7wHvwfAB8EHwwfFB8YHyAfKB8sHzAfPB9AH0QfUB9UH1gfYB9kH3QfeB7wHvwfAB8EHwwfFB8YHyAfKB8sHzAfPB9AH0QfUB9YH2AfZB9sH3QfeB7wHvwfAB8EHwwfFB8YHyAfKB8sHzAfPB9AH0QfUB9UH1gfYB9kH2gfdB94H3we8B78HwAfBB8MHxQfGB8gHygfLB8wHzwfQB9EH1AfVB9YH2AfZB9oH3QfeB98HvAe/B8AHwQfDB8UHxgfIB8oHywfMB88H0AfRB9QH1QfWB9gH2QfaB90H3ge8B78HwAfBB8MHxQfGB8gHygfLB8wHzwfQB9EH1AfVB9YH2AfZB9oH3QfeB70HvwfAB8IHwwfFB8cHyAfKB8wHzwfRB9QH1gfYB9kH3AfdB94HvwfAB8MHxQfIB8oHzAfPB9EH1AfWB9gH2QfdB94HvwfAB8MHxAfFB8gHyQfKB8wHzgfPB9EH0wfUB9YH2AfZB90H3ge/B8AHwwfEB8UHyAfJB8oHzAfOB88H0QfTB9QH1gfYB9kH3QfeB7wHvwfAB8EHwwfFB8YHyAfKB8sHzAfPB9AH0QfUB9UH1gfYB9kH2gfdB94H3we/B8AHwwfEB8UHyAfJB8oHzAfOB88H0QfTB9QH1gfYB9kH3QfeB7wHvwfAB8EHwwfFB8YHyAfKB8sHzAfPB9AH0QfUB9UH1gfYB9kH2gfdB94HvAe/B8AHwQfDB8UHxgfIB8oHywfMB88H0AfRB9QH1QfWB9gH2QfaB90H3gffB7wHvwfAB8EHwwfFB8YHyAfKB8sHzAfPB9AH0QfUB9UH1gfYB9kH2gfdB94H3we8B78HwAfBB8MHxQfGB8gHygfLB8wHzwfQB9EH1AfVB9YH2AfZB9oH3QfeB98HvAe/B8AHwQfDB8UHxgfIB8oHywfMB88H0AfRB9QH1QfWB9gH2QfaB90H3gc=",
          "dtype": "i2"
         },
         "xaxis": "x",
         "y": {
          "bdata": "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",
          "dtype": "f4"
         },
         "yaxis": "y"
        },
        {
         "hovertemplate": "country=Portugal<br>year=%{x}<br>share_votes_far_any=%{y}<extra></extra>",
         "legendgroup": "Portugal",
         "marker": {
          "color": "#FF6692",
          "symbol": "circle"
         },
         "mode": "markers",
         "name": "Portugal",
         "showlegend": true,
         "type": "scattergl",
         "x": {
          "bdata": "vAe+B78HwQfDB8UHxwfJB8oHywfNB88H0QfSB9QH1QfZB9sH3QfeB98HvAe+B78HwQfDB8UHxwfJB8oHywfNB88H0QfSB9QH1QfZB9sH3QfeB98HvAe+B78HwQfDB8UHxwfJB8oHywfNB88H0QfSB9QH1QfZB9sH3QfeB98HvAe+B78HwQfDB8UHxwfJB8oHywfNB88H0QfSB9QH1QfZB9sH3QfeB98HvAe+B78HwQfDB8UHxwfJB8oHywfNB88H0QfSB9QH1QfZB9sH3QfeB98HvAe+B78HwQfDB8UHxwfJB8oHywfNB88H0QfSB9QH1QfZB9sH3QfeB98HvAe+B78HwQfDB8UHxwfJB8oHywfNB88H0QfSB9QH1QfZB9sH3QfeB98H",
          "dtype": "i2"
         },
         "xaxis": "x",
         "y": {
          "bdata": "PFccPv8r+z0l3Q8+y8foPX532D2OQsY9nOaNPVXpcD1SaJQ9e9dzPbzicj2ZO6g96A12PVypjD00Rfw9Al/IPW9SAz6wzfg9RC2ePethOT4rtTg+q5ODPtyrZT7aOXU+SZFKPmIPHz6dTjU+HkTMPaBWID7MVgk+CgHPPbi+Fj4iqQA+urPqPRfe2T37GTM+Jp4RPhjNWz5Mb1I+waM3PvPllj4nN4s+7BEWPjD/7D3rjAY+gHfmPRKGwT0IjcM9WLiBPTGHiD1GB5c9swFuPX1Llj23IKY9zk6QPe3kjz1+lwA+JFXOPeWLEz442gI+BdrAPSelQz6T5zk+6lGuPjDryj5/5K4+Qg2wPtxygz5w3pQ+oSNGPrlQhT7C2II+WZE5PiKyij5pnGc+zDR3PkhFOj6ZnYg+O+iMPk3DlT4UmV8+WE6oPvpuoz6o9Ik+ExvjPu3w8z7XCuE+ZRLYPowNsD6bD9E+seGJPpnBwT59Q7Y+li6APo1vwj5pwIY+cdmzPkJpZj43HZs+1deYPgW+sj7RyI4+l/aoPjBowD7fZKM+cR2BPZ5IJj3yr109tJ+FPQqeZD0yhTY9pwb+PM1Jwjxyov48goLxPOI7Jz1SkBA9NREHPbasEj27ml89EL9KPUjvlz35vbM9jogNPYsR/T12Afc98UO6PbPkqD1W/Jw99WjZPbYdmT2IHOU9wJWKPa1efT1Bn1g9261FPT6foD3vAls90U2oPfGPhD2Dpfw97g6/PY5QET50Mh4+sAqKPXTSdj7Y5T4+",
          "dtype": "f4"
         },
         "yaxis": "y"
        },
        {
         "hovertemplate": "country=Sweden<br>year=%{x}<br>share_votes_far_any=%{y}<extra></extra>",
         "legendgroup": "Sweden",
         "marker": {
          "color": "#B6E880",
          "symbol": "circle"
         },
         "mode": "markers",
         "name": "Sweden",
         "showlegend": true,
         "type": "scattergl",
         "x": {
          "bdata": "vgfBB8QHxwfKB8sHzgfPB9IH1AfWB9kH2gfeB74HwQfEB8cHygfLB84HzwfSB9QH1gfZB9oH3ge+B8EHxAfHB8oHywfOB88H0gfUB9YH2QfaB94HvgfBB8QHxwfKB8sHzgfPB9IH1AfWB9kH2gfeB74HwQfEB8cHygfLB84HzwfSB9QH1gfZB9oH2wfeB74HwQfEB8cHygfLB84HzwfSB9QH1gfZB9oH3ge+B8EHxAfHB8oHywfOB88H0gfUB9YH2QfaB94HvgfBB8QHxwfKB8sHzgfPB9IH1AfWB9kH2gfeBw==",
          "dtype": "i2"
         },
         "xaxis": "x",
         "y": {
          "bdata": "HzGnPa+RnD1pqqI9Us7TPb8UqT34L+Q9lPzzPUmoAj4DJdY9pkvsPYBdqD2aPYs96NPBPezaDD4PBUs9FxdIPUbKXT1s/aw9p12UPbCLAD6VL/c98AgWPky0vz1hBPE96qyrPXLErj1bNdk9x1MxPgGzFD1tfRo97p0rPWWClj3Vu349CoHzPWHFzD1scQY+cGqbPTmO4z2MDKM9HibFPfNl0j3gkDE+WFMDPZumAT2etgo9IPqKPVBdWD0cRag9bZixPaQ11z1tSr493yX3PTAH1j1qSt09W8MLPladVD7/yD89STY5PWI5Qz0BwLI9MI6VPVKvAj5sKfY9uCEoPp5L0j2YUg8+Utu5PX6Rsj0OOeA9pZD4PRu3NT5vsFk9FdxfPRMBdz3grbc92VepPXfjFj6HWRc+cUBUPjMLzz2MZxo+pqDHPXJF4D0Hm+89dtNBPsfkRj3KKko9gq5ePSuXmz1CIoo9wV05PhuBDz437Fc+2OTYPR9hJj6Ylrk9NS+5PTRWyT1ItR8+FVGgPeKloj0hXaE9MhC7PeQasj0luoM+YU03PuCnuj5GWgg+Iii1PjGm6T06Aug9+z0DPmRpMz4=",
          "dtype": "f4"
         },
         "yaxis": "y"
        }
       ],
       "layout": {
        "legend": {
         "title": {
          "text": "country"
         },
         "tracegroupgap": 0
        },
        "margin": {
         "t": 60
        },
        "template": {
         "data": {
          "bar": [
           {
            "error_x": {
             "color": "#2a3f5f"
            },
            "error_y": {
             "color": "#2a3f5f"
            },
            "marker": {
             "line": {
              "color": "#E5ECF6",
              "width": 0.5
             },
             "pattern": {
              "fillmode": "overlay",
              "size": 10,
              "solidity": 0.2
             }
            },
            "type": "bar"
           }
          ],
          "barpolar": [
           {
            "marker": {
             "line": {
              "color": "#E5ECF6",
              "width": 0.5
             },
             "pattern": {
              "fillmode": "overlay",
              "size": 10,
              "solidity": 0.2
             }
            },
            "type": "barpolar"
           }
          ],
          "carpet": [
           {
            "aaxis": {
             "endlinecolor": "#2a3f5f",
             "gridcolor": "white",
             "linecolor": "white",
             "minorgridcolor": "white",
             "startlinecolor": "#2a3f5f"
            },
            "baxis": {
             "endlinecolor": "#2a3f5f",
             "gridcolor": "white",
             "linecolor": "white",
             "minorgridcolor": "white",
             "startlinecolor": "#2a3f5f"
            },
            "type": "carpet"
           }
          ],
          "choropleth": [
           {
            "colorbar": {
             "outlinewidth": 0,
             "ticks": ""
            },
            "type": "choropleth"
           }
          ],
          "contour": [
           {
            "colorbar": {
             "outlinewidth": 0,
             "ticks": ""
            },
            "colorscale": [
             [
              0,
              "#0d0887"
             ],
             [
              0.1111111111111111,
              "#46039f"
             ],
             [
              0.2222222222222222,
              "#7201a8"
             ],
             [
              0.3333333333333333,
              "#9c179e"
             ],
             [
              0.4444444444444444,
              "#bd3786"
             ],
             [
              0.5555555555555556,
              "#d8576b"
             ],
             [
              0.6666666666666666,
              "#ed7953"
             ],
             [
              0.7777777777777778,
              "#fb9f3a"
             ],
             [
              0.8888888888888888,
              "#fdca26"
             ],
             [
              1,
              "#f0f921"
             ]
            ],
            "type": "contour"
           }
          ],
          "contourcarpet": [
           {
            "colorbar": {
             "outlinewidth": 0,
             "ticks": ""
            },
            "type": "contourcarpet"
           }
          ],
          "heatmap": [
           {
            "colorbar": {
             "outlinewidth": 0,
             "ticks": ""
            },
            "colorscale": [
             [
              0,
              "#0d0887"
             ],
             [
              0.1111111111111111,
              "#46039f"
             ],
             [
              0.2222222222222222,
              "#7201a8"
             ],
             [
              0.3333333333333333,
              "#9c179e"
             ],
             [
              0.4444444444444444,
              "#bd3786"
             ],
             [
              0.5555555555555556,
              "#d8576b"
             ],
             [
              0.6666666666666666,
              "#ed7953"
             ],
             [
              0.7777777777777778,
              "#fb9f3a"
             ],
             [
              0.8888888888888888,
              "#fdca26"
             ],
             [
              1,
              "#f0f921"
             ]
            ],
            "type": "heatmap"
           }
          ],
          "histogram": [
           {
            "marker": {
             "pattern": {
              "fillmode": "overlay",
              "size": 10,
              "solidity": 0.2
             }
            },
            "type": "histogram"
           }
          ],
          "histogram2d": [
           {
            "colorbar": {
             "outlinewidth": 0,
             "ticks": ""
            },
            "colorscale": [
             [
              0,
              "#0d0887"
             ],
             [
              0.1111111111111111,
              "#46039f"
             ],
             [
              0.2222222222222222,
              "#7201a8"
             ],
             [
              0.3333333333333333,
              "#9c179e"
             ],
             [
              0.4444444444444444,
              "#bd3786"
             ],
             [
              0.5555555555555556,
              "#d8576b"
             ],
             [
              0.6666666666666666,
              "#ed7953"
             ],
             [
              0.7777777777777778,
              "#fb9f3a"
             ],
             [
              0.8888888888888888,
              "#fdca26"
             ],
             [
              1,
              "#f0f921"
             ]
            ],
            "type": "histogram2d"
           }
          ],
          "histogram2dcontour": [
           {
            "colorbar": {
             "outlinewidth": 0,
             "ticks": ""
            },
            "colorscale": [
             [
              0,
              "#0d0887"
             ],
             [
              0.1111111111111111,
              "#46039f"
             ],
             [
              0.2222222222222222,
              "#7201a8"
             ],
             [
              0.3333333333333333,
              "#9c179e"
             ],
             [
              0.4444444444444444,
              "#bd3786"
             ],
             [
              0.5555555555555556,
              "#d8576b"
             ],
             [
              0.6666666666666666,
              "#ed7953"
             ],
             [
              0.7777777777777778,
              "#fb9f3a"
             ],
             [
              0.8888888888888888,
              "#fdca26"
             ],
             [
              1,
              "#f0f921"
             ]
            ],
            "type": "histogram2dcontour"
           }
          ],
          "mesh3d": [
           {
            "colorbar": {
             "outlinewidth": 0,
             "ticks": ""
            },
            "type": "mesh3d"
           }
          ],
          "parcoords": [
           {
            "line": {
             "colorbar": {
              "outlinewidth": 0,
              "ticks": ""
             }
            },
            "type": "parcoords"
           }
          ],
          "pie": [
           {
            "automargin": true,
            "type": "pie"
           }
          ],
          "scatter": [
           {
            "fillpattern": {
             "fillmode": "overlay",
             "size": 10,
             "solidity": 0.2
            },
            "type": "scatter"
           }
          ],
          "scatter3d": [
           {
            "line": {
             "colorbar": {
              "outlinewidth": 0,
              "ticks": ""
             }
            },
            "marker": {
             "colorbar": {
              "outlinewidth": 0,
              "ticks": ""
             }
            },
            "type": "scatter3d"
           }
          ],
          "scattercarpet": [
           {
            "marker": {
             "colorbar": {
              "outlinewidth": 0,
              "ticks": ""
             }
            },
            "type": "scattercarpet"
           }
          ],
          "scattergeo": [
           {
            "marker": {
             "colorbar": {
              "outlinewidth": 0,
              "ticks": ""
             }
            },
            "type": "scattergeo"
           }
          ],
          "scattergl": [
           {
            "marker": {
             "colorbar": {
              "outlinewidth": 0,
              "ticks": ""
             }
            },
            "type": "scattergl"
           }
          ],
          "scattermap": [
           {
            "marker": {
             "colorbar": {
              "outlinewidth": 0,
              "ticks": ""
             }
            },
            "type": "scattermap"
           }
          ],
          "scattermapbox": [
           {
            "marker": {
             "colorbar": {
              "outlinewidth": 0,
              "ticks": ""
             }
            },
            "type": "scattermapbox"
           }
          ],
          "scatterpolar": [
           {
            "marker": {
             "colorbar": {
              "outlinewidth": 0,
              "ticks": ""
             }
            },
            "type": "scatterpolar"
           }
          ],
          "scatterpolargl": [
           {
            "marker": {
             "colorbar": {
              "outlinewidth": 0,
              "ticks": ""
             }
            },
            "type": "scatterpolargl"
           }
          ],
          "scatterternary": [
           {
            "marker": {
             "colorbar": {
              "outlinewidth": 0,
              "ticks": ""
             }
            },
            "type": "scatterternary"
           }
          ],
          "surface": [
           {
            "colorbar": {
             "outlinewidth": 0,
             "ticks": ""
            },
            "colorscale": [
             [
              0,
              "#0d0887"
             ],
             [
              0.1111111111111111,
              "#46039f"
             ],
             [
              0.2222222222222222,
              "#7201a8"
             ],
             [
              0.3333333333333333,
              "#9c179e"
             ],
             [
              0.4444444444444444,
              "#bd3786"
             ],
             [
              0.5555555555555556,
              "#d8576b"
             ],
             [
              0.6666666666666666,
              "#ed7953"
             ],
             [
              0.7777777777777778,
              "#fb9f3a"
             ],
             [
              0.8888888888888888,
              "#fdca26"
             ],
             [
              1,
              "#f0f921"
             ]
            ],
            "type": "surface"
           }
          ],
          "table": [
           {
            "cells": {
             "fill": {
              "color": "#EBF0F8"
             },
             "line": {
              "color": "white"
             }
            },
            "header": {
             "fill": {
              "color": "#C8D4E3"
             },
             "line": {
              "color": "white"
             }
            },
            "type": "table"
           }
          ]
         },
         "layout": {
          "annotationdefaults": {
           "arrowcolor": "#2a3f5f",
           "arrowhead": 0,
           "arrowwidth": 1
          },
          "autotypenumbers": "strict",
          "coloraxis": {
           "colorbar": {
            "outlinewidth": 0,
            "ticks": ""
           }
          },
          "colorscale": {
           "diverging": [
            [
             0,
             "#8e0152"
            ],
            [
             0.1,
             "#c51b7d"
            ],
            [
             0.2,
             "#de77ae"
            ],
            [
             0.3,
             "#f1b6da"
            ],
            [
             0.4,
             "#fde0ef"
            ],
            [
             0.5,
             "#f7f7f7"
            ],
            [
             0.6,
             "#e6f5d0"
            ],
            [
             0.7,
             "#b8e186"
            ],
            [
             0.8,
             "#7fbc41"
            ],
            [
             0.9,
             "#4d9221"
            ],
            [
             1,
             "#276419"
            ]
           ],
           "sequential": [
            [
             0,
             "#0d0887"
            ],
            [
             0.1111111111111111,
             "#46039f"
            ],
            [
             0.2222222222222222,
             "#7201a8"
            ],
            [
             0.3333333333333333,
             "#9c179e"
            ],
            [
             0.4444444444444444,
             "#bd3786"
            ],
            [
             0.5555555555555556,
             "#d8576b"
            ],
            [
             0.6666666666666666,
             "#ed7953"
            ],
            [
             0.7777777777777778,
             "#fb9f3a"
            ],
            [
             0.8888888888888888,
             "#fdca26"
            ],
            [
             1,
             "#f0f921"
            ]
           ],
           "sequentialminus": [
            [
             0,
             "#0d0887"
            ],
            [
             0.1111111111111111,
             "#46039f"
            ],
            [
             0.2222222222222222,
             "#7201a8"
            ],
            [
             0.3333333333333333,
             "#9c179e"
            ],
            [
             0.4444444444444444,
             "#bd3786"
            ],
            [
             0.5555555555555556,
             "#d8576b"
            ],
            [
             0.6666666666666666,
             "#ed7953"
            ],
            [
             0.7777777777777778,
             "#fb9f3a"
            ],
            [
             0.8888888888888888,
             "#fdca26"
            ],
            [
             1,
             "#f0f921"
            ]
           ]
          },
          "colorway": [
           "#636efa",
           "#EF553B",
           "#00cc96",
           "#ab63fa",
           "#FFA15A",
           "#19d3f3",
           "#FF6692",
           "#B6E880",
           "#FF97FF",
           "#FECB52"
          ],
          "font": {
           "color": "#2a3f5f"
          },
          "geo": {
           "bgcolor": "white",
           "lakecolor": "white",
           "landcolor": "#E5ECF6",
           "showlakes": true,
           "showland": true,
           "subunitcolor": "white"
          },
          "hoverlabel": {
           "align": "left"
          },
          "hovermode": "closest",
          "mapbox": {
           "style": "light"
          },
          "paper_bgcolor": "white",
          "plot_bgcolor": "#E5ECF6",
          "polar": {
           "angularaxis": {
            "gridcolor": "white",
            "linecolor": "white",
            "ticks": ""
           },
           "bgcolor": "#E5ECF6",
           "radialaxis": {
            "gridcolor": "white",
            "linecolor": "white",
            "ticks": ""
           }
          },
          "scene": {
           "xaxis": {
            "backgroundcolor": "#E5ECF6",
            "gridcolor": "white",
            "gridwidth": 2,
            "linecolor": "white",
            "showbackground": true,
            "ticks": "",
            "zerolinecolor": "white"
           },
           "yaxis": {
            "backgroundcolor": "#E5ECF6",
            "gridcolor": "white",
            "gridwidth": 2,
            "linecolor": "white",
            "showbackground": true,
            "ticks": "",
            "zerolinecolor": "white"
           },
           "zaxis": {
            "backgroundcolor": "#E5ECF6",
            "gridcolor": "white",
            "gridwidth": 2,
            "linecolor": "white",
            "showbackground": true,
            "ticks": "",
            "zerolinecolor": "white"
           }
          },
          "shapedefaults": {
           "line": {
            "color": "#2a3f5f"
           }
          },
          "ternary": {
           "aaxis": {
            "gridcolor": "white",
            "linecolor": "white",
            "ticks": ""
           },
           "baxis": {
            "gridcolor": "white",
            "linecolor": "white",
            "ticks": ""
           },
           "bgcolor": "#E5ECF6",
           "caxis": {
            "gridcolor": "white",
            "linecolor": "white",
            "ticks": ""
           }
          },
          "title": {
           "x": 0.05
          },
          "xaxis": {
           "automargin": true,
           "gridcolor": "white",
           "linecolor": "white",
           "ticks": "",
           "title": {
            "standoff": 15
           },
           "zerolinecolor": "white",
           "zerolinewidth": 2
          },
          "yaxis": {
           "automargin": true,
           "gridcolor": "white",
           "linecolor": "white",
           "ticks": "",
           "title": {
            "standoff": 15
           },
           "zerolinecolor": "white",
           "zerolinewidth": 2
          }
         }
        },
        "xaxis": {
         "anchor": "y",
         "domain": [
          0,
          1
         ],
         "title": {
          "text": "year"
         }
        },
        "yaxis": {
         "anchor": "x",
         "domain": [
          0,
          1
         ],
         "title": {
          "text": "share_votes_far_any"
         }
        }
       }
      }
     },
     "metadata": {},
     "output_type": "display_data"
    }
   ],
   "source": [
    "only_elections.plot.scatter(x=\"year\", y=\"share_votes_far_any\", color=\"country\")"
   ]
  },
  {
   "cell_type": "code",
   "execution_count": null,
   "id": "70652460",
   "metadata": {},
   "outputs": [],
   "source": []
  }
 ],
 "metadata": {
  "kernelspec": {
   "display_name": "hsg-spring2025",
   "language": "python",
   "name": "python3"
  },
  "language_info": {
   "codemirror_mode": {
    "name": "ipython",
    "version": 3
   },
   "file_extension": ".py",
   "mimetype": "text/x-python",
   "name": "python",
   "nbconvert_exporter": "python",
   "pygments_lexer": "ipython3",
   "version": "3.12.6"
  }
 },
 "nbformat": 4,
 "nbformat_minor": 5
}
